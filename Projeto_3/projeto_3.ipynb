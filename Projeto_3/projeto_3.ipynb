{
 "cells": [
  {
   "cell_type": "markdown",
   "metadata": {},
   "source": [
    "# Projeto prático 3 \n",
    "\n",
    "<strong> Disciplina: </strong> Redes Neurais Artificiais <br>\n",
    "<strong> Objetivo: </strong>Treinamento de um neurônio perceptron.</strong> <br>\n",
    "<strong> Alunos </strong>\n",
    "* Juliany Raiol (1515310506)\n",
    "* Gabriel Faraco (151531040)"
   ]
  },
  {
   "cell_type": "code",
   "execution_count": 3,
   "metadata": {},
   "outputs": [],
   "source": [
    "import numpy as np\n",
    "import pandas as pd\n",
    "import matplotlib.pyplot as plt"
   ]
  },
  {
   "cell_type": "markdown",
   "metadata": {},
   "source": [
    "##  1. Algoritmo de treinamento do Perceptron"
   ]
  },
  {
   "cell_type": "code",
   "execution_count": 4,
   "metadata": {},
   "outputs": [],
   "source": [
    "def step_function(u):\n",
    "    if(u >= 0):\n",
    "        return 1\n",
    "    return 0"
   ]
  },
  {
   "cell_type": "code",
   "execution_count": 5,
   "metadata": {},
   "outputs": [],
   "source": [
    "def synapses(N, e, W):\n",
    "    \n",
    "    '''\n",
    "    Nesta função é realizado o treinamento perceptron.\n",
    "        * N é a taxa de aprendizado\n",
    "        * e é a taxa de erro\n",
    "        * W são os pesos de entrada\n",
    "        * yd é o Y desejado\n",
    "    '''\n",
    "    \n",
    "    epoch = 1\n",
    "    iscomplet = 0\n",
    "    update = 0\n",
    "\n",
    "    while(iscomplet != 4):\n",
    "\n",
    "        print(\"Epoca ============> \", epoch)\n",
    "        print(\"Vetor de pesos:\", W)\n",
    "    \n",
    "        islearn = 0\n",
    "        wrong   = 0\n",
    "\n",
    "        for i in range(4):\n",
    "        \n",
    "            xi = X[i]\n",
    "        \n",
    "            yd = Y[i]\n",
    "\n",
    "            u  = np.dot(xi, W) # Soma ponderada\n",
    "            y  = step_function(u)\n",
    "            \n",
    "            e  = yd - y\n",
    "            W  = W + N*e*xi # Função delta\n",
    "            \n",
    "            if(not e):\n",
    "                islearn+=1\n",
    "            else: \n",
    "                wrong+=1\n",
    "                update+=1\n",
    "                \n",
    "\n",
    "        print(\"Exemplos corretos:\", islearn)\n",
    "        print(\"Exemplos incorretos:\", wrong)\n",
    "\n",
    "        iscomplet = islearn\n",
    "        epoch+=1\n",
    "\n",
    "        print(\"\\n\\n\")    \n",
    "        \n",
    "    return (W, epoch, update)"
   ]
  },
  {
   "cell_type": "markdown",
   "metadata": {},
   "source": [
    "## 2. Função para visualização dos gráficos"
   ]
  },
  {
   "cell_type": "code",
   "execution_count": 6,
   "metadata": {},
   "outputs": [],
   "source": [
    "def plotpredict(X, Y, W):\n",
    "    '''\n",
    "    O objetivo desta função é realizar a plotagem do gráfico. \n",
    "    Primeiro os pontos são inseridos e, por fim, a reta e mostrada.\n",
    "    '''\n",
    "    color = ['^b', '^r']\n",
    "    \n",
    "    for k in range(4):\n",
    "        inputs = X[k]\n",
    "        plt.plot(inputs[1], inputs[2], color[Y[k]])\n",
    "    \n",
    "    x = np.random.uniform(-0.5, 2.1, 20)\n",
    "    \n",
    "    y = W[0]/W[2] - (W[1]/W[2]) * x\n",
    "    plt.plot(x, y)\n",
    "    plt.xlabel('Coordenada x1')\n",
    "    plt.ylabel('Coordenada x2')"
   ]
  },
  {
   "cell_type": "markdown",
   "metadata": {},
   "source": [
    "## Entrada"
   ]
  },
  {
   "cell_type": "code",
   "execution_count": 7,
   "metadata": {},
   "outputs": [],
   "source": [
    "'''\n",
    "X é o vetor de entrada\n",
    "Y são as classes\n",
    "'''\n",
    "\n",
    "X = [[-1,0,0],[-1,0,1],[-1,1,0],[-1,1,1]]\n",
    "\n",
    "for i in range (len (X)):\n",
    "    X[i] = np . asarray (X[i])\n",
    "\n",
    "Y = [1,1,1,0]"
   ]
  },
  {
   "cell_type": "code",
   "execution_count": 8,
   "metadata": {},
   "outputs": [],
   "source": [
    "'''\n",
    "N é a taxa de aprendizado\n",
    "e é a taxa de erro\n",
    "W são os pesos de entrada\n",
    "'''\n",
    "\n",
    "N = 0.1\n",
    "e = 1\n",
    "W = np.random.uniform(-0.5, 0.51, 3)"
   ]
  },
  {
   "cell_type": "markdown",
   "metadata": {},
   "source": [
    "## Saída"
   ]
  },
  {
   "cell_type": "code",
   "execution_count": 9,
   "metadata": {},
   "outputs": [
    {
     "name": "stdout",
     "output_type": "stream",
     "text": [
      "Epoca ============>  1\n",
      "Vetor de pesos: [0.27929923 0.23450045 0.49916734]\n",
      "Exemplos corretos: 2\n",
      "Exemplos incorretos: 2\n",
      "\n",
      "\n",
      "\n",
      "Epoca ============>  2\n",
      "Vetor de pesos: [0.27929923 0.13450045 0.39916734]\n",
      "Exemplos corretos: 1\n",
      "Exemplos incorretos: 3\n",
      "\n",
      "\n",
      "\n",
      "Epoca ============>  3\n",
      "Vetor de pesos: [0.17929923 0.13450045 0.29916734]\n",
      "Exemplos corretos: 2\n",
      "Exemplos incorretos: 2\n",
      "\n",
      "\n",
      "\n",
      "Epoca ============>  4\n",
      "Vetor de pesos: [0.17929923 0.03450045 0.19916734]\n",
      "Exemplos corretos: 1\n",
      "Exemplos incorretos: 3\n",
      "\n",
      "\n",
      "\n",
      "Epoca ============>  5\n",
      "Vetor de pesos: [0.07929923 0.03450045 0.09916734]\n",
      "Exemplos corretos: 2\n",
      "Exemplos incorretos: 2\n",
      "\n",
      "\n",
      "\n",
      "Epoca ============>  6\n",
      "Vetor de pesos: [ 0.07929923 -0.06549955 -0.00083266]\n",
      "Exemplos corretos: 1\n",
      "Exemplos incorretos: 3\n",
      "\n",
      "\n",
      "\n",
      "Epoca ============>  7\n",
      "Vetor de pesos: [-0.02070077 -0.06549955 -0.10083266]\n",
      "Exemplos corretos: 2\n",
      "Exemplos incorretos: 2\n",
      "\n",
      "\n",
      "\n",
      "Epoca ============>  8\n",
      "Vetor de pesos: [-0.02070077 -0.16549955 -0.10083266]\n",
      "Exemplos corretos: 1\n",
      "Exemplos incorretos: 3\n",
      "\n",
      "\n",
      "\n",
      "Epoca ============>  9\n",
      "Vetor de pesos: [-0.12070077 -0.16549955 -0.10083266]\n",
      "Exemplos corretos: 2\n",
      "Exemplos incorretos: 2\n",
      "\n",
      "\n",
      "\n",
      "Epoca ============>  10\n",
      "Vetor de pesos: [-0.12070077 -0.16549955 -0.20083266]\n",
      "Exemplos corretos: 3\n",
      "Exemplos incorretos: 1\n",
      "\n",
      "\n",
      "\n",
      "Epoca ============>  11\n",
      "Vetor de pesos: [-0.22070077 -0.16549955 -0.10083266]\n",
      "Exemplos corretos: 4\n",
      "Exemplos incorretos: 0\n",
      "\n",
      "\n",
      "\n",
      "Quantidade de épocas até a convergência: 11\n",
      "Quantas vezes houve ajuste em W: 23\n"
     ]
    }
   ],
   "source": [
    "W, epoch, update = synapses(N, e, W)\n",
    "\n",
    "print(\"Quantidade de épocas até a convergência:\", epoch-1)\n",
    "print(\"Quantas vezes houve ajuste em W:\", update)"
   ]
  },
  {
   "cell_type": "code",
   "execution_count": 10,
   "metadata": {},
   "outputs": [
    {
     "data": {
      "text/plain": [
       "([array([-1,  0,  0]),\n",
       "  array([-1,  0,  1]),\n",
       "  array([-1,  1,  0]),\n",
       "  array([-1,  1,  1])],\n",
       " [1, 1, 1, 0],\n",
       " array([-0.22070077, -0.16549955, -0.10083266]))"
      ]
     },
     "execution_count": 10,
     "metadata": {},
     "output_type": "execute_result"
    }
   ],
   "source": [
    "X, Y, W"
   ]
  },
  {
   "cell_type": "markdown",
   "metadata": {},
   "source": [
    "## 3. Visualizando a fronteira dos gráficos"
   ]
  },
  {
   "cell_type": "code",
   "execution_count": 11,
   "metadata": {},
   "outputs": [
    {
     "data": {
      "image/png": "[encoded data removed]",
      "text/plain": [
       "<Figure size 432x288 with 1 Axes>"
      ]
     },
     "metadata": {},
     "output_type": "display_data"
    }
   ],
   "source": [
    "plotpredict(X, Y, W)"
   ]
  },
  {
   "cell_type": "markdown",
   "metadata": {},
   "source": [
    "## 4. Função de Ativação"
   ]
  },
  {
   "cell_type": "code",
   "execution_count": 81,
   "metadata": {},
   "outputs": [
    {
     "data": {
      "text/plain": [
       "array([-1.50000000e+00, -1.40000000e+00, -1.30000000e+00, -1.20000000e+00,\n",
       "       -1.10000000e+00, -1.00000000e+00, -9.00000000e-01, -8.00000000e-01,\n",
       "       -7.00000000e-01, -6.00000000e-01, -5.00000000e-01, -4.00000000e-01,\n",
       "       -3.00000000e-01, -2.00000000e-01, -1.00000000e-01,  1.33226763e-15,\n",
       "        1.00000000e-01,  2.00000000e-01,  3.00000000e-01,  4.00000000e-01,\n",
       "        5.00000000e-01,  6.00000000e-01,  7.00000000e-01,  8.00000000e-01,\n",
       "        9.00000000e-01,  1.00000000e+00,  1.10000000e+00,  1.20000000e+00,\n",
       "        1.30000000e+00,  1.40000000e+00])"
      ]
     },
     "execution_count": 81,
     "metadata": {},
     "output_type": "execute_result"
    }
   ],
   "source": [
    "x = np.arange(-1.5, 1.5, 0.1)\n",
    "x"
   ]
  },
  {
   "cell_type": "code",
   "execution_count": 83,
   "metadata": {},
   "outputs": [],
   "source": [
    "def degrau(x):\n",
    "    if(x >= 0.5):\n",
    "        return 1\n",
    "    return 0"
   ]
  },
  {
   "cell_type": "code",
   "execution_count": 84,
   "metadata": {},
   "outputs": [
    {
     "data": {
      "image/png": "[encoded data removed]",
      "text/plain": [
       "<Figure size 432x288 with 1 Axes>"
      ]
     },
     "metadata": {},
     "output_type": "display_data"
    }
   ],
   "source": [
    "y = [degrau(value) for value in x]\n",
    "\n",
    "plt.plot(x, y)\n",
    "\n",
    "plt.xlabel('Eixo X')\n",
    "plt.ylabel('Eixo Y')\n",
    "plt.title('Função Degrau')\n",
    "plt.grid()\n",
    "\n",
    "plt.show()"
   ]
  },
  {
   "cell_type": "code",
   "execution_count": 89,
   "metadata": {},
   "outputs": [],
   "source": [
    "def sigmoid(x):\n",
    "    return 1/(1+np.exp(-x))"
   ]
  },
  {
   "cell_type": "code",
   "execution_count": 99,
   "metadata": {},
   "outputs": [
    {
     "data": {
      "image/png": "[encoded data removed]",
      "text/plain": [
       "<Figure size 432x288 with 1 Axes>"
      ]
     },
     "metadata": {},
     "output_type": "display_data"
    }
   ],
   "source": [
    "y1 = [sigmoid(value) for value in x]\n",
    "y2 = [sigmoid(value)*5 for value in x]\n",
    "y3 = [sigmoid(value)*7 for value in x]\n",
    "\n",
    "plt.plot(x, y1)\n",
    "plt.plot(x, y2)\n",
    "plt.plot(x, y3)\n",
    "\n",
    "plt.xlabel('Eixo X')\n",
    "plt.ylabel('Eixo Y')\n",
    "\n",
    "plt.title('Função Sigmoidal')\n",
    "plt.grid()\n",
    "plt.show()"
   ]
  },
  {
   "cell_type": "code",
   "execution_count": 15,
   "metadata": {},
   "outputs": [
    {
     "data": {
      "image/png": "[encoded data removed]",
      "text/plain": [
       "<Figure size 432x288 with 1 Axes>"
      ]
     },
     "metadata": {},
     "output_type": "display_data"
    }
   ],
   "source": [
    "def ReLU(x):\n",
    "    return np.maximum(0.0, x)\n",
    "\n",
    "Z = np.linspace(-1.5, 3)\n",
    "plt.plot(Z, ReLU(Z))\n",
    "plt.xlabel('Eixo X')\n",
    "plt.ylabel('Eixo Y')\n",
    "plt.title('Função ReLU')\n",
    "plt.grid()\n",
    "plt.show()"
   ]
  },
  {
   "cell_type": "code",
   "execution_count": 76,
   "metadata": {},
   "outputs": [
    {
     "data": {
      "image/png": "[encoded data removed]",
      "text/plain": [
       "<Figure size 432x288 with 1 Axes>"
      ]
     },
     "metadata": {},
     "output_type": "display_data"
    }
   ],
   "source": [
    "def tanh(x):\n",
    "    return np.tanh(x)\n",
    "\n",
    "\n",
    "X = np.linspace(-1.5, 1.5)\n",
    "plt.plot(X, tanh(X))\n",
    "plt.title('Função Tangente Hiperbólica')\n",
    "plt.grid()\n",
    "plt.show()"
   ]
  },
  {
   "cell_type": "code",
   "execution_count": null,
   "metadata": {},
   "outputs": [],
   "source": []
  }
 ],
 "metadata": {
  "kernelspec": {
   "display_name": "Python 3",
   "language": "python",
   "name": "python3"
  },
  "language_info": {
   "codemirror_mode": {
    "name": "ipython",
    "version": 3
   },
   "file_extension": ".py",
   "mimetype": "text/x-python",
   "name": "python",
   "nbconvert_exporter": "python",
   "pygments_lexer": "ipython3",
   "version": "3.6.5"
  }
 },
 "nbformat": 4,
 "nbformat_minor": 2
}
