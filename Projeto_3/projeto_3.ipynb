{
 "cells": [
  {
   "cell_type": "code",
   "execution_count": 729,
   "metadata": {},
   "outputs": [],
   "source": [
    "import numpy as np\n",
    "import pandas as pd\n",
    "import matplotlib.pyplot as plt"
   ]
  },
  {
   "cell_type": "code",
   "execution_count": 730,
   "metadata": {},
   "outputs": [],
   "source": [
    "def stepfunction(u, threshold):\n",
    "    if(u >= threshold):\n",
    "        return 1\n",
    "    return 0"
   ]
  },
  {
   "cell_type": "code",
   "execution_count": 731,
   "metadata": {},
   "outputs": [],
   "source": [
    "def synapses(N, W, threshold):\n",
    "    epoch = 1\n",
    "    iscomplet = 0\n",
    "    update = 0\n",
    "\n",
    "    while(iscomplet != 4):\n",
    "\n",
    "        print(\"Epoca\", epoch)\n",
    "        print(\"Vetor de pesos:\", W)\n",
    "    \n",
    "        islearn = 0\n",
    "        wrong = 0\n",
    "\n",
    "        for i in range(4):\n",
    "            xi = X[i]\n",
    "        \n",
    "            yd = Y[i]\n",
    "\n",
    "            u  = np.dot(xi, W)\n",
    "            y = stepfunction(u, threshold)\n",
    "\n",
    "            e  = yd - y\n",
    "            W  = W + N*e*xi\n",
    "\n",
    "            if(not e):\n",
    "                islearn+=1\n",
    "            else: \n",
    "                wrong+=1\n",
    "                update+=1\n",
    "\n",
    "        print(\"Exemplos corretos:\", islearn)\n",
    "        print(\"Exemplos incorretos:\", wrong)\n",
    "\n",
    "        iscomplet = islearn\n",
    "        epoch+=1\n",
    "\n",
    "        print(\"\\n\\n\")\n",
    "\n",
    "    print(\"Quantidade de épocas até a convergência:\", epoch-1)\n",
    "    print(\"Quantas vezes houve ajuste em W:\", update)"
   ]
  },
  {
   "cell_type": "code",
   "execution_count": 732,
   "metadata": {},
   "outputs": [],
   "source": [
    "def plotpredict(X, Y, W):\n",
    "    \n",
    "    color = ['^b', '^r']\n",
    "    \n",
    "    for k in range(4):\n",
    "        \n",
    "        inputs = X[k]\n",
    "\n",
    "        plt.plot(inputs[1], inputs[2], color[Y[k]])\n",
    "        \n",
    "\n",
    "    for i in range(4):\n",
    "        \n",
    "        x = X[i].reshape((3,1))\n",
    "        y = W[0]/W[2] - (W[1]/W[2]) * x\n",
    "        \n",
    "        plt.plot(x, y)\n",
    "        \n",
    "        plt.xlabel('Coordenada x1')\n",
    "        plt.ylabel('Coordenada x2')"
   ]
  },
  {
   "cell_type": "code",
   "execution_count": 733,
   "metadata": {},
   "outputs": [],
   "source": [
    "X = [[-1,0,0],[-1,0,1],[-1,1,0],[-1,1,1]]\n",
    "for i in range (len (X)):\n",
    "    X[i] = np . asarray (X[i])\n",
    "Y = [1,1,1,0]"
   ]
  },
  {
   "cell_type": "code",
   "execution_count": 734,
   "metadata": {},
   "outputs": [
    {
     "data": {
      "text/plain": [
       "array([-0.35278785,  0.45101102,  0.14458178])"
      ]
     },
     "execution_count": 734,
     "metadata": {},
     "output_type": "execute_result"
    }
   ],
   "source": [
    "N = 0.1\n",
    "e = 1\n",
    "W = np.random.uniform(-0.5, 0.51, 3)\n",
    "W"
   ]
  },
  {
   "cell_type": "code",
   "execution_count": 735,
   "metadata": {},
   "outputs": [
    {
     "name": "stdout",
     "output_type": "stream",
     "text": [
      "Epoca 1\n",
      "Vetor de pesos: [-0.35278785  0.45101102  0.14458178]\n",
      "Exemplos corretos: 3\n",
      "Exemplos incorretos: 1\n",
      "\n",
      "\n",
      "\n",
      "Epoca 2\n",
      "Vetor de pesos: [-0.25278785  0.35101102  0.04458178]\n",
      "Exemplos corretos: 3\n",
      "Exemplos incorretos: 1\n",
      "\n",
      "\n",
      "\n",
      "Epoca 3\n",
      "Vetor de pesos: [-0.15278785  0.25101102 -0.05541822]\n",
      "Exemplos corretos: 3\n",
      "Exemplos incorretos: 1\n",
      "\n",
      "\n",
      "\n",
      "Epoca 4\n",
      "Vetor de pesos: [-0.05278785  0.15101102 -0.15541822]\n",
      "Exemplos corretos: 2\n",
      "Exemplos incorretos: 2\n",
      "\n",
      "\n",
      "\n",
      "Epoca 5\n",
      "Vetor de pesos: [-0.05278785  0.05101102 -0.15541822]\n",
      "Exemplos corretos: 2\n",
      "Exemplos incorretos: 2\n",
      "\n",
      "\n",
      "\n",
      "Epoca 6\n",
      "Vetor de pesos: [-0.05278785 -0.04898898 -0.15541822]\n",
      "Exemplos corretos: 2\n",
      "Exemplos incorretos: 2\n",
      "\n",
      "\n",
      "\n",
      "Epoca 7\n",
      "Vetor de pesos: [-0.05278785 -0.14898898 -0.15541822]\n",
      "Exemplos corretos: 3\n",
      "Exemplos incorretos: 1\n",
      "\n",
      "\n",
      "\n",
      "Epoca 8\n",
      "Vetor de pesos: [-0.15278785 -0.14898898 -0.05541822]\n",
      "Exemplos corretos: 4\n",
      "Exemplos incorretos: 0\n",
      "\n",
      "\n",
      "\n",
      "Quantidade de épocas até a convergência: 8\n",
      "Quantas vezes houve ajuste em W: 10\n"
     ]
    }
   ],
   "source": [
    "synapses(N, W, 0)"
   ]
  },
  {
   "cell_type": "code",
   "execution_count": 736,
   "metadata": {},
   "outputs": [
    {
     "data": {
      "text/plain": [
       "([array([-1,  0,  0]),\n",
       "  array([-1,  0,  1]),\n",
       "  array([-1,  1,  0]),\n",
       "  array([-1,  1,  1])],\n",
       " [1, 1, 1, 0],\n",
       " array([-0.35278785,  0.45101102,  0.14458178]))"
      ]
     },
     "execution_count": 736,
     "metadata": {},
     "output_type": "execute_result"
    }
   ],
   "source": [
    "X, Y, W"
   ]
  },
  {
   "cell_type": "code",
   "execution_count": 737,
   "metadata": {},
   "outputs": [
    {
     "data": {
      "image/png": "[encoded data removed]",
      "text/plain": [
       "<Figure size 432x288 with 1 Axes>"
      ]
     },
     "metadata": {},
     "output_type": "display_data"
    }
   ],
   "source": [
    "plotpredict(X, Y, W)"
   ]
  },
  {
   "cell_type": "code",
   "execution_count": null,
   "metadata": {},
   "outputs": [],
   "source": []
  },
  {
   "cell_type": "code",
   "execution_count": null,
   "metadata": {},
   "outputs": [],
   "source": []
  }
 ],
 "metadata": {
  "kernelspec": {
   "display_name": "Python 3",
   "language": "python",
   "name": "python3"
  },
  "language_info": {
   "codemirror_mode": {
    "name": "ipython",
    "version": 3
   },
   "file_extension": ".py",
   "mimetype": "text/x-python",
   "name": "python",
   "nbconvert_exporter": "python",
   "pygments_lexer": "ipython3",
   "version": "3.6.5"
  }
 },
 "nbformat": 4,
 "nbformat_minor": 2
}
