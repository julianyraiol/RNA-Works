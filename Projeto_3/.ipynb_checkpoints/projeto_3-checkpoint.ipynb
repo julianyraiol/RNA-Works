{
 "cells": [
  {
   "cell_type": "code",
   "execution_count": 126,
   "metadata": {},
   "outputs": [],
   "source": [
    "import numpy as np\n",
    "import pandas as pd\n",
    "import matplotlib.pyplot as plt"
   ]
  },
  {
   "cell_type": "code",
   "execution_count": 127,
   "metadata": {},
   "outputs": [],
   "source": [
    "def stepfunction(u, threshold):\n",
    "    if(u >= threshold):\n",
    "        return 1\n",
    "    return 0"
   ]
  },
  {
   "cell_type": "code",
   "execution_count": 128,
   "metadata": {},
   "outputs": [],
   "source": [
    "def synapses(N, W, threshold):\n",
    "    epoch = 1\n",
    "    iscomplet = 0\n",
    "    update = 0\n",
    "\n",
    "    while(iscomplet != 4):\n",
    "\n",
    "        print(\"Epoca\", epoch)\n",
    "        print(\"Vetor de pesos:\", W)\n",
    "    \n",
    "        islearn = 0\n",
    "        wrong = 0\n",
    "\n",
    "        for i in range(4):\n",
    "            xi = X[i]\n",
    "        \n",
    "            yd = Y[i]\n",
    "\n",
    "            u  = np.dot(xi, W)\n",
    "            y = stepfunction(u, threshold)\n",
    "            \n",
    "\n",
    "            e  = yd - y\n",
    "            W  = W + N*e*xi\n",
    "            \n",
    "            if(not e):\n",
    "                islearn+=1\n",
    "            else: \n",
    "                wrong+=1\n",
    "                update+=1\n",
    "                \n",
    "\n",
    "        print(\"Exemplos corretos:\", islearn)\n",
    "        print(\"Exemplos incorretos:\", wrong)\n",
    "\n",
    "        iscomplet = islearn\n",
    "        epoch+=1\n",
    "\n",
    "        print(\"\\n\\n\")\n",
    "\n",
    "    print(\"Quantidade de épocas até a convergência:\", epoch-1)\n",
    "    print(\"Quantas vezes houve ajuste em W:\", update)\n",
    "    \n",
    "    return W"
   ]
  },
  {
   "cell_type": "code",
   "execution_count": 129,
   "metadata": {},
   "outputs": [],
   "source": [
    "def plotpredict(X, Y, W):\n",
    "    \n",
    "    color = ['^b', '^r']\n",
    "    \n",
    "    for k in range(4):\n",
    "        \n",
    "        inputs = X[k]\n",
    "\n",
    "        plt.plot(inputs[1], inputs[2], color[Y[k]])\n",
    "        \n",
    "\n",
    "    x = np.random.uniform(-0.5, 2.1, 20)\n",
    "  \n",
    "    for i in range(4):\n",
    "        \n",
    "        \n",
    "        y = W[0]/W[2] - (W[1]/W[2]) * x\n",
    "        \n",
    "        plt.plot(x, y)\n",
    "        \n",
    "        plt.xlabel('Coordenada x1')\n",
    "        plt.ylabel('Coordenada x2')"
   ]
  },
  {
   "cell_type": "code",
   "execution_count": 130,
   "metadata": {},
   "outputs": [],
   "source": [
    "X = [[-1,0,0],[-1,0,1],[-1,1,0],[-1,1,1]]\n",
    "for i in range (len (X)):\n",
    "    X[i] = np . asarray (X[i])\n",
    "Y = [1,1,1,0]"
   ]
  },
  {
   "cell_type": "code",
   "execution_count": 131,
   "metadata": {},
   "outputs": [
    {
     "data": {
      "text/plain": [
       "array([ 0.0416847 ,  0.10788921, -0.04797646])"
      ]
     },
     "execution_count": 131,
     "metadata": {},
     "output_type": "execute_result"
    }
   ],
   "source": [
    "N = 0.1\n",
    "e = 1\n",
    "W = np.random.uniform(-0.5, 0.51, 3)\n",
    "W"
   ]
  },
  {
   "cell_type": "code",
   "execution_count": 132,
   "metadata": {},
   "outputs": [
    {
     "name": "stdout",
     "output_type": "stream",
     "text": [
      "Epoca 1\n",
      "Vetor de pesos: [ 0.0416847   0.10788921 -0.04797646]\n",
      "Exemplos corretos: 2\n",
      "Exemplos incorretos: 2\n",
      "\n",
      "\n",
      "\n",
      "Epoca 2\n",
      "Vetor de pesos: [ 0.0416847   0.00788921 -0.14797646]\n",
      "Exemplos corretos: 1\n",
      "Exemplos incorretos: 3\n",
      "\n",
      "\n",
      "\n",
      "Epoca 3\n",
      "Vetor de pesos: [-0.0583153  -0.09211079 -0.14797646]\n",
      "Exemplos corretos: 2\n",
      "Exemplos incorretos: 2\n",
      "\n",
      "\n",
      "\n",
      "Epoca 4\n",
      "Vetor de pesos: [-0.0583153  -0.19211079 -0.14797646]\n",
      "Exemplos corretos: 1\n",
      "Exemplos incorretos: 3\n",
      "\n",
      "\n",
      "\n",
      "Epoca 5\n",
      "Vetor de pesos: [-0.1583153  -0.19211079 -0.14797646]\n",
      "Exemplos corretos: 2\n",
      "Exemplos incorretos: 2\n",
      "\n",
      "\n",
      "\n",
      "Epoca 6\n",
      "Vetor de pesos: [-0.1583153  -0.19211079 -0.24797646]\n",
      "Exemplos corretos: 3\n",
      "Exemplos incorretos: 1\n",
      "\n",
      "\n",
      "\n",
      "Epoca 7\n",
      "Vetor de pesos: [-0.2583153  -0.19211079 -0.14797646]\n",
      "Exemplos corretos: 4\n",
      "Exemplos incorretos: 0\n",
      "\n",
      "\n",
      "\n",
      "Quantidade de épocas até a convergência: 7\n",
      "Quantas vezes houve ajuste em W: 13\n"
     ]
    },
    {
     "data": {
      "text/plain": [
       "array([-0.2583153 , -0.19211079, -0.14797646])"
      ]
     },
     "execution_count": 132,
     "metadata": {},
     "output_type": "execute_result"
    }
   ],
   "source": [
    "W = synapses(N, W, 0)\n",
    "W"
   ]
  },
  {
   "cell_type": "code",
   "execution_count": 133,
   "metadata": {},
   "outputs": [
    {
     "data": {
      "text/plain": [
       "([array([-1,  0,  0]),\n",
       "  array([-1,  0,  1]),\n",
       "  array([-1,  1,  0]),\n",
       "  array([-1,  1,  1])],\n",
       " [1, 1, 1, 0],\n",
       " array([-0.2583153 , -0.19211079, -0.14797646]))"
      ]
     },
     "execution_count": 133,
     "metadata": {},
     "output_type": "execute_result"
    }
   ],
   "source": [
    "X, Y, W"
   ]
  },
  {
   "cell_type": "code",
   "execution_count": 134,
   "metadata": {},
   "outputs": [
    {
     "name": "stdout",
     "output_type": "stream",
     "text": [
      "[ 0.55670101  0.09324991  0.77357693  0.86032461  0.80190684 -0.3086406\n",
      "  1.65182307  0.57623192 -0.46666822 -0.05406051  0.24507303  0.64708629\n",
      "  1.01745612  1.9043725   1.1929313   1.61542356  1.4493254   1.68500143\n",
      "  1.88220236 -0.18225321]\n"
     ]
    },
    {
     "data": {
      "image/png": "[encoded data removed]",
      "text/plain": [
       "<Figure size 432x288 with 1 Axes>"
      ]
     },
     "metadata": {},
     "output_type": "display_data"
    }
   ],
   "source": [
    "plotpredict(X, Y, W)"
   ]
  },
  {
   "cell_type": "code",
   "execution_count": null,
   "metadata": {},
   "outputs": [],
   "source": []
  },
  {
   "cell_type": "code",
   "execution_count": null,
   "metadata": {},
   "outputs": [],
   "source": []
  }
 ],
 "metadata": {
  "kernelspec": {
   "display_name": "Python 3",
   "language": "python",
   "name": "python3"
  },
  "language_info": {
   "codemirror_mode": {
    "name": "ipython",
    "version": 3
   },
   "file_extension": ".py",
   "mimetype": "text/x-python",
   "name": "python",
   "nbconvert_exporter": "python",
   "pygments_lexer": "ipython3",
   "version": "3.6.5"
  }
 },
 "nbformat": 4,
 "nbformat_minor": 2
}
