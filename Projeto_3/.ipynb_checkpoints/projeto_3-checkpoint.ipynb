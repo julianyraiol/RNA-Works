{
 "cells": [
  {
   "cell_type": "markdown",
   "metadata": {},
   "source": [
<<<<<<< HEAD
    "## Projeto prático 3 \n",
=======
    "# Projeto prático 3 \n",
>>>>>>> 059bf0091d747c77f193dfcb556f5eebc54b70ad
    "\n",
    "<strong> Disciplina: </strong> Redes Neurais Artificiais <br>\n",
    "<strong> Objetivo: </strong>Treinamento de um neurônio perceptron.</strong> <br>\n",
    "<strong> Alunos </strong>\n",
    "* Juliany Raiol (1515310506)\n",
    "* Gabriel Faraco (151531040)"
   ]
  },
  {
   "cell_type": "code",
<<<<<<< HEAD
   "execution_count": 26,
=======
   "execution_count": 5,
>>>>>>> 059bf0091d747c77f193dfcb556f5eebc54b70ad
   "metadata": {},
   "outputs": [],
   "source": [
    "import numpy as np\n",
    "import pandas as pd\n",
    "import matplotlib.pyplot as plt"
   ]
  },
  {
   "cell_type": "markdown",
   "metadata": {},
   "source": [
<<<<<<< HEAD
    "## 1. Função para visualização dos gráficos"
=======
    "##  1. Algoritmo de treinamento do Perceptron"
>>>>>>> 059bf0091d747c77f193dfcb556f5eebc54b70ad
   ]
  },
  {
   "cell_type": "code",
<<<<<<< HEAD
   "execution_count": 43,
   "metadata": {},
   "outputs": [],
   "source": [
    "def plot_predict(X, Y, W):\n",
    "    \n",
    "    '''\n",
    "    O objetivo desta função é realizar a plotagem do gráfico\n",
    "    '''\n",
    "    color = ['^b', '^r']\n",
    "    \n",
    "    for k in range(4):\n",
    "        \n",
    "        inputs = X[k]\n",
    "\n",
    "        plt.plot(inputs[1], inputs[2], color[Y[k]])\n",
    "        \n",
    "\n",
    "    x = np.random.uniform(-0.5, 2.1, 20)\n",
    "  \n",
    "    for i in range(4):\n",
    "        \n",
    "        \n",
    "        y = W[0]/W[2] - (W[1]/W[2]) * x\n",
    "        \n",
    "        plt.plot(x, y)\n",
    "        \n",
    "        plt.xlabel('Coordenada x1')\n",
    "        plt.ylabel('Coordenada x2')"
   ]
  },
  {
   "cell_type": "markdown",
   "metadata": {},
   "source": [
    "## 2. Algoritmo Perceptron"
   ]
  },
  {
   "cell_type": "code",
   "execution_count": 92,
   "metadata": {},
   "outputs": [],
   "source": [
=======
   "execution_count": 6,
   "metadata": {},
   "outputs": [],
   "source": [
>>>>>>> 059bf0091d747c77f193dfcb556f5eebc54b70ad
    "def step_function(u):\n",
    "    if(u >= 0):\n",
    "        return 1\n",
    "    return 0"
   ]
  },
  {
   "cell_type": "code",
<<<<<<< HEAD
   "execution_count": 154,
=======
   "execution_count": 7,
>>>>>>> 059bf0091d747c77f193dfcb556f5eebc54b70ad
   "metadata": {},
   "outputs": [],
   "source": [
    "def synapses(N, e, W):\n",
    "    \n",
    "    '''\n",
    "    Nesta função é realizado o treinamento perceptron.\n",
    "        * N é a taxa de aprendizado\n",
    "        * e é a taxa de erro\n",
    "        * W são os pesos de entrada\n",
    "        * yd é o Y desejado\n",
    "    '''\n",
    "    \n",
    "    epoch = 1\n",
    "    iscomplet = 0\n",
    "    update = 0\n",
    "\n",
    "    while(iscomplet != 4):\n",
    "\n",
    "        print(\"Epoca ============> \", epoch)\n",
    "        print(\"Vetor de pesos:\", W)\n",
    "    \n",
    "        islearn = 0\n",
    "        wrong   = 0\n",
    "\n",
    "        for i in range(4):\n",
    "        \n",
    "            xi = X[i]\n",
    "        \n",
    "            yd = Y[i]\n",
    "\n",
<<<<<<< HEAD
    "            u  = np.dot(xi, W)\n",
=======
    "            u  = np.dot(xi, W) # Soma ponderada\n",
>>>>>>> 059bf0091d747c77f193dfcb556f5eebc54b70ad
    "            y  = step_function(u)\n",
    "            \n",
    "            e  = yd - y\n",
    "            W  = W + N*e*xi # Função delta\n",
    "            \n",
    "            if(not e):\n",
    "                islearn+=1\n",
    "            else: \n",
    "                wrong+=1\n",
    "                update+=1\n",
    "                \n",
    "\n",
    "        print(\"Exemplos corretos:\", islearn)\n",
    "        print(\"Exemplos incorretos:\", wrong)\n",
    "\n",
    "        iscomplet = islearn\n",
    "        epoch+=1\n",
    "\n",
    "        print(\"\\n\\n\")    \n",
    "        \n",
    "    return (W, epoch, update)"
<<<<<<< HEAD
   ]
  },
  {
   "cell_type": "markdown",
=======
   ]
  },
  {
   "cell_type": "markdown",
   "metadata": {},
   "source": [
    "## 2. Função para visualização dos gráficos"
   ]
  },
  {
   "cell_type": "code",
   "execution_count": 8,
>>>>>>> 059bf0091d747c77f193dfcb556f5eebc54b70ad
   "metadata": {},
   "source": [
<<<<<<< HEAD
=======
    "def plotpredict(X, Y, W):\n",
    "    '''\n",
    "    O objetivo desta função é realizar a plotagem do gráfico. \n",
    "    Primeiro os pontos são inseridos e, por fim, a reta e mostrada.\n",
    "    '''\n",
    "    color = ['^b', '^r']\n",
    "    \n",
    "    for k in range(4):\n",
    "        inputs = X[k]\n",
    "        plt.plot(inputs[1], inputs[2], color[Y[k]])\n",
    "    \n",
    "    x = np.random.uniform(-0.5, 2.1, 20)\n",
    "    \n",
    "    y = W[0]/W[2] - (W[1]/W[2]) * x\n",
    "    plt.plot(x, y)\n",
    "    plt.xlabel('Coordenada x1')\n",
    "    plt.ylabel('Coordenada x2')"
   ]
  },
  {
   "cell_type": "markdown",
   "metadata": {},
   "source": [
>>>>>>> 059bf0091d747c77f193dfcb556f5eebc54b70ad
    "## Entrada"
   ]
  },
  {
   "cell_type": "code",
<<<<<<< HEAD
   "execution_count": 155,
=======
   "execution_count": 9,
>>>>>>> 059bf0091d747c77f193dfcb556f5eebc54b70ad
   "metadata": {},
   "outputs": [],
   "source": [
    "'''\n",
    "X é o vetor de entrada\n",
    "Y são as classes\n",
    "'''\n",
    "\n",
    "X = [[-1,0,0],[-1,0,1],[-1,1,0],[-1,1,1]]\n",
    "\n",
    "for i in range (len (X)):\n",
    "    X[i] = np . asarray (X[i])\n",
    "\n",
    "Y = [1,1,1,0]"
   ]
  },
  {
   "cell_type": "code",
<<<<<<< HEAD
   "execution_count": 156,
=======
   "execution_count": 10,
>>>>>>> 059bf0091d747c77f193dfcb556f5eebc54b70ad
   "metadata": {},
   "outputs": [],
   "source": [
    "'''\n",
    "N é a taxa de aprendizado\n",
    "e é a taxa de erro\n",
    "W são os pesos de entrada\n",
    "'''\n",
    "\n",
    "N = 0.1\n",
    "e = 1\n",
    "W = np.random.uniform(-0.5, 0.51, 3)"
   ]
  },
  {
   "cell_type": "markdown",
   "metadata": {},
   "source": [
    "## Saída"
   ]
  },
  {
   "cell_type": "code",
<<<<<<< HEAD
   "execution_count": 157,
=======
   "execution_count": 11,
>>>>>>> 059bf0091d747c77f193dfcb556f5eebc54b70ad
   "metadata": {},
   "outputs": [
    {
     "name": "stdout",
     "output_type": "stream",
     "text": [
      "Epoca ============>  1\n",
<<<<<<< HEAD
      "Vetor de pesos: [-0.13479039  0.18289373  0.12576444]\n",
      "Exemplos corretos: 3\n",
      "Exemplos incorretos: 1\n",
      "\n",
      "\n",
=======
      "Vetor de pesos: [0.47531143 0.15228786 0.50625831]\n",
      "Exemplos corretos: 1\n",
      "Exemplos incorretos: 3\n",
      "\n",
      "\n",
      "\n",
      "Epoca ============>  2\n",
      "Vetor de pesos: [0.37531143 0.15228786 0.40625831]\n",
      "Exemplos corretos: 1\n",
      "Exemplos incorretos: 3\n",
      "\n",
      "\n",
      "\n",
      "Epoca ============>  3\n",
      "Vetor de pesos: [0.27531143 0.15228786 0.30625831]\n",
      "Exemplos corretos: 1\n",
      "Exemplos incorretos: 3\n",
      "\n",
      "\n",
      "\n",
      "Epoca ============>  4\n",
      "Vetor de pesos: [0.17531143 0.15228786 0.20625831]\n",
      "Exemplos corretos: 2\n",
      "Exemplos incorretos: 2\n",
>>>>>>> 059bf0091d747c77f193dfcb556f5eebc54b70ad
      "\n",
      "Epoca ============>  2\n",
      "Vetor de pesos: [-0.03479039  0.08289373  0.02576444]\n",
      "Exemplos corretos: 3\n",
      "Exemplos incorretos: 1\n",
      "\n",
      "\n",
<<<<<<< HEAD
      "\n",
      "Epoca ============>  3\n",
      "Vetor de pesos: [ 0.06520961 -0.01710627 -0.07423556]\n",
=======
      "Epoca ============>  5\n",
      "Vetor de pesos: [0.17531143 0.05228786 0.10625831]\n",
>>>>>>> 059bf0091d747c77f193dfcb556f5eebc54b70ad
      "Exemplos corretos: 1\n",
      "Exemplos incorretos: 3\n",
      "\n",
      "\n",
      "\n",
<<<<<<< HEAD
      "Epoca ============>  4\n",
      "Vetor de pesos: [-0.03479039 -0.11710627 -0.07423556]\n",
=======
      "Epoca ============>  6\n",
      "Vetor de pesos: [0.07531143 0.05228786 0.00625831]\n",
>>>>>>> 059bf0091d747c77f193dfcb556f5eebc54b70ad
      "Exemplos corretos: 2\n",
      "Exemplos incorretos: 2\n",
      "\n",
      "\n",
      "\n",
<<<<<<< HEAD
      "Epoca ============>  5\n",
      "Vetor de pesos: [-0.03479039 -0.21710627 -0.07423556]\n",
=======
      "Epoca ============>  7\n",
      "Vetor de pesos: [ 0.07531143 -0.04771214 -0.09374169]\n",
      "Exemplos corretos: 1\n",
      "Exemplos incorretos: 3\n",
      "\n",
      "\n",
      "\n",
      "Epoca ============>  8\n",
      "Vetor de pesos: [-0.02468857 -0.14771214 -0.09374169]\n",
>>>>>>> 059bf0091d747c77f193dfcb556f5eebc54b70ad
      "Exemplos corretos: 1\n",
      "Exemplos incorretos: 3\n",
      "\n",
      "\n",
      "\n",
<<<<<<< HEAD
      "Epoca ============>  6\n",
      "Vetor de pesos: [-0.13479039 -0.21710627 -0.07423556]\n",
=======
      "Epoca ============>  9\n",
      "Vetor de pesos: [-0.12468857 -0.14771214 -0.09374169]\n",
>>>>>>> 059bf0091d747c77f193dfcb556f5eebc54b70ad
      "Exemplos corretos: 2\n",
      "Exemplos incorretos: 2\n",
      "\n",
      "\n",
      "\n",
<<<<<<< HEAD
      "Epoca ============>  7\n",
      "Vetor de pesos: [-0.13479039 -0.21710627 -0.17423556]\n",
=======
      "Epoca ============>  10\n",
      "Vetor de pesos: [-0.12468857 -0.14771214 -0.19374169]\n",
>>>>>>> 059bf0091d747c77f193dfcb556f5eebc54b70ad
      "Exemplos corretos: 3\n",
      "Exemplos incorretos: 1\n",
      "\n",
      "\n",
      "\n",
<<<<<<< HEAD
      "Epoca ============>  8\n",
      "Vetor de pesos: [-0.23479039 -0.21710627 -0.07423556]\n",
=======
      "Epoca ============>  11\n",
      "Vetor de pesos: [-0.22468857 -0.14771214 -0.09374169]\n",
>>>>>>> 059bf0091d747c77f193dfcb556f5eebc54b70ad
      "Exemplos corretos: 4\n",
      "Exemplos incorretos: 0\n",
      "\n",
      "\n",
      "\n",
<<<<<<< HEAD
      "Quantidade de épocas até a convergência: 8\n",
      "Quantas vezes houve ajuste em W: 13\n"
=======
      "Quantidade de épocas até a convergência: 11\n",
      "Quantas vezes houve ajuste em W: 25\n"
>>>>>>> 059bf0091d747c77f193dfcb556f5eebc54b70ad
     ]
    }
   ],
   "source": [
    "W, epoch, update = synapses(N, e, W)\n",
    "\n",
    "print(\"Quantidade de épocas até a convergência:\", epoch-1)\n",
    "print(\"Quantas vezes houve ajuste em W:\", update)"
   ]
  },
  {
<<<<<<< HEAD
   "cell_type": "markdown",
=======
   "cell_type": "code",
   "execution_count": 12,
>>>>>>> 059bf0091d747c77f193dfcb556f5eebc54b70ad
   "metadata": {},
   "source": [
    "## 3. Visualizando a Fronteira de Decisão"
   ]
  },
  {
   "cell_type": "code",
   "execution_count": 158,
   "metadata": {
    "scrolled": true
   },
   "outputs": [
    {
     "data": {
      "image/png": "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\n",
      "text/plain": [
<<<<<<< HEAD
       "<Figure size 432x288 with 1 Axes>"
      ]
     },
=======
       "([array([-1,  0,  0]),\n",
       "  array([-1,  0,  1]),\n",
       "  array([-1,  1,  0]),\n",
       "  array([-1,  1,  1])],\n",
       " [1, 1, 1, 0],\n",
       " array([-0.22468857, -0.14771214, -0.09374169]))"
      ]
     },
     "execution_count": 12,
>>>>>>> 059bf0091d747c77f193dfcb556f5eebc54b70ad
     "metadata": {},
     "output_type": "display_data"
    }
   ],
   "source": [
    "plotpredict(X, Y, W)"
   ]
  },
  {
   "cell_type": "markdown",
   "metadata": {},
   "source": [
    "## 3. Funções de Ativação"
   ]
  },
  {
   "cell_type": "markdown",
   "metadata": {},
   "source": [
    "## 3. Visualizando a fronteira dos gráficos"
   ]
  },
  {
   "cell_type": "code",
<<<<<<< HEAD
   "execution_count": 224,
=======
   "execution_count": 13,
>>>>>>> 059bf0091d747c77f193dfcb556f5eebc54b70ad
   "metadata": {},
   "outputs": [
    {
     "data": {
<<<<<<< HEAD
      "image/png": "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\n",
=======
      "image/png": "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\n",
>>>>>>> 059bf0091d747c77f193dfcb556f5eebc54b70ad
      "text/plain": [
       "<Figure size 432x288 with 1 Axes>"
      ]
     },
     "metadata": {},
     "output_type": "display_data"
    }
   ],
   "source": [
    "x = np.arange(-1.5, 1.6, 0.1)\n",
    "sigmoid = 1 / (1 + np.exp(-x))\n",
    "plt.plot(x, sigmoid)\n",
    "plt.xlabel('x')\n",
    "plt.ylabel('sigmoid(x)')\n",
    "plt.show()"
   ]
  },
  {
   "cell_type": "markdown",
   "metadata": {},
   "source": [
    "## 4. Função de Ativação"
   ]
  },
  {
   "cell_type": "code",
   "execution_count": 14,
   "metadata": {},
   "outputs": [
    {
     "data": {
      "text/plain": [
       "array([-1.50000000e+00, -1.40000000e+00, -1.30000000e+00, -1.20000000e+00,\n",
       "       -1.10000000e+00, -1.00000000e+00, -9.00000000e-01, -8.00000000e-01,\n",
       "       -7.00000000e-01, -6.00000000e-01, -5.00000000e-01, -4.00000000e-01,\n",
       "       -3.00000000e-01, -2.00000000e-01, -1.00000000e-01,  1.33226763e-15,\n",
       "        1.00000000e-01,  2.00000000e-01,  3.00000000e-01,  4.00000000e-01,\n",
       "        5.00000000e-01,  6.00000000e-01,  7.00000000e-01,  8.00000000e-01,\n",
       "        9.00000000e-01,  1.00000000e+00,  1.10000000e+00,  1.20000000e+00,\n",
       "        1.30000000e+00,  1.40000000e+00])"
      ]
     },
     "execution_count": 14,
     "metadata": {},
     "output_type": "execute_result"
    }
   ],
   "source": [
    "x = np.arange(-1.5, 1.5, 0.1)\n",
    "x"
   ]
  },
  {
   "cell_type": "code",
   "execution_count": 15,
   "metadata": {},
   "outputs": [],
<<<<<<< HEAD
=======
   "source": [
    "def degrau(x):\n",
    "    if(x >= 0.5):\n",
    "        return 1\n",
    "    return 0"
   ]
  },
  {
   "cell_type": "code",
   "execution_count": 16,
   "metadata": {},
   "outputs": [
    {
     "data": {
      "image/png": "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\n",
      "text/plain": [
       "<Figure size 432x288 with 1 Axes>"
      ]
     },
     "metadata": {},
     "output_type": "display_data"
    }
   ],
   "source": [
    "y = [degrau(value) for value in x]\n",
    "\n",
    "plt.plot(x, y)\n",
    "\n",
    "plt.xlabel('Eixo X')\n",
    "plt.ylabel('Eixo Y')\n",
    "plt.title('Função Degrau')\n",
    "plt.grid()\n",
    "\n",
    "plt.show()"
   ]
  },
  {
   "cell_type": "code",
   "execution_count": 17,
   "metadata": {},
   "outputs": [],
   "source": [
    "def sigmoid(x, cons):\n",
    "    return 1/(1+np.exp(-x*cons))"
   ]
  },
  {
   "cell_type": "code",
   "execution_count": 26,
   "metadata": {},
   "outputs": [
    {
     "data": {
      "image/png": "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\n",
      "text/plain": [
       "<Figure size 432x288 with 1 Axes>"
      ]
     },
     "metadata": {},
     "output_type": "display_data"
    }
   ],
   "source": [
    "y1 = [sigmoid(xi, 2) for xi in x]\n",
    "y2 = [sigmoid(xi, 6)for xi in x]\n",
    "y3 = [sigmoid(xi, 8) for xi in x]\n",
    "\n",
    "plt.plot(x, y1)\n",
    "plt.plot(x, y2)\n",
    "plt.plot(x, y3)\n",
    "\n",
    "plt.xlabel('Eixo X')\n",
    "plt.ylabel('Eixo Y')\n",
    "\n",
    "plt.title('Função Sigmoidal')\n",
    "plt.grid()\n",
    "plt.show()"
   ]
  },
  {
   "cell_type": "code",
   "execution_count": 24,
   "metadata": {},
   "outputs": [
    {
     "data": {
      "image/png": "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\n",
      "text/plain": [
       "<Figure size 432x288 with 1 Axes>"
      ]
     },
     "metadata": {},
     "output_type": "display_data"
    }
   ],
   "source": [
    "def ReLU(x):\n",
    "    return np.maximum(0.0, x)\n",
    "\n",
    "Z = np.linspace(-1.5, 3)\n",
    "plt.plot(Z, ReLU(Z))\n",
    "plt.xlabel('Eixo X')\n",
    "plt.ylabel('Eixo Y')\n",
    "plt.title('Função ReLU')\n",
    "plt.grid()\n",
    "plt.show()"
   ]
  },
  {
   "cell_type": "code",
   "execution_count": 76,
   "metadata": {},
   "outputs": [
    {
     "data": {
      "image/png": "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\n",
      "text/plain": [
       "<Figure size 432x288 with 1 Axes>"
      ]
     },
     "metadata": {},
     "output_type": "display_data"
    }
   ],
   "source": [
    "def tanh(x):\n",
    "    return np.tanh(x)\n",
    "\n",
    "\n",
    "X = np.linspace(-1.5, 1.5)\n",
    "plt.plot(X, tanh(X))\n",
    "plt.title('Função Tangente Hiperbólica')\n",
    "plt.grid()\n",
    "plt.show()"
   ]
  },
  {
   "cell_type": "code",
   "execution_count": null,
   "metadata": {},
   "outputs": [],
>>>>>>> 059bf0091d747c77f193dfcb556f5eebc54b70ad
   "source": []
  }
 ],
 "metadata": {
  "kernelspec": {
   "display_name": "Python 3",
   "language": "python",
   "name": "python3"
  },
  "language_info": {
   "codemirror_mode": {
    "name": "ipython",
    "version": 3
   },
   "file_extension": ".py",
   "mimetype": "text/x-python",
   "name": "python",
   "nbconvert_exporter": "python",
   "pygments_lexer": "ipython3",
   "version": "3.6.5"
  }
 },
 "nbformat": 4,
 "nbformat_minor": 2
}
