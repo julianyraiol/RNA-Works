{
 "cells": [
  {
   "cell_type": "markdown",
   "metadata": {},
   "source": [
    "## Projeto prático 3 \n",
    "\n",
    "<strong> Disciplina: </strong> Redes Neurais Artificiais <br>\n",
    "<strong> Objetivo: </strong>Treinamento de um neurônio perceptron.</strong> <br>\n",
    "<strong> Alunos </strong>\n",
    "* Juliany Raiol (1515310506)\n",
    "* Gabriel Faraco (151531040)"
   ]
  },
  {
   "cell_type": "code",
   "execution_count": 26,
   "metadata": {},
   "outputs": [],
   "source": [
    "import numpy as np\n",
    "import pandas as pd\n",
    "import matplotlib.pyplot as plt"
   ]
  },
  {
   "cell_type": "markdown",
   "metadata": {},
   "source": [
    "## 1. Função para visualização dos gráficos"
   ]
  },
  {
   "cell_type": "code",
   "execution_count": 43,
   "metadata": {},
   "outputs": [],
   "source": [
    "def plot_predict(X, Y, W):\n",
    "    \n",
    "    '''\n",
    "    O objetivo desta função é realizar a plotagem do gráfico\n",
    "    '''\n",
    "    color = ['^b', '^r']\n",
    "    \n",
    "    for k in range(4):\n",
    "        \n",
    "        inputs = X[k]\n",
    "\n",
    "        plt.plot(inputs[1], inputs[2], color[Y[k]])\n",
    "        \n",
    "\n",
    "    x = np.random.uniform(-0.5, 2.1, 20)\n",
    "  \n",
    "    for i in range(4):\n",
    "        \n",
    "        \n",
    "        y = W[0]/W[2] - (W[1]/W[2]) * x\n",
    "        \n",
    "        plt.plot(x, y)\n",
    "        \n",
    "        plt.xlabel('Coordenada x1')\n",
    "        plt.ylabel('Coordenada x2')"
   ]
  },
  {
   "cell_type": "markdown",
   "metadata": {},
   "source": [
    "## 2. Algoritmo Perceptron"
   ]
  },
  {
   "cell_type": "code",
   "execution_count": 92,
   "metadata": {},
   "outputs": [],
   "source": [
    "def step_function(u):\n",
    "    if(u >= 0):\n",
    "        return 1\n",
    "    return 0"
   ]
  },
  {
   "cell_type": "code",
   "execution_count": 154,
   "metadata": {},
   "outputs": [],
   "source": [
    "def synapses(N, e, W):\n",
    "    \n",
    "    '''\n",
    "    Nesta função é realizado o treinamento perceptron.\n",
    "        * N é a taxa de aprendizado\n",
    "        * e é a taxa de erro\n",
    "        * W são os pesos de entrada\n",
    "        * yd é o Y desejado\n",
    "    '''\n",
    "    \n",
    "    epoch = 1\n",
    "    iscomplet = 0\n",
    "    update = 0\n",
    "\n",
    "    while(iscomplet != 4):\n",
    "\n",
    "        print(\"Epoca ============> \", epoch)\n",
    "        print(\"Vetor de pesos:\", W)\n",
    "    \n",
    "        islearn = 0\n",
    "        wrong   = 0\n",
    "\n",
    "        for i in range(4):\n",
    "        \n",
    "            xi = X[i]\n",
    "        \n",
    "            yd = Y[i]\n",
    "\n",
    "            u  = np.dot(xi, W)\n",
    "            y  = step_function(u)\n",
    "            \n",
    "            e  = yd - y\n",
    "            W  = W + N*e*xi\n",
    "            \n",
    "            if(not e):\n",
    "                islearn+=1\n",
    "            else: \n",
    "                wrong+=1\n",
    "                update+=1\n",
    "                \n",
    "\n",
    "        print(\"Exemplos corretos:\", islearn)\n",
    "        print(\"Exemplos incorretos:\", wrong)\n",
    "\n",
    "        iscomplet = islearn\n",
    "        epoch+=1\n",
    "\n",
    "        print(\"\\n\\n\")    \n",
    "        \n",
    "    return (W, epoch, update)"
   ]
  },
  {
   "cell_type": "markdown",
   "metadata": {},
   "source": [
    "## Entrada"
   ]
  },
  {
   "cell_type": "code",
   "execution_count": 155,
   "metadata": {},
   "outputs": [],
   "source": [
    "'''\n",
    "X é o vetor de entrada\n",
    "Y são as classes\n",
    "'''\n",
    "\n",
    "X = [[-1,0,0],[-1,0,1],[-1,1,0],[-1,1,1]]\n",
    "\n",
    "for i in range (len (X)):\n",
    "    X[i] = np . asarray (X[i])\n",
    "\n",
    "Y = [1,1,1,0]"
   ]
  },
  {
   "cell_type": "code",
   "execution_count": 156,
   "metadata": {},
   "outputs": [],
   "source": [
    "'''\n",
    "N é a taxa de aprendizado\n",
    "e é a taxa de erro\n",
    "W são os pesos de entrada\n",
    "'''\n",
    "\n",
    "N = 0.1\n",
    "e = 1\n",
    "W = np.random.uniform(-0.5, 0.51, 3)"
   ]
  },
  {
   "cell_type": "markdown",
   "metadata": {},
   "source": [
    "## Saída"
   ]
  },
  {
   "cell_type": "code",
   "execution_count": 157,
   "metadata": {},
   "outputs": [
    {
     "name": "stdout",
     "output_type": "stream",
     "text": [
      "Epoca ============>  1\n",
      "Vetor de pesos: [-0.13479039  0.18289373  0.12576444]\n",
      "Exemplos corretos: 3\n",
      "Exemplos incorretos: 1\n",
      "\n",
      "\n",
      "\n",
      "Epoca ============>  2\n",
      "Vetor de pesos: [-0.03479039  0.08289373  0.02576444]\n",
      "Exemplos corretos: 3\n",
      "Exemplos incorretos: 1\n",
      "\n",
      "\n",
      "\n",
      "Epoca ============>  3\n",
      "Vetor de pesos: [ 0.06520961 -0.01710627 -0.07423556]\n",
      "Exemplos corretos: 1\n",
      "Exemplos incorretos: 3\n",
      "\n",
      "\n",
      "\n",
      "Epoca ============>  4\n",
      "Vetor de pesos: [-0.03479039 -0.11710627 -0.07423556]\n",
      "Exemplos corretos: 2\n",
      "Exemplos incorretos: 2\n",
      "\n",
      "\n",
      "\n",
      "Epoca ============>  5\n",
      "Vetor de pesos: [-0.03479039 -0.21710627 -0.07423556]\n",
      "Exemplos corretos: 1\n",
      "Exemplos incorretos: 3\n",
      "\n",
      "\n",
      "\n",
      "Epoca ============>  6\n",
      "Vetor de pesos: [-0.13479039 -0.21710627 -0.07423556]\n",
      "Exemplos corretos: 2\n",
      "Exemplos incorretos: 2\n",
      "\n",
      "\n",
      "\n",
      "Epoca ============>  7\n",
      "Vetor de pesos: [-0.13479039 -0.21710627 -0.17423556]\n",
      "Exemplos corretos: 3\n",
      "Exemplos incorretos: 1\n",
      "\n",
      "\n",
      "\n",
      "Epoca ============>  8\n",
      "Vetor de pesos: [-0.23479039 -0.21710627 -0.07423556]\n",
      "Exemplos corretos: 4\n",
      "Exemplos incorretos: 0\n",
      "\n",
      "\n",
      "\n",
      "Quantidade de épocas até a convergência: 8\n",
      "Quantas vezes houve ajuste em W: 13\n"
     ]
    }
   ],
   "source": [
    "W, epoch, update = synapses(N, e, W)\n",
    "\n",
    "print(\"Quantidade de épocas até a convergência:\", epoch-1)\n",
    "print(\"Quantas vezes houve ajuste em W:\", update)"
   ]
  },
  {
   "cell_type": "markdown",
   "metadata": {},
   "source": [
    "## 3. Visualizando a Fronteira de Decisão"
   ]
  },
  {
   "cell_type": "code",
   "execution_count": 158,
   "metadata": {
    "scrolled": true
   },
   "outputs": [
    {
     "data": {
      "image/png": "[encoded data removed]",
      "text/plain": [
       "<Figure size 432x288 with 1 Axes>"
      ]
     },
     "metadata": {},
     "output_type": "display_data"
    }
   ],
   "source": [
    "plotpredict(X, Y, W)"
   ]
  },
  {
   "cell_type": "markdown",
   "metadata": {},
   "source": [
    "## 3. Funções de Ativação"
   ]
  },
  {
   "cell_type": "code",
   "execution_count": 224,
   "metadata": {},
   "outputs": [
    {
     "data": {
      "image/png": "[encoded data removed]",
      "text/plain": [
       "<Figure size 432x288 with 1 Axes>"
      ]
     },
     "metadata": {},
     "output_type": "display_data"
    }
   ],
   "source": [
    "x = np.arange(-1.5, 1.6, 0.1)\n",
    "sigmoid = 1 / (1 + np.exp(-x))\n",
    "plt.plot(x, sigmoid)\n",
    "plt.xlabel('x')\n",
    "plt.ylabel('sigmoid(x)')\n",
    "plt.show()"
   ]
  },
  {
   "cell_type": "code",
   "execution_count": null,
   "metadata": {},
   "outputs": [],
   "source": []
  }
 ],
 "metadata": {
  "kernelspec": {
   "display_name": "Python 3",
   "language": "python",
   "name": "python3"
  },
  "language_info": {
   "codemirror_mode": {
    "name": "ipython",
    "version": 3
   },
   "file_extension": ".py",
   "mimetype": "text/x-python",
   "name": "python",
   "nbconvert_exporter": "python",
   "pygments_lexer": "ipython3",
   "version": "3.6.5"
  }
 },
 "nbformat": 4,
 "nbformat_minor": 2
}
