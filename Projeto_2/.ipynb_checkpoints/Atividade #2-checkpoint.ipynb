{
 "cells": [
  {
   "cell_type": "markdown",
   "metadata": {},
   "source": [
    "# Teste 2 - 11/09/2018\n",
    "\n",
    "## Disponibilização: 10/09/2018 - 11h\n",
    "## Encerramento: 11/09/2018 - 20h\n",
    "\n",
    "O objetivo deste segundo projeto prático da disciplina Redes Neurais Artificias é praticar os conceitos de Machine Learning vistos até o momento, em especial aqueles relativos ao processo de Aprendizagem de Máquina.\n",
    "\n",
    "Vamos trabalhar com o dataset **Breast Cancer Wisconsin (Diagnostic) Data Set**, vide: <a href=\"https://archive.ics.uci.edu/ml/datasets/Breast+Cancer+Wisconsin+(Diagnostic)\">Repositório UCI</a>\n",
    "\n",
    "Esta tarefa é dividida em to-dos, isto é, pequenas atividades que devem ser cumpridas para que o objetivo geral seja alcançado. A cada to-do está associada uma célula do Jupyter Notebook, que deve ser preenchida com código Python atendendo ao que se pede.\n",
    "\n",
    "\n",
    "Edite aqui o nome da equipe:\n",
    "\n",
    "- Gabriel Faraco\n",
    "- Juliany Raiol"
   ]
  },
  {
   "cell_type": "code",
   "execution_count": 1,
   "metadata": {},
   "outputs": [],
   "source": [
    "# Organize seus imports nesta célula\n",
    "import numpy as np\n",
    "import pandas as pd"
   ]
  },
  {
   "cell_type": "markdown",
   "metadata": {},
   "source": [
    "### To-Do 1\n",
    "\n",
    "1. Você deve importar o dataset a partir do sci-kit learn.\n",
    "Consulte o link: [Link da documentação do sci-kit learn](http://scikit-learn.org/stable/modules/generated/sklearn.datasets.load_breast_cancer.html#sklearn.datasets.load_breast_cancer)\n",
    "   * Este dataset está organizado sob a forma de um dicionário, em que os dados preditores encontram-se na chave 'data', composta de diversas matrizes. Cada matriz está associada a um nome 'feature_names'. \n",
    "2. Crie um novo dicionário que mapeia cada 'feature_name' para uma matriz correspondente.\n",
    "    * Antes de fazer esta associação, transponha a matriz localizada na chave 'data' para obter a dimensão correta.\n",
    "3. Transforme o dataset em um objetivo tipo DataFrame do pandas\n",
    "4. Adicione o atributo-alvo ao dataset existente.\n",
    "    * Importante: O atributo-alvo está na chave 'target' do dicionário, com nome 'target_names'"
   ]
  },
  {
   "cell_type": "code",
   "execution_count": 31,
   "metadata": {},
   "outputs": [],
   "source": [
    "from sklearn.datasets import load_breast_cancer\n",
    "\n",
    "cancer = load_breast_cancer()"
   ]
  },
  {
   "cell_type": "code",
   "execution_count": 47,
   "metadata": {},
   "outputs": [
    {
     "data": {
      "text/plain": [
       "array([[1.799e+01, 1.038e+01, 1.228e+02, ..., 2.654e-01, 4.601e-01,\n",
       "        1.189e-01],\n",
       "       [2.057e+01, 1.777e+01, 1.329e+02, ..., 1.860e-01, 2.750e-01,\n",
       "        8.902e-02],\n",
       "       [1.969e+01, 2.125e+01, 1.300e+02, ..., 2.430e-01, 3.613e-01,\n",
       "        8.758e-02],\n",
       "       ...,\n",
       "       [1.660e+01, 2.808e+01, 1.083e+02, ..., 1.418e-01, 2.218e-01,\n",
       "        7.820e-02],\n",
       "       [2.060e+01, 2.933e+01, 1.401e+02, ..., 2.650e-01, 4.087e-01,\n",
       "        1.240e-01],\n",
       "       [7.760e+00, 2.454e+01, 4.792e+01, ..., 0.000e+00, 2.871e-01,\n",
       "        7.039e-02]])"
      ]
     },
     "execution_count": 47,
     "metadata": {},
     "output_type": "execute_result"
    }
   ],
   "source": [
    "cancer.data.T"
   ]
  },
  {
   "cell_type": "code",
   "execution_count": 51,
   "metadata": {},
   "outputs": [
    {
     "data": {
      "text/plain": [
       "array([[1.799e+01, 2.057e+01, 1.969e+01, ..., 1.660e+01, 2.060e+01,\n",
       "        7.760e+00],\n",
       "       [1.038e+01, 1.777e+01, 2.125e+01, ..., 2.808e+01, 2.933e+01,\n",
       "        2.454e+01],\n",
       "       [1.228e+02, 1.329e+02, 1.300e+02, ..., 1.083e+02, 1.401e+02,\n",
       "        4.792e+01],\n",
       "       ...,\n",
       "       [2.654e-01, 1.860e-01, 2.430e-01, ..., 1.418e-01, 2.650e-01,\n",
       "        0.000e+00],\n",
       "       [4.601e-01, 2.750e-01, 3.613e-01, ..., 2.218e-01, 4.087e-01,\n",
       "        2.871e-01],\n",
       "       [1.189e-01, 8.902e-02, 8.758e-02, ..., 7.820e-02, 1.240e-01,\n",
       "        7.039e-02]])"
      ]
     },
     "execution_count": 51,
     "metadata": {},
     "output_type": "execute_result"
    }
   ],
   "source": [
    "data = cancer.data\n",
    "data"
   ]
  },
  {
   "cell_type": "code",
   "execution_count": 39,
   "metadata": {},
   "outputs": [
    {
     "data": {
      "text/html": [
       "<div>\n",
       "<style scoped>\n",
       "    .dataframe tbody tr th:only-of-type {\n",
       "        vertical-align: middle;\n",
       "    }\n",
       "\n",
       "    .dataframe tbody tr th {\n",
       "        vertical-align: top;\n",
       "    }\n",
       "\n",
       "    .dataframe thead th {\n",
       "        text-align: right;\n",
       "    }\n",
       "</style>\n",
       "<table border=\"1\" class=\"dataframe\">\n",
       "  <thead>\n",
       "    <tr style=\"text-align: right;\">\n",
       "      <th></th>\n",
       "      <th>target_names</th>\n",
       "    </tr>\n",
       "  </thead>\n",
       "  <tbody>\n",
       "    <tr>\n",
       "      <th>0</th>\n",
       "      <td>mean radius</td>\n",
       "    </tr>\n",
       "    <tr>\n",
       "      <th>1</th>\n",
       "      <td>mean texture</td>\n",
       "    </tr>\n",
       "    <tr>\n",
       "      <th>2</th>\n",
       "      <td>mean perimeter</td>\n",
       "    </tr>\n",
       "    <tr>\n",
       "      <th>3</th>\n",
       "      <td>mean area</td>\n",
       "    </tr>\n",
       "    <tr>\n",
       "      <th>4</th>\n",
       "      <td>mean smoothness</td>\n",
       "    </tr>\n",
       "  </tbody>\n",
       "</table>\n",
       "</div>"
      ],
      "text/plain": [
       "      target_names\n",
       "0      mean radius\n",
       "1     mean texture\n",
       "2   mean perimeter\n",
       "3        mean area\n",
       "4  mean smoothness"
      ]
     },
     "execution_count": 39,
     "metadata": {},
     "output_type": "execute_result"
    }
   ],
   "source": [
    "cancer.data = cancer.data.T\n",
    "\n",
    "dict_cancer = {'target_names' : cancer.feature_names}\n",
    "\n",
    "dataframe = pd.DataFrame(data = dict_cancer)\n",
    "dataframe.head()"
   ]
  },
  {
   "cell_type": "markdown",
   "metadata": {},
   "source": [
    "### To-Do 2\n",
    "\n",
    "Utilizando `pandas.DataFrame` para manipular o dataset, faça o que se pede:\n",
    "1. Informe a quantidade de exemplos existentes no dataset\n",
    "2. Enumere os atributos existentes no dataset\n",
    "3. Identifique o atributo-alvo e imprima-o\n",
    "4. O dataset é balanceado?\n",
    "5. Remova todos os atributos que contenham a palavra `error`"
   ]
  },
  {
   "cell_type": "code",
   "execution_count": null,
   "metadata": {
    "collapsed": true
   },
   "outputs": [],
   "source": []
  },
  {
   "cell_type": "code",
   "execution_count": null,
   "metadata": {
    "collapsed": true
   },
   "outputs": [],
   "source": []
  },
  {
   "cell_type": "code",
   "execution_count": null,
   "metadata": {
    "collapsed": true
   },
   "outputs": [],
   "source": []
  },
  {
   "cell_type": "code",
   "execution_count": null,
   "metadata": {
    "collapsed": true
   },
   "outputs": [],
   "source": []
  },
  {
   "cell_type": "code",
   "execution_count": null,
   "metadata": {
    "collapsed": true
   },
   "outputs": [],
   "source": []
  },
  {
   "cell_type": "markdown",
   "metadata": {},
   "source": [
    "### To-Do 3\n",
    "\n",
    "Faça uma partição randomizada do tipo 70/30 para conjunto de treinamento e de testes.\n",
    "Em ambos os conjuntos, separe o atributo-alvo.\n",
    "\n",
    "Para facilitar, siga a nomenclatura sugerida:\n",
    "* X_train: atributos preditores para o conjunto de treinamento\n",
    "* X_test: atributos preditores para o conjunto de testes\n",
    "* Y_train: atributo-alvo para os exemplos do conjunto de treinamento\n",
    "* Y_test: atributo-alvo para os exemplos do conjunto de testes\n",
    "\n",
    "Sugestão: [consultar a documentação do sci-kit learn](http://scikit-learn.org/stable/modules/generated/sklearn.model_selection.train_test_split.html#sklearn.model_selection.train_test_split)\n"
   ]
  },
  {
   "cell_type": "code",
   "execution_count": null,
   "metadata": {
    "collapsed": true
   },
   "outputs": [],
   "source": [
    "\n"
   ]
  },
  {
   "cell_type": "markdown",
   "metadata": {},
   "source": [
    "### To-Do 4\n",
    "\n",
    "Vamos usar os dados X_train e Y_train para treinar dois modelos diferentes de Aprendizagem de Máquina.\n",
    "1. Modelo 1: Vizinhos mais próximos, com k = 5\n",
    "2. Modelo 2: Centróides mais próximos, de acordo com a distância Euclidiana\n",
    "\n",
    "Basta completar o código a seguir"
   ]
  },
  {
   "cell_type": "code",
   "execution_count": null,
   "metadata": {
    "collapsed": true
   },
   "outputs": [],
   "source": [
    "from sklearn.neighbors import KNeighborsClassifier, NearestCentroid\n",
    "\n",
    "# 5 - vizinhos mais próximos\n",
    "knn = KNeighborsClassifier(n_neighbors=5)\n",
    "knn.fit('Coloque seus atributos preditores do treinamento aqui','Coloque o atributo alvo do treino aqui')\n",
    "\n",
    "# Kernel Density\n",
    "nc = NearestCentroid()\n",
    "nc.fit('Coloque seus atributos preditores do treinamento aqui','Coloque o atributo alvo do treino aqui')"
   ]
  },
  {
   "cell_type": "markdown",
   "metadata": {},
   "source": [
    "### To-Do 5\n",
    "\n",
    "Utilizar o conjunto de testes para prever o conjunto de testes"
   ]
  },
  {
   "cell_type": "code",
   "execution_count": null,
   "metadata": {
    "collapsed": true
   },
   "outputs": [],
   "source": [
    "previsaokNN = knn.predict('coloque aqui os atributos preditores do conjunto de testes')\n",
    "previsaonc = nc.predict('coloque aqui os atributos preditores do conjunto de testes't)"
   ]
  },
  {
   "cell_type": "markdown",
   "metadata": {},
   "source": [
    "### To-Do 6\n",
    "\n",
    "Analisando as diferenças e igualdades entre os vetores previsaokNN, previsaonc e Y_test, construa as matrizes de confusão dos respectivos modelos de Machine Learning. \n",
    "\n",
    "Consulte: [Documentação do sklearn para Matrizes de Confusão](http://scikit-learn.org/stable/modules/generated/sklearn.metrics.confusion_matrix.html)"
   ]
  },
  {
   "cell_type": "code",
   "execution_count": null,
   "metadata": {
    "collapsed": true
   },
   "outputs": [],
   "source": []
  },
  {
   "cell_type": "markdown",
   "metadata": {},
   "source": [
    "### To-Do 7\n",
    "\n",
    "Para cada um dos modelos, apresente:\n",
    "\n",
    "1. Acurácia\n",
    "2. Precisão\n",
    "3. Revocação\n",
    "4. F-Score (Leve em consideração se o dataset é balanceado ou não)\n",
    "\n",
    "Consulte: [Documentação do sklearn para Métricas de Desempenho](http://scikit-learn.org/stable/modules/classes.html#module-sklearn.metrics)"
   ]
  },
  {
   "cell_type": "code",
   "execution_count": null,
   "metadata": {
    "collapsed": true
   },
   "outputs": [],
   "source": []
  },
  {
   "cell_type": "markdown",
   "metadata": {},
   "source": [
    "### To-Do 8\n",
    "\n",
    "Utilizando argumentos textuais, justifique qual dos modelos apresentados é melhor para o problema em questão."
   ]
  },
  {
   "cell_type": "markdown",
   "metadata": {},
   "source": [
    "Seu texto de justificativa vai aqui. Clique duas vezes para editar."
   ]
  }
 ],
 "metadata": {
  "kernelspec": {
   "display_name": "Python 3",
   "language": "python",
   "name": "python3"
  },
  "language_info": {
   "codemirror_mode": {
    "name": "ipython",
    "version": 3
   },
   "file_extension": ".py",
   "mimetype": "text/x-python",
   "name": "python",
   "nbconvert_exporter": "python",
   "pygments_lexer": "ipython3",
   "version": "3.6.5"
  }
 },
 "nbformat": 4,
 "nbformat_minor": 2
}
