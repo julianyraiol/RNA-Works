{
 "cells": [
  {
   "cell_type": "markdown",
   "metadata": {},
   "source": [
    "## Projeto Prático 4\n",
    "\n",
    "**Universidade do Estado do Amazonas**  \n",
    "**Escola Superior de Tecnologia**  \n",
    "**Professora:** Elloá B. Guedes  \n",
    "**Alunos:** Juliany Raiol, Raí Soledade, Richardson Souza  \n",
    "**Disciplina:** Redes Neurais Artificiais"
   ]
  },
  {
   "cell_type": "markdown",
   "metadata": {},
   "source": [
    "## Aprendizado de Máquina com tarefa de classificação aplicado no dataset  de variedades de trigo\n",
    "\n",
    "\n",
    "## Introdução\n",
    "\n",
    "Três variedades de trigo (Kama, Rosa e Canadian) possuem sementes muito parecidas,\n",
    "entretanto diferentes. Um grupo de pesquisadores poloneses coletou 70 amostras de cada\n",
    "tipo e, usando uma técnica particular de raio-X, coletou medidas geométricas destas\n",
    "sementes, a citar: área, perímetro, compactude, comprimento, largura, coeficiente de\n",
    "assimetria e comprimento do sulco da semente."
   ]
  },
  {
   "cell_type": "code",
   "execution_count": 1,
   "metadata": {},
   "outputs": [],
   "source": [
    "# Módulos utilizados no projeto\n",
    "\n",
    "import pandas as pd\n",
    "from pandas.tools.plotting import parallel_coordinates\n",
    "import matplotlib.pyplot as plt"
   ]
  },
  {
   "cell_type": "markdown",
   "metadata": {},
   "source": [
    "## 1. Carregando o conjunto de dados"
   ]
  },
  {
   "cell_type": "code",
   "execution_count": 2,
   "metadata": {},
   "outputs": [],
   "source": [
    "names = [\"Area\", \"Perimeter\", \"Compactness\", \"Length\", \"Width\", \"Asymmetry\", \"Groove\", \"Seed\"]\n",
    "\n",
    "df = pd.read_csv('../../data/seeds_dataset.txt', delim_whitespace=True, names = names)"
   ]
  },
  {
   "cell_type": "markdown",
   "metadata": {},
   "source": [
    "## 2. Caracterização do conjunto de dados"
   ]
  },
  {
   "cell_type": "markdown",
   "metadata": {},
   "source": [
    "### 2.1. Informações gerais"
   ]
  },
  {
   "cell_type": "markdown",
   "metadata": {},
   "source": [
    "Visualizando as 10 primeiras linhas do DataFrame, podemos observar que:\n",
    "1. O conjunto de dados é composto por oito atributos de entrada.  \n",
    "2. Não existe dados faltantes, assim como descrito no repositório do conjunto de dados\n",
    "3. Para construir os dados, sete parâmetros geométricos de grãos de trigo foram medidos.\n",
    "4. Para cada semente são apresentado os valores para os atributos: Area, Perimeter, Compactness, Length(comprimento da amêndoa), Width(largura da amêndoa), Asymmetry, Groove(comprimento do sulco do núcleo) e Seed, que indica o tipo correspondente de amêndoas pertencentes a três variedades deferentes de trigo: Kama(1), Rosa(2) e Canadian(3), 70 elementos de cada, e corresponde ao atributo alvo."
   ]
  },
  {
   "cell_type": "code",
   "execution_count": 3,
   "metadata": {},
   "outputs": [
    {
     "name": "stdout",
     "output_type": "stream",
     "text": [
      "Dimensões do dataset (210, 8)\n"
     ]
    }
   ],
   "source": [
    "print(\"Dimensões do dataset\", df.shape)"
   ]
  },
  {
   "cell_type": "code",
   "execution_count": 4,
   "metadata": {},
   "outputs": [
    {
     "data": {
      "text/plain": [
       "Index(['Area', 'Perimeter', 'Compactness', 'Length', 'Width', 'Asymmetry',\n",
       "       'Groove', 'Seed'],\n",
       "      dtype='object')"
      ]
     },
     "execution_count": 4,
     "metadata": {},
     "output_type": "execute_result"
    }
   ],
   "source": [
    "df.columns # mostra o nome das colunas do conjunto de dados"
   ]
  },
  {
   "cell_type": "code",
   "execution_count": 5,
   "metadata": {},
   "outputs": [
    {
     "data": {
      "text/html": [
       "<div>\n",
       "<style scoped>\n",
       "    .dataframe tbody tr th:only-of-type {\n",
       "        vertical-align: middle;\n",
       "    }\n",
       "\n",
       "    .dataframe tbody tr th {\n",
       "        vertical-align: top;\n",
       "    }\n",
       "\n",
       "    .dataframe thead th {\n",
       "        text-align: right;\n",
       "    }\n",
       "</style>\n",
       "<table border=\"1\" class=\"dataframe\">\n",
       "  <thead>\n",
       "    <tr style=\"text-align: right;\">\n",
       "      <th></th>\n",
       "      <th>Area</th>\n",
       "      <th>Perimeter</th>\n",
       "      <th>Compactness</th>\n",
       "      <th>Length</th>\n",
       "      <th>Width</th>\n",
       "      <th>Asymmetry</th>\n",
       "      <th>Groove</th>\n",
       "      <th>Seed</th>\n",
       "    </tr>\n",
       "  </thead>\n",
       "  <tbody>\n",
       "    <tr>\n",
       "      <th>0</th>\n",
       "      <td>15.26</td>\n",
       "      <td>14.84</td>\n",
       "      <td>0.8710</td>\n",
       "      <td>5.763</td>\n",
       "      <td>3.312</td>\n",
       "      <td>2.221</td>\n",
       "      <td>5.220</td>\n",
       "      <td>1</td>\n",
       "    </tr>\n",
       "    <tr>\n",
       "      <th>1</th>\n",
       "      <td>14.88</td>\n",
       "      <td>14.57</td>\n",
       "      <td>0.8811</td>\n",
       "      <td>5.554</td>\n",
       "      <td>3.333</td>\n",
       "      <td>1.018</td>\n",
       "      <td>4.956</td>\n",
       "      <td>1</td>\n",
       "    </tr>\n",
       "    <tr>\n",
       "      <th>2</th>\n",
       "      <td>14.29</td>\n",
       "      <td>14.09</td>\n",
       "      <td>0.9050</td>\n",
       "      <td>5.291</td>\n",
       "      <td>3.337</td>\n",
       "      <td>2.699</td>\n",
       "      <td>4.825</td>\n",
       "      <td>1</td>\n",
       "    </tr>\n",
       "    <tr>\n",
       "      <th>3</th>\n",
       "      <td>13.84</td>\n",
       "      <td>13.94</td>\n",
       "      <td>0.8955</td>\n",
       "      <td>5.324</td>\n",
       "      <td>3.379</td>\n",
       "      <td>2.259</td>\n",
       "      <td>4.805</td>\n",
       "      <td>1</td>\n",
       "    </tr>\n",
       "    <tr>\n",
       "      <th>4</th>\n",
       "      <td>16.14</td>\n",
       "      <td>14.99</td>\n",
       "      <td>0.9034</td>\n",
       "      <td>5.658</td>\n",
       "      <td>3.562</td>\n",
       "      <td>1.355</td>\n",
       "      <td>5.175</td>\n",
       "      <td>1</td>\n",
       "    </tr>\n",
       "    <tr>\n",
       "      <th>5</th>\n",
       "      <td>14.38</td>\n",
       "      <td>14.21</td>\n",
       "      <td>0.8951</td>\n",
       "      <td>5.386</td>\n",
       "      <td>3.312</td>\n",
       "      <td>2.462</td>\n",
       "      <td>4.956</td>\n",
       "      <td>1</td>\n",
       "    </tr>\n",
       "    <tr>\n",
       "      <th>6</th>\n",
       "      <td>14.69</td>\n",
       "      <td>14.49</td>\n",
       "      <td>0.8799</td>\n",
       "      <td>5.563</td>\n",
       "      <td>3.259</td>\n",
       "      <td>3.586</td>\n",
       "      <td>5.219</td>\n",
       "      <td>1</td>\n",
       "    </tr>\n",
       "    <tr>\n",
       "      <th>7</th>\n",
       "      <td>14.11</td>\n",
       "      <td>14.10</td>\n",
       "      <td>0.8911</td>\n",
       "      <td>5.420</td>\n",
       "      <td>3.302</td>\n",
       "      <td>2.700</td>\n",
       "      <td>5.000</td>\n",
       "      <td>1</td>\n",
       "    </tr>\n",
       "    <tr>\n",
       "      <th>8</th>\n",
       "      <td>16.63</td>\n",
       "      <td>15.46</td>\n",
       "      <td>0.8747</td>\n",
       "      <td>6.053</td>\n",
       "      <td>3.465</td>\n",
       "      <td>2.040</td>\n",
       "      <td>5.877</td>\n",
       "      <td>1</td>\n",
       "    </tr>\n",
       "    <tr>\n",
       "      <th>9</th>\n",
       "      <td>16.44</td>\n",
       "      <td>15.25</td>\n",
       "      <td>0.8880</td>\n",
       "      <td>5.884</td>\n",
       "      <td>3.505</td>\n",
       "      <td>1.969</td>\n",
       "      <td>5.533</td>\n",
       "      <td>1</td>\n",
       "    </tr>\n",
       "  </tbody>\n",
       "</table>\n",
       "</div>"
      ],
      "text/plain": [
       "    Area  Perimeter  Compactness  Length  Width  Asymmetry  Groove  Seed\n",
       "0  15.26      14.84       0.8710   5.763  3.312      2.221   5.220     1\n",
       "1  14.88      14.57       0.8811   5.554  3.333      1.018   4.956     1\n",
       "2  14.29      14.09       0.9050   5.291  3.337      2.699   4.825     1\n",
       "3  13.84      13.94       0.8955   5.324  3.379      2.259   4.805     1\n",
       "4  16.14      14.99       0.9034   5.658  3.562      1.355   5.175     1\n",
       "5  14.38      14.21       0.8951   5.386  3.312      2.462   4.956     1\n",
       "6  14.69      14.49       0.8799   5.563  3.259      3.586   5.219     1\n",
       "7  14.11      14.10       0.8911   5.420  3.302      2.700   5.000     1\n",
       "8  16.63      15.46       0.8747   6.053  3.465      2.040   5.877     1\n",
       "9  16.44      15.25       0.8880   5.884  3.505      1.969   5.533     1"
      ]
     },
     "execution_count": 5,
     "metadata": {},
     "output_type": "execute_result"
    }
   ],
   "source": [
    "df.head(10) # Imprime as 10 primeiras linhas do conjunto de dados"
   ]
  },
  {
   "cell_type": "code",
   "execution_count": 6,
   "metadata": {},
   "outputs": [
    {
     "data": {
      "text/html": [
       "<div>\n",
       "<style scoped>\n",
       "    .dataframe tbody tr th:only-of-type {\n",
       "        vertical-align: middle;\n",
       "    }\n",
       "\n",
       "    .dataframe tbody tr th {\n",
       "        vertical-align: top;\n",
       "    }\n",
       "\n",
       "    .dataframe thead th {\n",
       "        text-align: right;\n",
       "    }\n",
       "</style>\n",
       "<table border=\"1\" class=\"dataframe\">\n",
       "  <thead>\n",
       "    <tr style=\"text-align: right;\">\n",
       "      <th></th>\n",
       "      <th>Area</th>\n",
       "      <th>Perimeter</th>\n",
       "      <th>Compactness</th>\n",
       "      <th>Length</th>\n",
       "      <th>Width</th>\n",
       "      <th>Asymmetry</th>\n",
       "      <th>Groove</th>\n",
       "      <th>Seed</th>\n",
       "    </tr>\n",
       "  </thead>\n",
       "  <tbody>\n",
       "    <tr>\n",
       "      <th>205</th>\n",
       "      <td>12.19</td>\n",
       "      <td>13.20</td>\n",
       "      <td>0.8783</td>\n",
       "      <td>5.137</td>\n",
       "      <td>2.981</td>\n",
       "      <td>3.631</td>\n",
       "      <td>4.870</td>\n",
       "      <td>3</td>\n",
       "    </tr>\n",
       "    <tr>\n",
       "      <th>206</th>\n",
       "      <td>11.23</td>\n",
       "      <td>12.88</td>\n",
       "      <td>0.8511</td>\n",
       "      <td>5.140</td>\n",
       "      <td>2.795</td>\n",
       "      <td>4.325</td>\n",
       "      <td>5.003</td>\n",
       "      <td>3</td>\n",
       "    </tr>\n",
       "    <tr>\n",
       "      <th>207</th>\n",
       "      <td>13.20</td>\n",
       "      <td>13.66</td>\n",
       "      <td>0.8883</td>\n",
       "      <td>5.236</td>\n",
       "      <td>3.232</td>\n",
       "      <td>8.315</td>\n",
       "      <td>5.056</td>\n",
       "      <td>3</td>\n",
       "    </tr>\n",
       "    <tr>\n",
       "      <th>208</th>\n",
       "      <td>11.84</td>\n",
       "      <td>13.21</td>\n",
       "      <td>0.8521</td>\n",
       "      <td>5.175</td>\n",
       "      <td>2.836</td>\n",
       "      <td>3.598</td>\n",
       "      <td>5.044</td>\n",
       "      <td>3</td>\n",
       "    </tr>\n",
       "    <tr>\n",
       "      <th>209</th>\n",
       "      <td>12.30</td>\n",
       "      <td>13.34</td>\n",
       "      <td>0.8684</td>\n",
       "      <td>5.243</td>\n",
       "      <td>2.974</td>\n",
       "      <td>5.637</td>\n",
       "      <td>5.063</td>\n",
       "      <td>3</td>\n",
       "    </tr>\n",
       "  </tbody>\n",
       "</table>\n",
       "</div>"
      ],
      "text/plain": [
       "      Area  Perimeter  Compactness  Length  Width  Asymmetry  Groove  Seed\n",
       "205  12.19      13.20       0.8783   5.137  2.981      3.631   4.870     3\n",
       "206  11.23      12.88       0.8511   5.140  2.795      4.325   5.003     3\n",
       "207  13.20      13.66       0.8883   5.236  3.232      8.315   5.056     3\n",
       "208  11.84      13.21       0.8521   5.175  2.836      3.598   5.044     3\n",
       "209  12.30      13.34       0.8684   5.243  2.974      5.637   5.063     3"
      ]
     },
     "execution_count": 6,
     "metadata": {},
     "output_type": "execute_result"
    }
   ],
   "source": [
    "df.tail() # Imprime as 5 últimas linhas do conjunto de dados"
   ]
  },
  {
   "cell_type": "code",
   "execution_count": 7,
   "metadata": {},
   "outputs": [
    {
     "name": "stdout",
     "output_type": "stream",
     "text": [
      "Seed\n",
      "1    70\n",
      "2    70\n",
      "3    70\n",
      "dtype: int64\n"
     ]
    }
   ],
   "source": [
    "print(df.groupby('Seed').size()) # Agrupa a coluna referente ao atributo alvo"
   ]
  },
  {
   "cell_type": "markdown",
   "metadata": {},
   "source": [
    "### 2.2. Características dos atributos\n",
    "\n",
    "Analisando os valores que um atributo pode assumir(tipo) consideramos que:\n",
    "1. Todos os atributos quantitativos.\n",
    "2. E, por serem resultado de medições de parâmetros geométricos e estarem representados por valores reais, todos os atributos preditivos são também contínuos e o atributo alvo é discreto pois contêm um número finito.\n",
    "\n",
    "| Atributo | Classificação |\n",
    "| ---: | :--- |\n",
    "| Area | Quantitativo contínuo |\n",
    "| Perimeter | Quantitativo contínuo |\n",
    "| Compactness | Quantitativo contínuo |\n",
    "| Length | Quantitativo contínuo |\n",
    "| Width | Quantitativo contínuo |\n",
    "| Asymmetry | Quantitativo contínuo |\n",
    "| Groove | Quantitativo contínuo |\n",
    "| Seed | Quantitativo discreto |"
   ]
  },
  {
   "cell_type": "code",
   "execution_count": 8,
   "metadata": {},
   "outputs": [
    {
     "data": {
      "text/plain": [
       "Area           float64\n",
       "Perimeter      float64\n",
       "Compactness    float64\n",
       "Length         float64\n",
       "Width          float64\n",
       "Asymmetry      float64\n",
       "Groove         float64\n",
       "Seed             int64\n",
       "dtype: object"
      ]
     },
     "execution_count": 8,
     "metadata": {},
     "output_type": "execute_result"
    }
   ],
   "source": [
    "df.dtypes # mostra os tipos de dados presentes no conjunto de dados"
   ]
  },
  {
   "cell_type": "code",
   "execution_count": 9,
   "metadata": {},
   "outputs": [
    {
     "data": {
      "text/plain": [
       "Area           False\n",
       "Perimeter      False\n",
       "Compactness    False\n",
       "Length         False\n",
       "Width          False\n",
       "Asymmetry      False\n",
       "Groove         False\n",
       "Seed           False\n",
       "dtype: bool"
      ]
     },
     "execution_count": 9,
     "metadata": {},
     "output_type": "execute_result"
    }
   ],
   "source": [
    "df.isnull().any() # verifica se há valores nulos no dataset"
   ]
  },
  {
   "cell_type": "markdown",
   "metadata": {},
   "source": [
    "### 2.3. Escala dos atributos  \n",
    "Analisando os valores que um atributo pode assumir(escala) consideramos que:\n",
    "1. Todos os atributos preditivos são racionais, pois carregam mais informação. Existe uma escala de razão entre os atributos.\n",
    "2. Já o atributo alvo, por carregar uma menor quantidade de informação e por não existir uma relação de ordem entre seus valores, consideramos nominal. São trẽs valores nominais ou classes(1, 2 e 3) que representam as três variedades diferentes de trigo: Kama, Rosa e Canadian.\n",
    "\n",
    "| Atributo | Classificação |\n",
    "| ---: | :--- |\n",
    "| Area | Racional |\n",
    "| Perimeter | Racional |\n",
    "| Compactness | Racional |\n",
    "| Length | Racional |\n",
    "| Width | Racional |\n",
    "| Asymmetry | Racional |\n",
    "| Groove | Racional |\n",
    "| Seed | Nominal |"
   ]
  },
  {
   "cell_type": "markdown",
   "metadata": {},
   "source": [
    "### 3. Exploração dos dados"
   ]
  },
  {
   "cell_type": "markdown",
   "metadata": {},
   "source": [
    "Para uma facilidade no processo de análise, foi criado dataframes de cada tipo de semente. Dessa forma, foram gerados 3: kama, rosa e canadian. "
   ]
  },
  {
   "cell_type": "code",
   "execution_count": 10,
   "metadata": {},
   "outputs": [],
   "source": [
    "kama     = df[df['Seed']==1]\n",
    "rosa     = df[df['Seed']==2]\n",
    "canadian = df[df['Seed']==3]"
   ]
  },
  {
   "cell_type": "markdown",
   "metadata": {},
   "source": [
    "> Dados gerais da semente do tipo <strong>Kama</strong>"
   ]
  },
  {
   "cell_type": "code",
   "execution_count": 11,
   "metadata": {},
   "outputs": [
    {
     "data": {
      "text/html": [
       "<div>\n",
       "<style scoped>\n",
       "    .dataframe tbody tr th:only-of-type {\n",
       "        vertical-align: middle;\n",
       "    }\n",
       "\n",
       "    .dataframe tbody tr th {\n",
       "        vertical-align: top;\n",
       "    }\n",
       "\n",
       "    .dataframe thead th {\n",
       "        text-align: right;\n",
       "    }\n",
       "</style>\n",
       "<table border=\"1\" class=\"dataframe\">\n",
       "  <thead>\n",
       "    <tr style=\"text-align: right;\">\n",
       "      <th></th>\n",
       "      <th>Area</th>\n",
       "      <th>Perimeter</th>\n",
       "      <th>Compactness</th>\n",
       "      <th>Length</th>\n",
       "      <th>Width</th>\n",
       "      <th>Asymmetry</th>\n",
       "      <th>Groove</th>\n",
       "      <th>Seed</th>\n",
       "    </tr>\n",
       "  </thead>\n",
       "  <tbody>\n",
       "    <tr>\n",
       "      <th>count</th>\n",
       "      <td>70.000000</td>\n",
       "      <td>70.000000</td>\n",
       "      <td>70.000000</td>\n",
       "      <td>70.000000</td>\n",
       "      <td>70.000000</td>\n",
       "      <td>70.000000</td>\n",
       "      <td>70.000000</td>\n",
       "      <td>70.0</td>\n",
       "    </tr>\n",
       "    <tr>\n",
       "      <th>mean</th>\n",
       "      <td>14.334429</td>\n",
       "      <td>14.294286</td>\n",
       "      <td>0.880070</td>\n",
       "      <td>5.508057</td>\n",
       "      <td>3.244629</td>\n",
       "      <td>2.667403</td>\n",
       "      <td>5.087214</td>\n",
       "      <td>1.0</td>\n",
       "    </tr>\n",
       "    <tr>\n",
       "      <th>std</th>\n",
       "      <td>1.215704</td>\n",
       "      <td>0.576583</td>\n",
       "      <td>0.016191</td>\n",
       "      <td>0.231508</td>\n",
       "      <td>0.177616</td>\n",
       "      <td>1.173901</td>\n",
       "      <td>0.263699</td>\n",
       "      <td>0.0</td>\n",
       "    </tr>\n",
       "    <tr>\n",
       "      <th>min</th>\n",
       "      <td>11.230000</td>\n",
       "      <td>12.630000</td>\n",
       "      <td>0.839200</td>\n",
       "      <td>4.902000</td>\n",
       "      <td>2.850000</td>\n",
       "      <td>0.765100</td>\n",
       "      <td>4.519000</td>\n",
       "      <td>1.0</td>\n",
       "    </tr>\n",
       "    <tr>\n",
       "      <th>25%</th>\n",
       "      <td>13.750000</td>\n",
       "      <td>13.960000</td>\n",
       "      <td>0.868850</td>\n",
       "      <td>5.384500</td>\n",
       "      <td>3.134250</td>\n",
       "      <td>1.826500</td>\n",
       "      <td>4.924500</td>\n",
       "      <td>1.0</td>\n",
       "    </tr>\n",
       "    <tr>\n",
       "      <th>50%</th>\n",
       "      <td>14.355000</td>\n",
       "      <td>14.320000</td>\n",
       "      <td>0.880500</td>\n",
       "      <td>5.534000</td>\n",
       "      <td>3.243500</td>\n",
       "      <td>2.545500</td>\n",
       "      <td>5.094000</td>\n",
       "      <td>1.0</td>\n",
       "    </tr>\n",
       "    <tr>\n",
       "      <th>75%</th>\n",
       "      <td>15.045000</td>\n",
       "      <td>14.732500</td>\n",
       "      <td>0.890400</td>\n",
       "      <td>5.677000</td>\n",
       "      <td>3.378500</td>\n",
       "      <td>3.301000</td>\n",
       "      <td>5.223500</td>\n",
       "      <td>1.0</td>\n",
       "    </tr>\n",
       "    <tr>\n",
       "      <th>max</th>\n",
       "      <td>17.080000</td>\n",
       "      <td>15.460000</td>\n",
       "      <td>0.918300</td>\n",
       "      <td>6.053000</td>\n",
       "      <td>3.683000</td>\n",
       "      <td>6.685000</td>\n",
       "      <td>5.877000</td>\n",
       "      <td>1.0</td>\n",
       "    </tr>\n",
       "  </tbody>\n",
       "</table>\n",
       "</div>"
      ],
      "text/plain": [
       "            Area  Perimeter  Compactness     Length      Width  Asymmetry  \\\n",
       "count  70.000000  70.000000    70.000000  70.000000  70.000000  70.000000   \n",
       "mean   14.334429  14.294286     0.880070   5.508057   3.244629   2.667403   \n",
       "std     1.215704   0.576583     0.016191   0.231508   0.177616   1.173901   \n",
       "min    11.230000  12.630000     0.839200   4.902000   2.850000   0.765100   \n",
       "25%    13.750000  13.960000     0.868850   5.384500   3.134250   1.826500   \n",
       "50%    14.355000  14.320000     0.880500   5.534000   3.243500   2.545500   \n",
       "75%    15.045000  14.732500     0.890400   5.677000   3.378500   3.301000   \n",
       "max    17.080000  15.460000     0.918300   6.053000   3.683000   6.685000   \n",
       "\n",
       "          Groove  Seed  \n",
       "count  70.000000  70.0  \n",
       "mean    5.087214   1.0  \n",
       "std     0.263699   0.0  \n",
       "min     4.519000   1.0  \n",
       "25%     4.924500   1.0  \n",
       "50%     5.094000   1.0  \n",
       "75%     5.223500   1.0  \n",
       "max     5.877000   1.0  "
      ]
     },
     "execution_count": 11,
     "metadata": {},
     "output_type": "execute_result"
    }
   ],
   "source": [
    "kama.describe()"
   ]
  },
  {
   "cell_type": "markdown",
   "metadata": {},
   "source": [
    "> Dados gerais da semente do tipo <strong>Rosa</strong>"
   ]
  },
  {
   "cell_type": "code",
   "execution_count": 12,
   "metadata": {},
   "outputs": [
    {
     "data": {
      "text/html": [
       "<div>\n",
       "<style scoped>\n",
       "    .dataframe tbody tr th:only-of-type {\n",
       "        vertical-align: middle;\n",
       "    }\n",
       "\n",
       "    .dataframe tbody tr th {\n",
       "        vertical-align: top;\n",
       "    }\n",
       "\n",
       "    .dataframe thead th {\n",
       "        text-align: right;\n",
       "    }\n",
       "</style>\n",
       "<table border=\"1\" class=\"dataframe\">\n",
       "  <thead>\n",
       "    <tr style=\"text-align: right;\">\n",
       "      <th></th>\n",
       "      <th>Area</th>\n",
       "      <th>Perimeter</th>\n",
       "      <th>Compactness</th>\n",
       "      <th>Length</th>\n",
       "      <th>Width</th>\n",
       "      <th>Asymmetry</th>\n",
       "      <th>Groove</th>\n",
       "      <th>Seed</th>\n",
       "    </tr>\n",
       "  </thead>\n",
       "  <tbody>\n",
       "    <tr>\n",
       "      <th>count</th>\n",
       "      <td>70.000000</td>\n",
       "      <td>70.000000</td>\n",
       "      <td>70.000000</td>\n",
       "      <td>70.000000</td>\n",
       "      <td>70.000000</td>\n",
       "      <td>70.000000</td>\n",
       "      <td>70.000000</td>\n",
       "      <td>70.0</td>\n",
       "    </tr>\n",
       "    <tr>\n",
       "      <th>mean</th>\n",
       "      <td>18.334286</td>\n",
       "      <td>16.135714</td>\n",
       "      <td>0.883517</td>\n",
       "      <td>6.148029</td>\n",
       "      <td>3.677414</td>\n",
       "      <td>3.644800</td>\n",
       "      <td>6.020600</td>\n",
       "      <td>2.0</td>\n",
       "    </tr>\n",
       "    <tr>\n",
       "      <th>std</th>\n",
       "      <td>1.439496</td>\n",
       "      <td>0.616995</td>\n",
       "      <td>0.015500</td>\n",
       "      <td>0.268191</td>\n",
       "      <td>0.185539</td>\n",
       "      <td>1.181868</td>\n",
       "      <td>0.253934</td>\n",
       "      <td>0.0</td>\n",
       "    </tr>\n",
       "    <tr>\n",
       "      <th>min</th>\n",
       "      <td>15.380000</td>\n",
       "      <td>14.660000</td>\n",
       "      <td>0.845200</td>\n",
       "      <td>5.363000</td>\n",
       "      <td>3.231000</td>\n",
       "      <td>1.472000</td>\n",
       "      <td>5.144000</td>\n",
       "      <td>2.0</td>\n",
       "    </tr>\n",
       "    <tr>\n",
       "      <th>25%</th>\n",
       "      <td>17.330000</td>\n",
       "      <td>15.737500</td>\n",
       "      <td>0.872525</td>\n",
       "      <td>5.979250</td>\n",
       "      <td>3.554250</td>\n",
       "      <td>2.845500</td>\n",
       "      <td>5.877500</td>\n",
       "      <td>2.0</td>\n",
       "    </tr>\n",
       "    <tr>\n",
       "      <th>50%</th>\n",
       "      <td>18.720000</td>\n",
       "      <td>16.210000</td>\n",
       "      <td>0.882600</td>\n",
       "      <td>6.148500</td>\n",
       "      <td>3.693500</td>\n",
       "      <td>3.609500</td>\n",
       "      <td>5.981500</td>\n",
       "      <td>2.0</td>\n",
       "    </tr>\n",
       "    <tr>\n",
       "      <th>75%</th>\n",
       "      <td>19.137500</td>\n",
       "      <td>16.557500</td>\n",
       "      <td>0.898225</td>\n",
       "      <td>6.312000</td>\n",
       "      <td>3.804750</td>\n",
       "      <td>4.436000</td>\n",
       "      <td>6.187750</td>\n",
       "      <td>2.0</td>\n",
       "    </tr>\n",
       "    <tr>\n",
       "      <th>max</th>\n",
       "      <td>21.180000</td>\n",
       "      <td>17.250000</td>\n",
       "      <td>0.910800</td>\n",
       "      <td>6.675000</td>\n",
       "      <td>4.033000</td>\n",
       "      <td>6.682000</td>\n",
       "      <td>6.550000</td>\n",
       "      <td>2.0</td>\n",
       "    </tr>\n",
       "  </tbody>\n",
       "</table>\n",
       "</div>"
      ],
      "text/plain": [
       "            Area  Perimeter  Compactness     Length      Width  Asymmetry  \\\n",
       "count  70.000000  70.000000    70.000000  70.000000  70.000000  70.000000   \n",
       "mean   18.334286  16.135714     0.883517   6.148029   3.677414   3.644800   \n",
       "std     1.439496   0.616995     0.015500   0.268191   0.185539   1.181868   \n",
       "min    15.380000  14.660000     0.845200   5.363000   3.231000   1.472000   \n",
       "25%    17.330000  15.737500     0.872525   5.979250   3.554250   2.845500   \n",
       "50%    18.720000  16.210000     0.882600   6.148500   3.693500   3.609500   \n",
       "75%    19.137500  16.557500     0.898225   6.312000   3.804750   4.436000   \n",
       "max    21.180000  17.250000     0.910800   6.675000   4.033000   6.682000   \n",
       "\n",
       "          Groove  Seed  \n",
       "count  70.000000  70.0  \n",
       "mean    6.020600   2.0  \n",
       "std     0.253934   0.0  \n",
       "min     5.144000   2.0  \n",
       "25%     5.877500   2.0  \n",
       "50%     5.981500   2.0  \n",
       "75%     6.187750   2.0  \n",
       "max     6.550000   2.0  "
      ]
     },
     "execution_count": 12,
     "metadata": {},
     "output_type": "execute_result"
    }
   ],
   "source": [
    "rosa.describe()"
   ]
  },
  {
   "cell_type": "markdown",
   "metadata": {},
   "source": [
    "> Dados gerais da semente do tipo <strong>Canadian</strong>"
   ]
  },
  {
   "cell_type": "code",
   "execution_count": 13,
   "metadata": {},
   "outputs": [
    {
     "data": {
      "text/html": [
       "<div>\n",
       "<style scoped>\n",
       "    .dataframe tbody tr th:only-of-type {\n",
       "        vertical-align: middle;\n",
       "    }\n",
       "\n",
       "    .dataframe tbody tr th {\n",
       "        vertical-align: top;\n",
       "    }\n",
       "\n",
       "    .dataframe thead th {\n",
       "        text-align: right;\n",
       "    }\n",
       "</style>\n",
       "<table border=\"1\" class=\"dataframe\">\n",
       "  <thead>\n",
       "    <tr style=\"text-align: right;\">\n",
       "      <th></th>\n",
       "      <th>Area</th>\n",
       "      <th>Perimeter</th>\n",
       "      <th>Compactness</th>\n",
       "      <th>Length</th>\n",
       "      <th>Width</th>\n",
       "      <th>Asymmetry</th>\n",
       "      <th>Groove</th>\n",
       "      <th>Seed</th>\n",
       "    </tr>\n",
       "  </thead>\n",
       "  <tbody>\n",
       "    <tr>\n",
       "      <th>count</th>\n",
       "      <td>70.000000</td>\n",
       "      <td>70.000000</td>\n",
       "      <td>70.000000</td>\n",
       "      <td>70.000000</td>\n",
       "      <td>70.000000</td>\n",
       "      <td>70.000000</td>\n",
       "      <td>70.000000</td>\n",
       "      <td>70.0</td>\n",
       "    </tr>\n",
       "    <tr>\n",
       "      <th>mean</th>\n",
       "      <td>11.873857</td>\n",
       "      <td>13.247857</td>\n",
       "      <td>0.849409</td>\n",
       "      <td>5.229514</td>\n",
       "      <td>2.853771</td>\n",
       "      <td>4.788400</td>\n",
       "      <td>5.116400</td>\n",
       "      <td>3.0</td>\n",
       "    </tr>\n",
       "    <tr>\n",
       "      <th>std</th>\n",
       "      <td>0.723004</td>\n",
       "      <td>0.340196</td>\n",
       "      <td>0.021760</td>\n",
       "      <td>0.138015</td>\n",
       "      <td>0.147516</td>\n",
       "      <td>1.336465</td>\n",
       "      <td>0.162068</td>\n",
       "      <td>0.0</td>\n",
       "    </tr>\n",
       "    <tr>\n",
       "      <th>min</th>\n",
       "      <td>10.590000</td>\n",
       "      <td>12.410000</td>\n",
       "      <td>0.808100</td>\n",
       "      <td>4.899000</td>\n",
       "      <td>2.630000</td>\n",
       "      <td>1.661000</td>\n",
       "      <td>4.745000</td>\n",
       "      <td>3.0</td>\n",
       "    </tr>\n",
       "    <tr>\n",
       "      <th>25%</th>\n",
       "      <td>11.262500</td>\n",
       "      <td>13.002500</td>\n",
       "      <td>0.834000</td>\n",
       "      <td>5.136250</td>\n",
       "      <td>2.725500</td>\n",
       "      <td>4.048750</td>\n",
       "      <td>5.002000</td>\n",
       "      <td>3.0</td>\n",
       "    </tr>\n",
       "    <tr>\n",
       "      <th>50%</th>\n",
       "      <td>11.835000</td>\n",
       "      <td>13.250000</td>\n",
       "      <td>0.849350</td>\n",
       "      <td>5.224000</td>\n",
       "      <td>2.834500</td>\n",
       "      <td>4.839000</td>\n",
       "      <td>5.091500</td>\n",
       "      <td>3.0</td>\n",
       "    </tr>\n",
       "    <tr>\n",
       "      <th>75%</th>\n",
       "      <td>12.425000</td>\n",
       "      <td>13.470000</td>\n",
       "      <td>0.861825</td>\n",
       "      <td>5.323750</td>\n",
       "      <td>2.967000</td>\n",
       "      <td>5.467250</td>\n",
       "      <td>5.228500</td>\n",
       "      <td>3.0</td>\n",
       "    </tr>\n",
       "    <tr>\n",
       "      <th>max</th>\n",
       "      <td>13.370000</td>\n",
       "      <td>13.950000</td>\n",
       "      <td>0.897700</td>\n",
       "      <td>5.541000</td>\n",
       "      <td>3.232000</td>\n",
       "      <td>8.456000</td>\n",
       "      <td>5.491000</td>\n",
       "      <td>3.0</td>\n",
       "    </tr>\n",
       "  </tbody>\n",
       "</table>\n",
       "</div>"
      ],
      "text/plain": [
       "            Area  Perimeter  Compactness     Length      Width  Asymmetry  \\\n",
       "count  70.000000  70.000000    70.000000  70.000000  70.000000  70.000000   \n",
       "mean   11.873857  13.247857     0.849409   5.229514   2.853771   4.788400   \n",
       "std     0.723004   0.340196     0.021760   0.138015   0.147516   1.336465   \n",
       "min    10.590000  12.410000     0.808100   4.899000   2.630000   1.661000   \n",
       "25%    11.262500  13.002500     0.834000   5.136250   2.725500   4.048750   \n",
       "50%    11.835000  13.250000     0.849350   5.224000   2.834500   4.839000   \n",
       "75%    12.425000  13.470000     0.861825   5.323750   2.967000   5.467250   \n",
       "max    13.370000  13.950000     0.897700   5.541000   3.232000   8.456000   \n",
       "\n",
       "          Groove  Seed  \n",
       "count  70.000000  70.0  \n",
       "mean    5.116400   3.0  \n",
       "std     0.162068   0.0  \n",
       "min     4.745000   3.0  \n",
       "25%     5.002000   3.0  \n",
       "50%     5.091500   3.0  \n",
       "75%     5.228500   3.0  \n",
       "max     5.491000   3.0  "
      ]
     },
     "execution_count": 13,
     "metadata": {},
     "output_type": "execute_result"
    }
   ],
   "source": [
    "canadian.describe()"
   ]
  },
  {
   "cell_type": "markdown",
   "metadata": {},
   "source": [
    "Fazendo uma análise da descrição de cada tipo de semente, podemos ver que a média do atributo **Area** é bem distinta entre os três tipos de semente.  \n",
    "O atributo **Perimeter** e **Asymmetry** tem uma distinção mais discreta entre os três tipos. Porém, a média **Perimeter** da semente Rosa em relação aos tipos Kama e Canadian é bem diferenciado. \n",
    "\n",
    "Abaixo isolamos esses três atributos para melhor visualização:"
   ]
  },
  {
   "cell_type": "markdown",
   "metadata": {},
   "source": [
    "#### MEDIDAS DE LOCALIDADE (MÉDIA, MEDIANA E QUARTIS E PERCETIS)\n",
    "\n",
    "1 - Kama\n",
    "2 - Rosa\n",
    "3 - Canadian"
   ]
  },
  {
   "cell_type": "code",
   "execution_count": 14,
   "metadata": {},
   "outputs": [
    {
     "data": {
      "text/html": [
       "<div>\n",
       "<style scoped>\n",
       "    .dataframe tbody tr th:only-of-type {\n",
       "        vertical-align: middle;\n",
       "    }\n",
       "\n",
       "    .dataframe tbody tr th {\n",
       "        vertical-align: top;\n",
       "    }\n",
       "\n",
       "    .dataframe thead th {\n",
       "        text-align: right;\n",
       "    }\n",
       "</style>\n",
       "<table border=\"1\" class=\"dataframe\">\n",
       "  <thead>\n",
       "    <tr style=\"text-align: right;\">\n",
       "      <th></th>\n",
       "      <th>Area</th>\n",
       "      <th>Perimeter</th>\n",
       "      <th>Asymmetry</th>\n",
       "    </tr>\n",
       "    <tr>\n",
       "      <th>Seed</th>\n",
       "      <th></th>\n",
       "      <th></th>\n",
       "      <th></th>\n",
       "    </tr>\n",
       "  </thead>\n",
       "  <tbody>\n",
       "    <tr>\n",
       "      <th>1</th>\n",
       "      <td>14.334429</td>\n",
       "      <td>14.294286</td>\n",
       "      <td>2.667403</td>\n",
       "    </tr>\n",
       "    <tr>\n",
       "      <th>2</th>\n",
       "      <td>18.334286</td>\n",
       "      <td>16.135714</td>\n",
       "      <td>3.644800</td>\n",
       "    </tr>\n",
       "    <tr>\n",
       "      <th>3</th>\n",
       "      <td>11.873857</td>\n",
       "      <td>13.247857</td>\n",
       "      <td>4.788400</td>\n",
       "    </tr>\n",
       "  </tbody>\n",
       "</table>\n",
       "</div>"
      ],
      "text/plain": [
       "           Area  Perimeter  Asymmetry\n",
       "Seed                                 \n",
       "1     14.334429  14.294286   2.667403\n",
       "2     18.334286  16.135714   3.644800\n",
       "3     11.873857  13.247857   4.788400"
      ]
     },
     "execution_count": 14,
     "metadata": {},
     "output_type": "execute_result"
    }
   ],
   "source": [
    "gb = df.groupby('Seed')[['Area','Perimeter', 'Asymmetry']]\n",
    "gb.mean()"
   ]
  },
  {
   "cell_type": "markdown",
   "metadata": {},
   "source": [
    "Mas, como já sabemos, a média tem uma sensibilidade aos **outliers**. Então, vamos visualizar a mediana desses atributos Area, Perimeter e Asymmtry."
   ]
  },
  {
   "cell_type": "code",
   "execution_count": 15,
   "metadata": {},
   "outputs": [
    {
     "data": {
      "text/html": [
       "<div>\n",
       "<style scoped>\n",
       "    .dataframe tbody tr th:only-of-type {\n",
       "        vertical-align: middle;\n",
       "    }\n",
       "\n",
       "    .dataframe tbody tr th {\n",
       "        vertical-align: top;\n",
       "    }\n",
       "\n",
       "    .dataframe thead th {\n",
       "        text-align: right;\n",
       "    }\n",
       "</style>\n",
       "<table border=\"1\" class=\"dataframe\">\n",
       "  <thead>\n",
       "    <tr style=\"text-align: right;\">\n",
       "      <th></th>\n",
       "      <th>Area</th>\n",
       "      <th>Perimeter</th>\n",
       "      <th>Asymmetry</th>\n",
       "    </tr>\n",
       "    <tr>\n",
       "      <th>Seed</th>\n",
       "      <th></th>\n",
       "      <th></th>\n",
       "      <th></th>\n",
       "    </tr>\n",
       "  </thead>\n",
       "  <tbody>\n",
       "    <tr>\n",
       "      <th>1</th>\n",
       "      <td>14.355</td>\n",
       "      <td>14.32</td>\n",
       "      <td>2.5455</td>\n",
       "    </tr>\n",
       "    <tr>\n",
       "      <th>2</th>\n",
       "      <td>18.720</td>\n",
       "      <td>16.21</td>\n",
       "      <td>3.6095</td>\n",
       "    </tr>\n",
       "    <tr>\n",
       "      <th>3</th>\n",
       "      <td>11.835</td>\n",
       "      <td>13.25</td>\n",
       "      <td>4.8390</td>\n",
       "    </tr>\n",
       "  </tbody>\n",
       "</table>\n",
       "</div>"
      ],
      "text/plain": [
       "        Area  Perimeter  Asymmetry\n",
       "Seed                              \n",
       "1     14.355      14.32     2.5455\n",
       "2     18.720      16.21     3.6095\n",
       "3     11.835      13.25     4.8390"
      ]
     },
     "execution_count": 15,
     "metadata": {},
     "output_type": "execute_result"
    }
   ],
   "source": [
    "gb.median()"
   ]
  },
  {
   "cell_type": "markdown",
   "metadata": {},
   "source": [
    "Vendo a mediana dos atributos acima, ainda mantemos a mesma conclusão da análise feita com a média. Mesmo assim, a mediana não elimina os **outliers** apenas minimiza sua presença."
   ]
  },
  {
   "cell_type": "code",
   "execution_count": 16,
   "metadata": {},
   "outputs": [
    {
     "data": {
      "text/html": [
       "<div>\n",
       "<style scoped>\n",
       "    .dataframe tbody tr th:only-of-type {\n",
       "        vertical-align: middle;\n",
       "    }\n",
       "\n",
       "    .dataframe tbody tr th {\n",
       "        vertical-align: top;\n",
       "    }\n",
       "\n",
       "    .dataframe thead th {\n",
       "        text-align: right;\n",
       "    }\n",
       "</style>\n",
       "<table border=\"1\" class=\"dataframe\">\n",
       "  <thead>\n",
       "    <tr style=\"text-align: right;\">\n",
       "      <th></th>\n",
       "      <th>Area</th>\n",
       "      <th>Perimeter</th>\n",
       "      <th>Asymmetry</th>\n",
       "    </tr>\n",
       "    <tr>\n",
       "      <th>Seed</th>\n",
       "      <th></th>\n",
       "      <th></th>\n",
       "      <th></th>\n",
       "    </tr>\n",
       "  </thead>\n",
       "  <tbody>\n",
       "    <tr>\n",
       "      <th>1</th>\n",
       "      <td>1.215704</td>\n",
       "      <td>0.576583</td>\n",
       "      <td>1.173901</td>\n",
       "    </tr>\n",
       "    <tr>\n",
       "      <th>2</th>\n",
       "      <td>1.439496</td>\n",
       "      <td>0.616995</td>\n",
       "      <td>1.181868</td>\n",
       "    </tr>\n",
       "    <tr>\n",
       "      <th>3</th>\n",
       "      <td>0.723004</td>\n",
       "      <td>0.340196</td>\n",
       "      <td>1.336465</td>\n",
       "    </tr>\n",
       "  </tbody>\n",
       "</table>\n",
       "</div>"
      ],
      "text/plain": [
       "          Area  Perimeter  Asymmetry\n",
       "Seed                                \n",
       "1     1.215704   0.576583   1.173901\n",
       "2     1.439496   0.616995   1.181868\n",
       "3     0.723004   0.340196   1.336465"
      ]
     },
     "execution_count": 16,
     "metadata": {},
     "output_type": "execute_result"
    }
   ],
   "source": [
    "gb.std()"
   ]
  },
  {
   "cell_type": "markdown",
   "metadata": {},
   "source": [
    "Os desvios padrões com valores acima de 1, indicam maior dispersão dos dados. Isso é visto com maior entoação no atributo Asymmetry em todos as sementes disponíveis no dataset. "
   ]
  },
  {
   "cell_type": "markdown",
   "metadata": {},
   "source": [
    "### 4. Visualização dos dados"
   ]
  },
  {
   "cell_type": "markdown",
   "metadata": {},
   "source": [
    "### 4.1.  Histogramas"
   ]
  },
  {
   "cell_type": "code",
   "execution_count": 17,
   "metadata": {},
   "outputs": [
    {
     "data": {
      "image/png": "[encoded data removed]",
      "text/plain": [
       "<Figure size 1152x864 with 9 Axes>"
      ]
     },
     "metadata": {
      "needs_background": "light"
     },
     "output_type": "display_data"
    }
   ],
   "source": [
    "fig,ax=plt.subplots(3,3,figsize=(16, 12))\n",
    "\n",
    "# Histograma do atributo Area\n",
    "kama.Area.plot(kind=\"hist\", ax=ax[0][0],label=\"kama\",color ='k',alpha=0.5,fontsize=10)\n",
    "rosa.Area.plot(kind=\"hist\", ax=ax[0][1],label=\"rosa\",color='k',alpha=0.5,fontsize=10)\n",
    "canadian.Area.plot( kind=\"hist\",ax=ax[0][2],label=\"canadian\",color='k',alpha=0.5,fontsize=10)\n",
    "\n",
    "kama.Perimeter.plot(kind=\"hist\", ax=ax[1][0],label=\"kama\",color ='k',alpha=0.5,fontsize=10)\n",
    "rosa.Perimeter.plot(kind=\"hist\", ax=ax[1][1],label=\"rosa\",color='k',alpha=0.5,fontsize=10)\n",
    "canadian.Perimeter.plot( kind=\"hist\",ax=ax[1][2],label=\"canadian\",color='k', alpha=0.5,fontsize=10)\n",
    "\n",
    "kama.Asymmetry.plot(kind=\"hist\", ax=ax[2][0],label=\"kama\",color ='k', alpha=0.5,fontsize=10)\n",
    "rosa.Asymmetry.plot(kind=\"hist\", ax=ax[2][1],label=\"rosa\",color='k',alpha=0.5,fontsize=10)\n",
    "canadian.Asymmetry.plot( kind=\"hist\",ax=ax[2][2],label=\"canadian\",color='k',alpha=0.5,fontsize=10)\n",
    "\n",
    "ax[0][0].set(title='Area')\n",
    "ax[0][1].set(title='Area')\n",
    "ax[0][2].set(title='Area')\n",
    "ax[1][0].set(title='Perimeter')\n",
    "ax[1][1].set(title='Perimeter')\n",
    "ax[1][2].set(title='Perimeter')\n",
    "ax[2][0].set(title='Asymmetry')\n",
    "ax[2][1].set(title='Asymmetry')\n",
    "ax[2][2].set(title='Asymmetry')\n",
    "\n",
    "ax[0][0].legend()\n",
    "ax[0][1].legend()\n",
    "ax[0][2].legend()\n",
    "ax[1][0].legend()\n",
    "ax[1][1].legend()\n",
    "ax[1][2].legend()\n",
    "ax[2][0].legend()\n",
    "ax[2][1].legend()\n",
    "ax[2][2].legend()\n",
    "\n",
    "plt.savefig('histograma.png')\n",
    "plt.show()"
   ]
  },
  {
   "cell_type": "markdown",
   "metadata": {},
   "source": [
    "A distribuição dos valores em um conjunto de dados está associada ao valor da obliquidade. \n",
    "\n",
    "Quando visualizamos o histograma do atributo \"Area\", as sementes do tipo \"Rosa\" e \"Canadian\" apresentam distribuições do tipo multimodal, onde há o aparecimento de vários picos. Existe uma quantidade maior de valores não arrendondados nesses cenários. Por outro lado, a \"Kama\" mostra um frequência assimétrica, diferente das demais.\n",
    "\n",
    "Em \"Perimeter\", as distribuições tendem a se centralizar, entretanto, ainda existe a presença de picos isolados.\n",
    "\n",
    "No atributo \"Asymmetry\", a semente do tipo \"Rosa\" apresenta um gráfico do tipo \"Platô\", ou seja, há diversas misturas de distribuições com médias diferentes. A \"Kama\" é assimétrico e distorcido à direita, indica a ocorrência de altos valores com baixa frequência. \"Canadian\" continua a apresentar um gráfico multimodal, com a presença de outliers."
   ]
  },
  {
   "cell_type": "markdown",
   "metadata": {},
   "source": [
    "### 4.2. BOXPLOT"
   ]
  },
  {
   "cell_type": "code",
   "execution_count": 20,
   "metadata": {},
   "outputs": [
    {
     "data": {
      "image/png": "[encoded data removed]",
      "text/plain": [
       "<Figure size 1152x864 with 9 Axes>"
      ]
     },
     "metadata": {
      "needs_background": "light"
     },
     "output_type": "display_data"
    }
   ],
   "source": [
    "fig,ax=plt.subplots(3,3,figsize=(16, 12))\n",
    "\n",
    "# boxplot do atributo Area\n",
    "kama.Area.plot(kind=\"box\", ax=ax[0][0],label=\"kama\",color ='k',sym='r+', fontsize=10)\n",
    "rosa.Area.plot(kind=\"box\", ax=ax[0][1],label=\"rosa\",color='k',sym='r+', fontsize=10)\n",
    "canadian.Area.plot( kind=\"box\",ax=ax[0][2],label=\"canadian\",color='k',sym='r+', fontsize=10)\n",
    "\n",
    "# boxplot do atributo Perimeter\n",
    "kama.Perimeter.plot(kind=\"box\", ax=ax[1][0],label=\"kama\",color ='k',sym='r+',fontsize=10)\n",
    "rosa.Perimeter.plot(kind=\"box\", ax=ax[1][1],label=\"rosa\",color='k',sym='r+',fontsize=10)\n",
    "canadian.Perimeter.plot( kind=\"box\",ax=ax[1][2],label=\"canadian\",color='k',sym='r+',fontsize=10)\n",
    "\n",
    "# boxplot do atributo Asymmetry\n",
    "kama.Asymmetry.plot(kind=\"box\", ax=ax[2][0],label=\"kama\",color ='k',sym='r+',fontsize=10)\n",
    "rosa.Asymmetry.plot(kind=\"box\", ax=ax[2][1],label=\"rosa\",color='k',sym='r+',fontsize=10)\n",
    "canadian.Asymmetry.plot( kind=\"box\",ax=ax[2][2],label=\"canadian\",color='k',sym='r+',fontsize=10)\n",
    "\n",
    "ax[0][0].set(title='Area')\n",
    "ax[0][1].set(title='Area')\n",
    "ax[0][2].set(title='Area')\n",
    "ax[1][0].set(title='Perimeter')\n",
    "ax[1][1].set(title='Perimeter')\n",
    "ax[1][2].set(title='Perimeter')\n",
    "ax[2][0].set(title='Asymmetry')\n",
    "ax[2][1].set(title='Asymmetry')\n",
    "ax[2][2].set(title='Asymmetry')\n",
    "\n",
    "plt.savefig('boxplot.png')\n",
    "plt.show()"
   ]
  },
  {
   "cell_type": "markdown",
   "metadata": {},
   "source": [
    "### 4.3. SCATTER PLOT"
   ]
  },
  {
   "cell_type": "code",
   "execution_count": 24,
   "metadata": {
    "scrolled": true
   },
   "outputs": [
    {
     "data": {
      "image/png": "[encoded data removed]",
      "text/plain": [
       "<Figure size 1512x432 with 3 Axes>"
      ]
     },
     "metadata": {
      "needs_background": "light"
     },
     "output_type": "display_data"
    }
   ],
   "source": [
    "fig, ax = plt.subplots(1,3,figsize=(21, 6))\n",
    "\n",
    "kama.plot(x=\"Area\", y=\"Perimeter\", kind=\"scatter\",ax=ax[0],label='kama',color='r',marker='s')\n",
    "rosa.plot(x=\"Area\",y=\"Perimeter\",kind=\"scatter\",ax=ax[0],label='rosa',color='g',marker='^')\n",
    "canadian.plot(x=\"Area\", y=\"Perimeter\", kind=\"scatter\", ax=ax[0], label='canadian', color='b',marker='o')\n",
    "\n",
    "kama.plot(x=\"Area\", y=\"Asymmetry\", kind=\"scatter\",ax=ax[1],label='kama',color='r',marker='s')\n",
    "rosa.plot(x=\"Area\",y=\"Asymmetry\",kind=\"scatter\",ax=ax[1],label='rosa',color='b',marker='^')\n",
    "canadian.plot(x=\"Area\", y=\"Asymmetry\", kind=\"scatter\", ax=ax[1], label='canadian', color='g',marker='o')\n",
    "\n",
    "kama.plot(x=\"Perimeter\", y=\"Asymmetry\", kind=\"scatter\",ax=ax[2],label='kama',color='r',marker='s')\n",
    "rosa.plot(x=\"Perimeter\",y=\"Asymmetry\",kind=\"scatter\",ax=ax[2],label='rosa',color='b',marker='^')\n",
    "canadian.plot(x=\"Perimeter\", y=\"Asymmetry\", kind=\"scatter\", ax=ax[2], label='canadian', color='g',marker='o')\n",
    "\n",
    "ax[0].set(title='Area x Perimeter comparasion ', ylabel='Perimeter')\n",
    "ax[1].set(title='Area x Asymmetry Comparasion',  ylabel='Asymetry')\n",
    "ax[2].set(title='Perimeter x Asymmetry Comparasion',  ylabel='Asymetry')\n",
    "ax[0].legend()\n",
    "ax[1].legend()\n",
    "ax[2].legend()\n",
    "plt.show()"
   ]
  },
  {
   "cell_type": "markdown",
   "metadata": {},
   "source": [
    "Os gráficos de dispersão referem-se como os dados estão dispostos. É também possível visualizar a correlação \n",
    "entre os atributos analisados.\n",
    "\n",
    "O gráfico Area x Perimeter ilustra uma relação linear, visto que o valor de X aumenta juntamente com o de Y de maneira linear. A partir desse gráfico, é possível perceber que as sementes do tipo Canadian apresentam \"Area\" e \"Perimeter\" menores em relação os demais. \n",
    "\n",
    "Outro ponto de destaque é que através dos gráficos Area x Asymmetry e Perimeter x Asymmetry é possível identificar que não há correlação linear evidente entre os atributos. Tendo em vista que esses apresentam maior discrepância entre si. "
   ]
  },
  {
   "cell_type": "code",
   "execution_count": 26,
   "metadata": {},
   "outputs": [
    {
     "data": {
      "image/png": "[encoded data removed]",
      "text/plain": [
       "<Figure size 1512x432 with 2 Axes>"
      ]
     },
     "metadata": {
      "needs_background": "light"
     },
     "output_type": "display_data"
    }
   ],
   "source": [
    "fig, ax = plt.subplots(1,2,figsize=(21, 6))\n",
    "\n",
    "kama.plot(x=\"Area\", y=\"Groove\", kind=\"scatter\",ax=ax[0],label='kama',color='r',marker='s')\n",
    "rosa.plot(x=\"Area\",y=\"Groove\",kind=\"scatter\",ax=ax[0],label='rosa',color='b',marker='^')\n",
    "canadian.plot(x=\"Area\", y=\"Groove\", kind=\"scatter\", ax=ax[0], label='canadian', color='g',marker='o')\n",
    "\n",
    "\n",
    "kama.plot(x=\"Perimeter\", y=\"Groove\", kind=\"scatter\",ax=ax[1],label='kama',color='r',marker='s')\n",
    "rosa.plot(x=\"Perimeter\",y=\"Groove\",kind=\"scatter\",ax=ax[1],label='rosa',color='b',marker='^')\n",
    "canadian.plot(x=\"Perimeter\", y=\"Groove\", kind=\"scatter\", ax=ax[1], label='canadian', color='g',marker='o')\n",
    "\n",
    "ax[0].set(title='Area x Groove ', ylabel='Perimeter')\n",
    "ax[1].set(title='Perimeter x Groove',  ylabel='Groove')\n",
    "ax[0].legend()\n",
    "ax[1].legend()\n",
    "plt.show()"
   ]
  },
  {
   "cell_type": "markdown",
   "metadata": {},
   "source": [
    "Nesse esses é possível visualizar agrupamentos numa mesma região do gráfico.   "
   ]
  },
  {
   "cell_type": "markdown",
   "metadata": {},
   "source": [
    "### 5. Correlação entre os atributos"
   ]
  },
  {
   "cell_type": "code",
   "execution_count": 41,
   "metadata": {},
   "outputs": [
    {
     "data": {
      "image/png": "[encoded data removed]",
      "text/plain": [
       "<Figure size 720x576 with 2 Axes>"
      ]
     },
     "metadata": {},
     "output_type": "display_data"
    }
   ],
   "source": [
    "f,ax = plt.subplots(figsize=(10, 8))\n",
    "sns.heatmap(df.iloc[:,0:8].corr(), annot=True, linewidths=.5, fmt= '.2f',ax=ax ,cmap=\"Blues\")\n",
    "plt.savefig('correlation.png')\n",
    "plt.show()"
   ]
  },
  {
   "cell_type": "markdown",
   "metadata": {},
   "source": [
    "Como os dados são derivados a partir medições de área e perimetro de cada semente, já é esperado que haja uma correlação entre os atributos de entrada Area, Perimeter, Length, Width e Groove."
   ]
  },
  {
   "cell_type": "code",
   "execution_count": 4,
   "metadata": {},
   "outputs": [
    {
     "data": {
      "image/png": "[encoded data removed]",
      "text/plain": [
       "<Figure size 792x792 with 25 Axes>"
      ]
     },
     "metadata": {},
     "output_type": "display_data"
    }
   ],
   "source": [
    "from pylab import *\n",
    " \n",
    "def cface(ax, x1,x2,x3,x4,x5,x6,x7,x8,x9,x10,x11,x12,x13,x14,x15,x16,x17,x18):\n",
    "    # x1 = height  of upper face\n",
    "    # x2 = overlap of lower face\n",
    "    # x3 = half of vertical size of face\n",
    "    # x4 = width of upper face\n",
    "    # x5 = width of lower face\n",
    "    # x6 = length of nose\n",
    "    # x7 = vertical position of mouth\n",
    "    # x8 = curvature of mouth\n",
    "    # x9 = width of mouth\n",
    "    # x10 = vertical position of eyes\n",
    "    # x11 = separation of eyes\n",
    "    # x12 = slant of eyes\n",
    "    # x13 = eccentricity of eyes\n",
    "    # x14 = size of eyes\n",
    "    # x15 = position of pupils\n",
    "    # x16 = vertical position of eyebrows\n",
    "    # x17 = slant of eyebrows\n",
    "    # x18 = size of eyebrows\n",
    "     \n",
    "    # transform some values so that input between 0,1 yields variety of output\n",
    "    x3 = 1.9*(x3-.5)\n",
    "    x4 = (x4+.25)\n",
    "    x5 = (x5+.2)\n",
    "    x6 = .3*(x6+.01)\n",
    "    x8 = 5*(x8+.001)\n",
    "    x11 /= 5\n",
    "    x12 = 2*(x12-.5)\n",
    "    x13 += .05\n",
    "    x14 += .1\n",
    "    x15 = .5*(x15-.5)\n",
    "    x16 = .25*x16\n",
    "    x17 = .5*(x17-.5)\n",
    "    x18 = .5*(x18+.1)\n",
    " \n",
    "    # top of face, in box with l=-x4, r=x4, t=x1, b=x3\n",
    "    e = mpl.patches.Ellipse( (0,(x1+x3)/2), 2*x4, (x1-x3), fc='white', linewidth=2)\n",
    "    ax.add_artist(e)\n",
    " \n",
    "    # bottom of face, in box with l=-x5, r=x5, b=-x1, t=x2+x3\n",
    "    e = mpl.patches.Ellipse( (0,(-x1+x2+x3)/2), 2*x5, (x1+x2+x3), fc='white', linewidth=2)\n",
    "    ax.add_artist(e)\n",
    " \n",
    "    # cover overlaps\n",
    "    e = mpl.patches.Ellipse( (0,(x1+x3)/2), 2*x4, (x1-x3), fc='white', ec='none')\n",
    "    ax.add_artist(e)\n",
    "    e = mpl.patches.Ellipse( (0,(-x1+x2+x3)/2), 2*x5, (x1+x2+x3), fc='white', ec='none')\n",
    "    ax.add_artist(e)\n",
    "     \n",
    "    # draw nose\n",
    "    plot([0,0], [-x6/2, x6/2], 'k')\n",
    "     \n",
    "    # draw mouth\n",
    "    p = mpl.patches.Arc( (0,-x7+.5/x8), 1/x8, 1/x8, theta1=270-180/pi*arctan(x8*x9), theta2=270+180/pi*arctan(x8*x9))\n",
    "    ax.add_artist(p)\n",
    "     \n",
    "    # draw eyes\n",
    "    p = mpl.patches.Ellipse( (-x11-x14/2,x10), x14, x13*x14, angle=-180/pi*x12, facecolor='white')\n",
    "    ax.add_artist(p)\n",
    "     \n",
    "    p = mpl.patches.Ellipse( (x11+x14/2,x10), x14, x13*x14, angle=180/pi*x12, facecolor='white')\n",
    "    ax.add_artist(p)\n",
    " \n",
    "    # draw pupils\n",
    "    p = mpl.patches.Ellipse( (-x11-x14/2-x15*x14/2, x10), .05, .05, facecolor='black')\n",
    "    ax.add_artist(p)\n",
    "    p = mpl.patches.Ellipse( (x11+x14/2-x15*x14/2, x10), .05, .05, facecolor='black')\n",
    "    ax.add_artist(p)\n",
    "     \n",
    "    # draw eyebrows\n",
    "    plot([-x11-x14/2-x14*x18/2,-x11-x14/2+x14*x18/2],[x10+x13*x14*(x16+x17),x10+x13*x14*(x16-x17)],'k')\n",
    "    plot([x11+x14/2+x14*x18/2,x11+x14/2-x14*x18/2],[x10+x13*x14*(x16+x17),x10+x13*x14*(x16-x17)],'k')\n",
    "    \n",
    "fig = figure(figsize=(11,11))\n",
    "                                                \n",
    "for i in range(25):\n",
    "    ax = fig.add_subplot(5,5,i+1,aspect='equal')\n",
    "    cface(ax, .9, *rand(17))\n",
    "    ax.axis([-1.2,1.2,-1.2,1.2])\n",
    "    ax.set_xticks([])\n",
    "    ax.set_yticks([])\n",
    " \n",
    "fig.subplots_adjust(hspace=0, wspace=0)"
   ]
  },
  {
   "cell_type": "code",
   "execution_count": null,
   "metadata": {},
   "outputs": [],
   "source": []
  }
 ],
 "metadata": {
  "kernelspec": {
   "display_name": "Python 3",
   "language": "python",
   "name": "python3"
  },
  "language_info": {
   "codemirror_mode": {
    "name": "ipython",
    "version": 3
   },
   "file_extension": ".py",
   "mimetype": "text/x-python",
   "name": "python",
   "nbconvert_exporter": "python",
   "pygments_lexer": "ipython3",
   "version": "3.6.6"
  }
 },
 "nbformat": 4,
 "nbformat_minor": 2
}
