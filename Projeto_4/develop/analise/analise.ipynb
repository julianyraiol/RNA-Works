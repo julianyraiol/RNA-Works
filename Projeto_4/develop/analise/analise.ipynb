{
 "cells": [
  {
   "cell_type": "markdown",
   "metadata": {},
   "source": [
    "## Projeto Prático 4\n",
    "\n",
    "**Universidade do Estado do Amazonas**  \n",
    "**Escola Superior de Tecnologia**  \n",
    "**Professora:** Elloá B. Guedes  \n",
    "**Alunos:** Juliany Raiol, Raí Soledade, Richardson Souza  \n",
    "**Disciplina:** Redes Neurais Artificiais"
   ]
  },
  {
   "cell_type": "markdown",
   "metadata": {},
   "source": [
    "## Aprendizado de Máquina com tarefa de classificação aplicado no dataset  de variedades de trigo\n",
    "\n",
    "\n",
    "## Introdução\n",
    "\n",
    "Três variedades de trigo (Kama, Rosa e Canadian) possuem sementes muito parecidas,\n",
    "entretanto diferentes. Um grupo de pesquisadores poloneses coletou 70 amostras de cada\n",
    "tipo e, usando uma técnica particular de raio-X, coletou medidas geométricas destas\n",
    "sementes, a citar: área, perímetro, compactude, comprimento, largura, coeficiente de\n",
    "assimetria e comprimento do sulco da semente.\n",
    "\n",
    "\n",
    "Esta análise visa responder:\n",
    "\n",
   ]
  },
  {
   "cell_type": "code",
   "execution_count": 70,
   "metadata": {},
   "outputs": [],
   "source": [
    "# Módulos utilizados no projeto\n",
    "\n",
    "import pandas as pd\n",
    "from pandas.tools.plotting import parallel_coordinates\n",
    "import matplotlib.pyplot as plt\n",
    "import seaborn as sns\n",
    "\n",
    "sns.set()"
   ]
  },
  {
   "cell_type": "markdown",
   "metadata": {},
   "source": [
    "## 1. Carregando o conjunto de dados"
   ]
  },
  {
   "cell_type": "code",
   "execution_count": 49,
   "metadata": {},
   "outputs": [],
   "source": [
    "names = [\"Area\", \"Perimeter\", \"Compactness\", \"Length\", \"Width\", \"Asymmetry\", \"Groove\", \"Seed\"]\n",
    "\n",
    "df = pd.read_csv('../../data/seeds_dataset.txt', delim_whitespace=True, names = names)"
   ]
  },
  {
   "cell_type": "markdown",
   "metadata": {},
   "source": [
    "## 2. Caracterização do conjunto de dados"
   ]
  },
  {
   "cell_type": "markdown",
   "metadata": {},
   "source": [
    "### 2.1. Informações gerais"
   ]
  },
  {
   "cell_type": "markdown",
   "metadata": {},
   "source": [
    "Visualizando as 10 primeiras linhas do DataFrame, podemos observar que:\n",
    "1. O conjunto de dados é composto por oito atributos de entrada.  \n",
    "2. Não existe dados faltantes, assim como descrito no repositório do conjunto de dados\n",
    "3. Para construir os dados, sete parâmetros geométricos de grãos de trigo foram medidos.\n",
    "4. Para cada semente são apresentado os valores para os atributos: Area, Perimeter, Compactness, Length(comprimento da amêndoa), Width(largura da amêndoa), Asymmetry, Groove(comprimento do sulco do núcleo) e Seed, que indica o tipo correspondente de amêndoas pertencentes a três variedades deferentes de trigo: Kama(1), Rosa(2) e Canadian(3), 70 elementos de cada, e corresponde ao atributo alvo."
   ]
  },
  {
   "cell_type": "code",
   "execution_count": 50,
   "metadata": {},
   "outputs": [
    {
     "name": "stdout",
     "output_type": "stream",
     "text": [
      "Dimensões do dataset (210, 8)\n"
     ]
    }
   ],
   "source": [
    "print(\"Dimensões do dataset\", df.shape)"
   ]
  },
  {
   "cell_type": "code",
   "execution_count": 51,
   "metadata": {},
   "outputs": [
    {
     "data": {
      "text/plain": [
       "Index(['Area', 'Perimeter', 'Compactness', 'Length', 'Width', 'Asymmetry',\n",
       "       'Groove', 'Seed'],\n",
       "      dtype='object')"
      ]
     },
     "execution_count": 51,
     "metadata": {},
     "output_type": "execute_result"
    }
   ],
   "source": [
    "df.columns # mostra o nome das colunas do conjunto de dados"
   ]
  },
  {
   "cell_type": "code",
   "execution_count": 52,
   "metadata": {},
   "outputs": [
    {
     "data": {
      "text/html": [
       "<div>\n",
       "<style scoped>\n",
       "    .dataframe tbody tr th:only-of-type {\n",
       "        vertical-align: middle;\n",
       "    }\n",
       "\n",
       "    .dataframe tbody tr th {\n",
       "        vertical-align: top;\n",
       "    }\n",
       "\n",
       "    .dataframe thead th {\n",
       "        text-align: right;\n",
       "    }\n",
       "</style>\n",
       "<table border=\"1\" class=\"dataframe\">\n",
       "  <thead>\n",
       "    <tr style=\"text-align: right;\">\n",
       "      <th></th>\n",
       "      <th>Area</th>\n",
       "      <th>Perimeter</th>\n",
       "      <th>Compactness</th>\n",
       "      <th>Length</th>\n",
       "      <th>Width</th>\n",
       "      <th>Asymmetry</th>\n",
       "      <th>Groove</th>\n",
       "      <th>Seed</th>\n",
       "    </tr>\n",
       "  </thead>\n",
       "  <tbody>\n",
       "    <tr>\n",
       "      <th>0</th>\n",
       "      <td>15.26</td>\n",
       "      <td>14.84</td>\n",
       "      <td>0.8710</td>\n",
       "      <td>5.763</td>\n",
       "      <td>3.312</td>\n",
       "      <td>2.221</td>\n",
       "      <td>5.220</td>\n",
       "      <td>1</td>\n",
       "    </tr>\n",
       "    <tr>\n",
       "      <th>1</th>\n",
       "      <td>14.88</td>\n",
       "      <td>14.57</td>\n",
       "      <td>0.8811</td>\n",
       "      <td>5.554</td>\n",
       "      <td>3.333</td>\n",
       "      <td>1.018</td>\n",
       "      <td>4.956</td>\n",
       "      <td>1</td>\n",
       "    </tr>\n",
       "    <tr>\n",
       "      <th>2</th>\n",
       "      <td>14.29</td>\n",
       "      <td>14.09</td>\n",
       "      <td>0.9050</td>\n",
       "      <td>5.291</td>\n",
       "      <td>3.337</td>\n",
       "      <td>2.699</td>\n",
       "      <td>4.825</td>\n",
       "      <td>1</td>\n",
       "    </tr>\n",
       "    <tr>\n",
       "      <th>3</th>\n",
       "      <td>13.84</td>\n",
       "      <td>13.94</td>\n",
       "      <td>0.8955</td>\n",
       "      <td>5.324</td>\n",
       "      <td>3.379</td>\n",
       "      <td>2.259</td>\n",
       "      <td>4.805</td>\n",
       "      <td>1</td>\n",
       "    </tr>\n",
       "    <tr>\n",
       "      <th>4</th>\n",
       "      <td>16.14</td>\n",
       "      <td>14.99</td>\n",
       "      <td>0.9034</td>\n",
       "      <td>5.658</td>\n",
       "      <td>3.562</td>\n",
       "      <td>1.355</td>\n",
       "      <td>5.175</td>\n",
       "      <td>1</td>\n",
       "    </tr>\n",
       "    <tr>\n",
       "      <th>5</th>\n",
       "      <td>14.38</td>\n",
       "      <td>14.21</td>\n",
       "      <td>0.8951</td>\n",
       "      <td>5.386</td>\n",
       "      <td>3.312</td>\n",
       "      <td>2.462</td>\n",
       "      <td>4.956</td>\n",
       "      <td>1</td>\n",
       "    </tr>\n",
       "    <tr>\n",
       "      <th>6</th>\n",
       "      <td>14.69</td>\n",
       "      <td>14.49</td>\n",
       "      <td>0.8799</td>\n",
       "      <td>5.563</td>\n",
       "      <td>3.259</td>\n",
       "      <td>3.586</td>\n",
       "      <td>5.219</td>\n",
       "      <td>1</td>\n",
       "    </tr>\n",
       "    <tr>\n",
       "      <th>7</th>\n",
       "      <td>14.11</td>\n",
       "      <td>14.10</td>\n",
       "      <td>0.8911</td>\n",
       "      <td>5.420</td>\n",
       "      <td>3.302</td>\n",
       "      <td>2.700</td>\n",
       "      <td>5.000</td>\n",
       "      <td>1</td>\n",
       "    </tr>\n",
       "    <tr>\n",
       "      <th>8</th>\n",
       "      <td>16.63</td>\n",
       "      <td>15.46</td>\n",
       "      <td>0.8747</td>\n",
       "      <td>6.053</td>\n",
       "      <td>3.465</td>\n",
       "      <td>2.040</td>\n",
       "      <td>5.877</td>\n",
       "      <td>1</td>\n",
       "    </tr>\n",
       "    <tr>\n",
       "      <th>9</th>\n",
       "      <td>16.44</td>\n",
       "      <td>15.25</td>\n",
       "      <td>0.8880</td>\n",
       "      <td>5.884</td>\n",
       "      <td>3.505</td>\n",
       "      <td>1.969</td>\n",
       "      <td>5.533</td>\n",
       "      <td>1</td>\n",
       "    </tr>\n",
       "  </tbody>\n",
       "</table>\n",
       "</div>"
      ],
      "text/plain": [
       "    Area  Perimeter  Compactness  Length  Width  Asymmetry  Groove  Seed\n",
       "0  15.26      14.84       0.8710   5.763  3.312      2.221   5.220     1\n",
       "1  14.88      14.57       0.8811   5.554  3.333      1.018   4.956     1\n",
       "2  14.29      14.09       0.9050   5.291  3.337      2.699   4.825     1\n",
       "3  13.84      13.94       0.8955   5.324  3.379      2.259   4.805     1\n",
       "4  16.14      14.99       0.9034   5.658  3.562      1.355   5.175     1\n",
       "5  14.38      14.21       0.8951   5.386  3.312      2.462   4.956     1\n",
       "6  14.69      14.49       0.8799   5.563  3.259      3.586   5.219     1\n",
       "7  14.11      14.10       0.8911   5.420  3.302      2.700   5.000     1\n",
       "8  16.63      15.46       0.8747   6.053  3.465      2.040   5.877     1\n",
       "9  16.44      15.25       0.8880   5.884  3.505      1.969   5.533     1"
      ]
     },
     "execution_count": 52,
     "metadata": {},
     "output_type": "execute_result"
    }
   ],
   "source": [
    "df.head(10) # Imprime as 10 primeiras linhas do conjunto de dados"
   ]
  },
  {
   "cell_type": "code",
   "execution_count": 53,
   "metadata": {},
   "outputs": [
    {
     "data": {
      "text/html": [
       "<div>\n",
       "<style scoped>\n",
       "    .dataframe tbody tr th:only-of-type {\n",
       "        vertical-align: middle;\n",
       "    }\n",
       "\n",
       "    .dataframe tbody tr th {\n",
       "        vertical-align: top;\n",
       "    }\n",
       "\n",
       "    .dataframe thead th {\n",
       "        text-align: right;\n",
       "    }\n",
       "</style>\n",
       "<table border=\"1\" class=\"dataframe\">\n",
       "  <thead>\n",
       "    <tr style=\"text-align: right;\">\n",
       "      <th></th>\n",
       "      <th>Area</th>\n",
       "      <th>Perimeter</th>\n",
       "      <th>Compactness</th>\n",
       "      <th>Length</th>\n",
       "      <th>Width</th>\n",
       "      <th>Asymmetry</th>\n",
       "      <th>Groove</th>\n",
       "      <th>Seed</th>\n",
       "    </tr>\n",
       "  </thead>\n",
       "  <tbody>\n",
       "    <tr>\n",
       "      <th>205</th>\n",
       "      <td>12.19</td>\n",
       "      <td>13.20</td>\n",
       "      <td>0.8783</td>\n",
       "      <td>5.137</td>\n",
       "      <td>2.981</td>\n",
       "      <td>3.631</td>\n",
       "      <td>4.870</td>\n",
       "      <td>3</td>\n",
       "    </tr>\n",
       "    <tr>\n",
       "      <th>206</th>\n",
       "      <td>11.23</td>\n",
       "      <td>12.88</td>\n",
       "      <td>0.8511</td>\n",
       "      <td>5.140</td>\n",
       "      <td>2.795</td>\n",
       "      <td>4.325</td>\n",
       "      <td>5.003</td>\n",
       "      <td>3</td>\n",
       "    </tr>\n",
       "    <tr>\n",
       "      <th>207</th>\n",
       "      <td>13.20</td>\n",
       "      <td>13.66</td>\n",
       "      <td>0.8883</td>\n",
       "      <td>5.236</td>\n",
       "      <td>3.232</td>\n",
       "      <td>8.315</td>\n",
       "      <td>5.056</td>\n",
       "      <td>3</td>\n",
       "    </tr>\n",
       "    <tr>\n",
       "      <th>208</th>\n",
       "      <td>11.84</td>\n",
       "      <td>13.21</td>\n",
       "      <td>0.8521</td>\n",
       "      <td>5.175</td>\n",
       "      <td>2.836</td>\n",
       "      <td>3.598</td>\n",
       "      <td>5.044</td>\n",
       "      <td>3</td>\n",
       "    </tr>\n",
       "    <tr>\n",
       "      <th>209</th>\n",
       "      <td>12.30</td>\n",
       "      <td>13.34</td>\n",
       "      <td>0.8684</td>\n",
       "      <td>5.243</td>\n",
       "      <td>2.974</td>\n",
       "      <td>5.637</td>\n",
       "      <td>5.063</td>\n",
       "      <td>3</td>\n",
       "    </tr>\n",
       "  </tbody>\n",
       "</table>\n",
       "</div>"
      ],
      "text/plain": [
       "      Area  Perimeter  Compactness  Length  Width  Asymmetry  Groove  Seed\n",
       "205  12.19      13.20       0.8783   5.137  2.981      3.631   4.870     3\n",
       "206  11.23      12.88       0.8511   5.140  2.795      4.325   5.003     3\n",
       "207  13.20      13.66       0.8883   5.236  3.232      8.315   5.056     3\n",
       "208  11.84      13.21       0.8521   5.175  2.836      3.598   5.044     3\n",
       "209  12.30      13.34       0.8684   5.243  2.974      5.637   5.063     3"
      ]
     },
     "execution_count": 53,
     "metadata": {},
     "output_type": "execute_result"
    }
   ],
   "source": [
    "df.tail() # Imprime as 5 últimas linhas do conjunto de dados"
   ]
  },
  {
   "cell_type": "code",
   "execution_count": 54,
   "metadata": {},
   "outputs": [
    {
     "name": "stdout",
     "output_type": "stream",
     "text": [
      "Seed\n",
      "1    70\n",
      "2    70\n",
      "3    70\n",
      "dtype: int64\n"
     ]
    }
   ],
   "source": [
    "print(df.groupby('Seed').size()) # Agrupa a coluna referente ao atributo alvo"
   ]
  },
  {
   "cell_type": "markdown",
   "metadata": {},
   "source": [
    "### 2.2. Características dos atributos\n",
    "\n",
    "Analisando os valores que um atributo pode assumir(tipo) consideramos que:\n",
    "1. Todos os atributos quantitativos.\n",
    "2. E, por serem resultado de medições de parâmetros geométricos e estarem representados por valores reais, todos os atributos preditivos são também contínuos e o atributo alvo é discreto pois contêm um número finito.\n",
    "\n",
    "| Atributo | Classificação |\n",
    "| ---: | :--- |\n",
    "| Area | Quantitativo contínuo |\n",
    "| Perimeter | Quantitativo contínuo |\n",
    "| Compactness | Quantitativo contínuo |\n",
    "| Length | Quantitativo contínuo |\n",
    "| Width | Quantitativo contínuo |\n",
    "| Asymmetry | Quantitativo contínuo |\n",
    "| Groove | Quantitativo contínuo |\n",
    "| Seed | Quantitativo discreto |"
   ]
  },
  {
   "cell_type": "code",
   "execution_count": 55,
   "metadata": {},
   "outputs": [
    {
     "data": {
      "text/plain": [
       "Area           float64\n",
       "Perimeter      float64\n",
       "Compactness    float64\n",
       "Length         float64\n",
       "Width          float64\n",
       "Asymmetry      float64\n",
       "Groove         float64\n",
       "Seed             int64\n",
       "dtype: object"
      ]
     },
     "execution_count": 55,
     "metadata": {},
     "output_type": "execute_result"
    }
   ],
   "source": [
    "df.dtypes # mostra os tipos de dados presentes no conjunto de dados"
   ]
  },
  {
   "cell_type": "code",
   "execution_count": 93,
   "metadata": {},
   "outputs": [
    {
     "data": {
      "text/plain": [
       "Area           False\n",
       "Perimeter      False\n",
       "Compactness    False\n",
       "Length         False\n",
       "Width          False\n",
       "Asymmetry      False\n",
       "Groove         False\n",
       "Seed           False\n",
       "dtype: bool"
      ]
     },
     "execution_count": 93,
     "metadata": {},
     "output_type": "execute_result"
    }
   ],
   "source": [
    "df.isnull().any() # verifica se há valores nulos no dataset"
   ]
  },
  {
   "cell_type": "markdown",
   "metadata": {},
   "source": [
    "### 2.3. Escala dos atributos  \n",
    "Analisando os valores que um atributo pode assumir(escala) consideramos que:\n",
    "1. Todos os atributos preditivos são racionais, pois carregam mais informação. Existe uma escala de razão entre os atributos.\n",
    "2. Já o atributo alvo, por carregar uma menor quantidade de informação e por não existir uma relação de ordem entre seus valores, consideramos nominal. São trẽs valores nominais ou classes(1, 2 e 3) que representam as três variedades diferentes de trigo: Kama, Rosa e Canadian.\n",
    "\n",
    "| Atributo | Classificação |\n",
    "| ---: | :--- |\n",
    "| Area | Racional |\n",
    "| Perimeter | Racional |\n",
    "| Compactness | Racional |\n",
    "| Length | Racional |\n",
    "| Width | Racional |\n",
    "| Asymmetry | Racional |\n",
    "| Groove | Racional |\n",
    "| Seed | Nominal |"
   ]
  },
  {
   "cell_type": "markdown",
   "metadata": {},
   "source": [
    "### 3. Exploração dos dados"
   ]
  },
  {
   "cell_type": "markdown",
   "metadata": {},
   "source": [
    "Para uma facilidade no processo de análise, foi criado dataframes de cada tipo de semente. Dessa forma, foram gerados 3: kama, rosa e canadian. "
   ]
  },
  {
   "cell_type": "code",
   "execution_count": 57,
   "metadata": {},
   "outputs": [],
   "source": [
    "kama     = df[df['Seed']==1]\n",
    "rosa     = df[df['Seed']==2]\n",
    "canadian = df[df['Seed']==3]"
   ]
  },
  {
   "cell_type": "markdown",
   "metadata": {},
   "source": [
    "> Dados gerais da semente do tipo <strong>Kama</strong>"
   ]
  },
  {
   "cell_type": "code",
   "execution_count": 58,
   "metadata": {},
   "outputs": [
    {
     "data": {
      "text/html": [
       "<div>\n",
       "<style scoped>\n",
       "    .dataframe tbody tr th:only-of-type {\n",
       "        vertical-align: middle;\n",
       "    }\n",
       "\n",
       "    .dataframe tbody tr th {\n",
       "        vertical-align: top;\n",
       "    }\n",
       "\n",
       "    .dataframe thead th {\n",
       "        text-align: right;\n",
       "    }\n",
       "</style>\n",
       "<table border=\"1\" class=\"dataframe\">\n",
       "  <thead>\n",
       "    <tr style=\"text-align: right;\">\n",
       "      <th></th>\n",
       "      <th>Area</th>\n",
       "      <th>Perimeter</th>\n",
       "      <th>Compactness</th>\n",
       "      <th>Length</th>\n",
       "      <th>Width</th>\n",
       "      <th>Asymmetry</th>\n",
       "      <th>Groove</th>\n",
       "      <th>Seed</th>\n",
       "    </tr>\n",
       "  </thead>\n",
       "  <tbody>\n",
       "    <tr>\n",
       "      <th>count</th>\n",
       "      <td>70.000000</td>\n",
       "      <td>70.000000</td>\n",
       "      <td>70.000000</td>\n",
       "      <td>70.000000</td>\n",
       "      <td>70.000000</td>\n",
       "      <td>70.000000</td>\n",
       "      <td>70.000000</td>\n",
       "      <td>70.0</td>\n",
       "    </tr>\n",
       "    <tr>\n",
       "      <th>mean</th>\n",
       "      <td>14.334429</td>\n",
       "      <td>14.294286</td>\n",
       "      <td>0.880070</td>\n",
       "      <td>5.508057</td>\n",
       "      <td>3.244629</td>\n",
       "      <td>2.667403</td>\n",
       "      <td>5.087214</td>\n",
       "      <td>1.0</td>\n",
       "    </tr>\n",
       "    <tr>\n",
       "      <th>std</th>\n",
       "      <td>1.215704</td>\n",
       "      <td>0.576583</td>\n",
       "      <td>0.016191</td>\n",
       "      <td>0.231508</td>\n",
       "      <td>0.177616</td>\n",
       "      <td>1.173901</td>\n",
       "      <td>0.263699</td>\n",
       "      <td>0.0</td>\n",
       "    </tr>\n",
       "    <tr>\n",
       "      <th>min</th>\n",
       "      <td>11.230000</td>\n",
       "      <td>12.630000</td>\n",
       "      <td>0.839200</td>\n",
       "      <td>4.902000</td>\n",
       "      <td>2.850000</td>\n",
       "      <td>0.765100</td>\n",
       "      <td>4.519000</td>\n",
       "      <td>1.0</td>\n",
       "    </tr>\n",
       "    <tr>\n",
       "      <th>25%</th>\n",
       "      <td>13.750000</td>\n",
       "      <td>13.960000</td>\n",
       "      <td>0.868850</td>\n",
       "      <td>5.384500</td>\n",
       "      <td>3.134250</td>\n",
       "      <td>1.826500</td>\n",
       "      <td>4.924500</td>\n",
       "      <td>1.0</td>\n",
       "    </tr>\n",
       "    <tr>\n",
       "      <th>50%</th>\n",
       "      <td>14.355000</td>\n",
       "      <td>14.320000</td>\n",
       "      <td>0.880500</td>\n",
       "      <td>5.534000</td>\n",
       "      <td>3.243500</td>\n",
       "      <td>2.545500</td>\n",
       "      <td>5.094000</td>\n",
       "      <td>1.0</td>\n",
       "    </tr>\n",
       "    <tr>\n",
       "      <th>75%</th>\n",
       "      <td>15.045000</td>\n",
       "      <td>14.732500</td>\n",
       "      <td>0.890400</td>\n",
       "      <td>5.677000</td>\n",
       "      <td>3.378500</td>\n",
       "      <td>3.301000</td>\n",
       "      <td>5.223500</td>\n",
       "      <td>1.0</td>\n",
       "    </tr>\n",
       "    <tr>\n",
       "      <th>max</th>\n",
       "      <td>17.080000</td>\n",
       "      <td>15.460000</td>\n",
       "      <td>0.918300</td>\n",
       "      <td>6.053000</td>\n",
       "      <td>3.683000</td>\n",
       "      <td>6.685000</td>\n",
       "      <td>5.877000</td>\n",
       "      <td>1.0</td>\n",
       "    </tr>\n",
       "  </tbody>\n",
       "</table>\n",
       "</div>"
      ],
      "text/plain": [
       "            Area  Perimeter  Compactness     Length      Width  Asymmetry  \\\n",
       "count  70.000000  70.000000    70.000000  70.000000  70.000000  70.000000   \n",
       "mean   14.334429  14.294286     0.880070   5.508057   3.244629   2.667403   \n",
       "std     1.215704   0.576583     0.016191   0.231508   0.177616   1.173901   \n",
       "min    11.230000  12.630000     0.839200   4.902000   2.850000   0.765100   \n",
       "25%    13.750000  13.960000     0.868850   5.384500   3.134250   1.826500   \n",
       "50%    14.355000  14.320000     0.880500   5.534000   3.243500   2.545500   \n",
       "75%    15.045000  14.732500     0.890400   5.677000   3.378500   3.301000   \n",
       "max    17.080000  15.460000     0.918300   6.053000   3.683000   6.685000   \n",
       "\n",
       "          Groove  Seed  \n",
       "count  70.000000  70.0  \n",
       "mean    5.087214   1.0  \n",
       "std     0.263699   0.0  \n",
       "min     4.519000   1.0  \n",
       "25%     4.924500   1.0  \n",
       "50%     5.094000   1.0  \n",
       "75%     5.223500   1.0  \n",
       "max     5.877000   1.0  "
      ]
     },
     "execution_count": 58,
     "metadata": {},
     "output_type": "execute_result"
    }
   ],
   "source": [
    "kama.describe()"
   ]
  },
  {
   "cell_type": "markdown",
   "metadata": {},
   "source": [
    "> Dados gerais da semente do tipo <strong>Rosa</strong>"
   ]
  },
  {
   "cell_type": "code",
   "execution_count": 59,
   "metadata": {},
   "outputs": [
    {
     "data": {
      "text/html": [
       "<div>\n",
       "<style scoped>\n",
       "    .dataframe tbody tr th:only-of-type {\n",
       "        vertical-align: middle;\n",
       "    }\n",
       "\n",
       "    .dataframe tbody tr th {\n",
       "        vertical-align: top;\n",
       "    }\n",
       "\n",
       "    .dataframe thead th {\n",
       "        text-align: right;\n",
       "    }\n",
       "</style>\n",
       "<table border=\"1\" class=\"dataframe\">\n",
       "  <thead>\n",
       "    <tr style=\"text-align: right;\">\n",
       "      <th></th>\n",
       "      <th>Area</th>\n",
       "      <th>Perimeter</th>\n",
       "      <th>Compactness</th>\n",
       "      <th>Length</th>\n",
       "      <th>Width</th>\n",
       "      <th>Asymmetry</th>\n",
       "      <th>Groove</th>\n",
       "      <th>Seed</th>\n",
       "    </tr>\n",
       "  </thead>\n",
       "  <tbody>\n",
       "    <tr>\n",
       "      <th>count</th>\n",
       "      <td>70.000000</td>\n",
       "      <td>70.000000</td>\n",
       "      <td>70.000000</td>\n",
       "      <td>70.000000</td>\n",
       "      <td>70.000000</td>\n",
       "      <td>70.000000</td>\n",
       "      <td>70.000000</td>\n",
       "      <td>70.0</td>\n",
       "    </tr>\n",
       "    <tr>\n",
       "      <th>mean</th>\n",
       "      <td>18.334286</td>\n",
       "      <td>16.135714</td>\n",
       "      <td>0.883517</td>\n",
       "      <td>6.148029</td>\n",
       "      <td>3.677414</td>\n",
       "      <td>3.644800</td>\n",
       "      <td>6.020600</td>\n",
       "      <td>2.0</td>\n",
       "    </tr>\n",
       "    <tr>\n",
       "      <th>std</th>\n",
       "      <td>1.439496</td>\n",
       "      <td>0.616995</td>\n",
       "      <td>0.015500</td>\n",
       "      <td>0.268191</td>\n",
       "      <td>0.185539</td>\n",
       "      <td>1.181868</td>\n",
       "      <td>0.253934</td>\n",
       "      <td>0.0</td>\n",
       "    </tr>\n",
       "    <tr>\n",
       "      <th>min</th>\n",
       "      <td>15.380000</td>\n",
       "      <td>14.660000</td>\n",
       "      <td>0.845200</td>\n",
       "      <td>5.363000</td>\n",
       "      <td>3.231000</td>\n",
       "      <td>1.472000</td>\n",
       "      <td>5.144000</td>\n",
       "      <td>2.0</td>\n",
       "    </tr>\n",
       "    <tr>\n",
       "      <th>25%</th>\n",
       "      <td>17.330000</td>\n",
       "      <td>15.737500</td>\n",
       "      <td>0.872525</td>\n",
       "      <td>5.979250</td>\n",
       "      <td>3.554250</td>\n",
       "      <td>2.845500</td>\n",
       "      <td>5.877500</td>\n",
       "      <td>2.0</td>\n",
       "    </tr>\n",
       "    <tr>\n",
       "      <th>50%</th>\n",
       "      <td>18.720000</td>\n",
       "      <td>16.210000</td>\n",
       "      <td>0.882600</td>\n",
       "      <td>6.148500</td>\n",
       "      <td>3.693500</td>\n",
       "      <td>3.609500</td>\n",
       "      <td>5.981500</td>\n",
       "      <td>2.0</td>\n",
       "    </tr>\n",
       "    <tr>\n",
       "      <th>75%</th>\n",
       "      <td>19.137500</td>\n",
       "      <td>16.557500</td>\n",
       "      <td>0.898225</td>\n",
       "      <td>6.312000</td>\n",
       "      <td>3.804750</td>\n",
       "      <td>4.436000</td>\n",
       "      <td>6.187750</td>\n",
       "      <td>2.0</td>\n",
       "    </tr>\n",
       "    <tr>\n",
       "      <th>max</th>\n",
       "      <td>21.180000</td>\n",
       "      <td>17.250000</td>\n",
       "      <td>0.910800</td>\n",
       "      <td>6.675000</td>\n",
       "      <td>4.033000</td>\n",
       "      <td>6.682000</td>\n",
       "      <td>6.550000</td>\n",
       "      <td>2.0</td>\n",
       "    </tr>\n",
       "  </tbody>\n",
       "</table>\n",
       "</div>"
      ],
      "text/plain": [
       "            Area  Perimeter  Compactness     Length      Width  Asymmetry  \\\n",
       "count  70.000000  70.000000    70.000000  70.000000  70.000000  70.000000   \n",
       "mean   18.334286  16.135714     0.883517   6.148029   3.677414   3.644800   \n",
       "std     1.439496   0.616995     0.015500   0.268191   0.185539   1.181868   \n",
       "min    15.380000  14.660000     0.845200   5.363000   3.231000   1.472000   \n",
       "25%    17.330000  15.737500     0.872525   5.979250   3.554250   2.845500   \n",
       "50%    18.720000  16.210000     0.882600   6.148500   3.693500   3.609500   \n",
       "75%    19.137500  16.557500     0.898225   6.312000   3.804750   4.436000   \n",
       "max    21.180000  17.250000     0.910800   6.675000   4.033000   6.682000   \n",
       "\n",
       "          Groove  Seed  \n",
       "count  70.000000  70.0  \n",
       "mean    6.020600   2.0  \n",
       "std     0.253934   0.0  \n",
       "min     5.144000   2.0  \n",
       "25%     5.877500   2.0  \n",
       "50%     5.981500   2.0  \n",
       "75%     6.187750   2.0  \n",
       "max     6.550000   2.0  "
      ]
     },
     "execution_count": 59,
     "metadata": {},
     "output_type": "execute_result"
    }
   ],
   "source": [
    "rosa.describe()"
   ]
  },
  {
   "cell_type": "markdown",
   "metadata": {},
   "source": [
    "> Dados gerais da semente do tipo <strong>Canadian</strong>"
   ]
  },
  {
   "cell_type": "code",
   "execution_count": 60,
   "metadata": {},
   "outputs": [
    {
     "data": {
      "text/html": [
       "<div>\n",
       "<style scoped>\n",
       "    .dataframe tbody tr th:only-of-type {\n",
       "        vertical-align: middle;\n",
       "    }\n",
       "\n",
       "    .dataframe tbody tr th {\n",
       "        vertical-align: top;\n",
       "    }\n",
       "\n",
       "    .dataframe thead th {\n",
       "        text-align: right;\n",
       "    }\n",
       "</style>\n",
       "<table border=\"1\" class=\"dataframe\">\n",
       "  <thead>\n",
       "    <tr style=\"text-align: right;\">\n",
       "      <th></th>\n",
       "      <th>Area</th>\n",
       "      <th>Perimeter</th>\n",
       "      <th>Compactness</th>\n",
       "      <th>Length</th>\n",
       "      <th>Width</th>\n",
       "      <th>Asymmetry</th>\n",
       "      <th>Groove</th>\n",
       "      <th>Seed</th>\n",
       "    </tr>\n",
       "  </thead>\n",
       "  <tbody>\n",
       "    <tr>\n",
       "      <th>count</th>\n",
       "      <td>70.000000</td>\n",
       "      <td>70.000000</td>\n",
       "      <td>70.000000</td>\n",
       "      <td>70.000000</td>\n",
       "      <td>70.000000</td>\n",
       "      <td>70.000000</td>\n",
       "      <td>70.000000</td>\n",
       "      <td>70.0</td>\n",
       "    </tr>\n",
       "    <tr>\n",
       "      <th>mean</th>\n",
       "      <td>11.873857</td>\n",
       "      <td>13.247857</td>\n",
       "      <td>0.849409</td>\n",
       "      <td>5.229514</td>\n",
       "      <td>2.853771</td>\n",
       "      <td>4.788400</td>\n",
       "      <td>5.116400</td>\n",
       "      <td>3.0</td>\n",
       "    </tr>\n",
       "    <tr>\n",
       "      <th>std</th>\n",
       "      <td>0.723004</td>\n",
       "      <td>0.340196</td>\n",
       "      <td>0.021760</td>\n",
       "      <td>0.138015</td>\n",
       "      <td>0.147516</td>\n",
       "      <td>1.336465</td>\n",
       "      <td>0.162068</td>\n",
       "      <td>0.0</td>\n",
       "    </tr>\n",
       "    <tr>\n",
       "      <th>min</th>\n",
       "      <td>10.590000</td>\n",
       "      <td>12.410000</td>\n",
       "      <td>0.808100</td>\n",
       "      <td>4.899000</td>\n",
       "      <td>2.630000</td>\n",
       "      <td>1.661000</td>\n",
       "      <td>4.745000</td>\n",
       "      <td>3.0</td>\n",
       "    </tr>\n",
       "    <tr>\n",
       "      <th>25%</th>\n",
       "      <td>11.262500</td>\n",
       "      <td>13.002500</td>\n",
       "      <td>0.834000</td>\n",
       "      <td>5.136250</td>\n",
       "      <td>2.725500</td>\n",
       "      <td>4.048750</td>\n",
       "      <td>5.002000</td>\n",
       "      <td>3.0</td>\n",
       "    </tr>\n",
       "    <tr>\n",
       "      <th>50%</th>\n",
       "      <td>11.835000</td>\n",
       "      <td>13.250000</td>\n",
       "      <td>0.849350</td>\n",
       "      <td>5.224000</td>\n",
       "      <td>2.834500</td>\n",
       "      <td>4.839000</td>\n",
       "      <td>5.091500</td>\n",
       "      <td>3.0</td>\n",
       "    </tr>\n",
       "    <tr>\n",
       "      <th>75%</th>\n",
       "      <td>12.425000</td>\n",
       "      <td>13.470000</td>\n",
       "      <td>0.861825</td>\n",
       "      <td>5.323750</td>\n",
       "      <td>2.967000</td>\n",
       "      <td>5.467250</td>\n",
       "      <td>5.228500</td>\n",
       "      <td>3.0</td>\n",
       "    </tr>\n",
       "    <tr>\n",
       "      <th>max</th>\n",
       "      <td>13.370000</td>\n",
       "      <td>13.950000</td>\n",
       "      <td>0.897700</td>\n",
       "      <td>5.541000</td>\n",
       "      <td>3.232000</td>\n",
       "      <td>8.456000</td>\n",
       "      <td>5.491000</td>\n",
       "      <td>3.0</td>\n",
       "    </tr>\n",
       "  </tbody>\n",
       "</table>\n",
       "</div>"
      ],
      "text/plain": [
       "            Area  Perimeter  Compactness     Length      Width  Asymmetry  \\\n",
       "count  70.000000  70.000000    70.000000  70.000000  70.000000  70.000000   \n",
       "mean   11.873857  13.247857     0.849409   5.229514   2.853771   4.788400   \n",
       "std     0.723004   0.340196     0.021760   0.138015   0.147516   1.336465   \n",
       "min    10.590000  12.410000     0.808100   4.899000   2.630000   1.661000   \n",
       "25%    11.262500  13.002500     0.834000   5.136250   2.725500   4.048750   \n",
       "50%    11.835000  13.250000     0.849350   5.224000   2.834500   4.839000   \n",
       "75%    12.425000  13.470000     0.861825   5.323750   2.967000   5.467250   \n",
       "max    13.370000  13.950000     0.897700   5.541000   3.232000   8.456000   \n",
       "\n",
       "          Groove  Seed  \n",
       "count  70.000000  70.0  \n",
       "mean    5.116400   3.0  \n",
       "std     0.162068   0.0  \n",
       "min     4.745000   3.0  \n",
       "25%     5.002000   3.0  \n",
       "50%     5.091500   3.0  \n",
       "75%     5.228500   3.0  \n",
       "max     5.491000   3.0  "
      ]
     },
     "execution_count": 60,
     "metadata": {},
     "output_type": "execute_result"
    }
   ],
   "source": [
    "canadian.describe()"
   ]
  },
  {
   "cell_type": "markdown",
   "metadata": {},
   "source": [
    "Fazendo uma análise da descrição de cada tipo de semente, podemos ver que a média do atributo **Area** é bem distinta entre os três tipos de semente.  \n",
    "O atributo **Perimeter** e **Asymmetry** tem uma distinção mais discreta entre os três tipos. Porém, a média **Perimeter** da semente Rosa em relação aos tipos Kama e Canadian é bem diferenciado. \n",
    "\n",
    "Abaixo isolamos esses três atributos para melhor visualização:"
   ]
  },
  {
   "cell_type": "markdown",
   "metadata": {},
   "source": [
    "#### MEDIDAS DE LOCALIDADE (MÉDIA, MEDIANA E QUARTIS E PERCETIS)\n",
    "\n",
    "1 - Kama\n",
    "2 - Rosa\n",
    "3 - Canadian"
   ]
  },
  {
   "cell_type": "code",
   "execution_count": 65,
   "metadata": {},
   "outputs": [
    {
     "data": {
      "text/html": [
       "<div>\n",
       "<style scoped>\n",
       "    .dataframe tbody tr th:only-of-type {\n",
       "        vertical-align: middle;\n",
       "    }\n",
       "\n",
       "    .dataframe tbody tr th {\n",
       "        vertical-align: top;\n",
       "    }\n",
       "\n",
       "    .dataframe thead th {\n",
       "        text-align: right;\n",
       "    }\n",
       "</style>\n",
       "<table border=\"1\" class=\"dataframe\">\n",
       "  <thead>\n",
       "    <tr style=\"text-align: right;\">\n",
       "      <th></th>\n",
       "      <th>Area</th>\n",
       "      <th>Perimeter</th>\n",
       "      <th>Asymmetry</th>\n",
       "    </tr>\n",
       "    <tr>\n",
       "      <th>Seed</th>\n",
       "      <th></th>\n",
       "      <th></th>\n",
       "      <th></th>\n",
       "    </tr>\n",
       "  </thead>\n",
       "  <tbody>\n",
       "    <tr>\n",
       "      <th>1</th>\n",
       "      <td>14.334429</td>\n",
       "      <td>14.294286</td>\n",
       "      <td>2.667403</td>\n",
       "    </tr>\n",
       "    <tr>\n",
       "      <th>2</th>\n",
       "      <td>18.334286</td>\n",
       "      <td>16.135714</td>\n",
       "      <td>3.644800</td>\n",
       "    </tr>\n",
       "    <tr>\n",
       "      <th>3</th>\n",
       "      <td>11.873857</td>\n",
       "      <td>13.247857</td>\n",
       "      <td>4.788400</td>\n",
       "    </tr>\n",
       "  </tbody>\n",
       "</table>\n",
       "</div>"
      ],
      "text/plain": [
       "           Area  Perimeter  Asymmetry\n",
       "Seed                                 \n",
       "1     14.334429  14.294286   2.667403\n",
       "2     18.334286  16.135714   3.644800\n",
       "3     11.873857  13.247857   4.788400"
      ]
     },
     "execution_count": 65,
     "metadata": {},
     "output_type": "execute_result"
    }
   ],
   "source": [
    "gb = df.groupby('Seed')[['Area','Perimeter', 'Asymmetry']]\n",
    "gb.mean()"
   ]
  },
  {
   "cell_type": "markdown",
   "metadata": {},
   "source": [
    "Mas, como já sabemos, a média tem uma sensibilidade aos **outliers**. Então, vamos visualizar a mediana desses atributos Area, Perimeter e Asymmtry."
   ]
  },
  {
   "cell_type": "code",
   "execution_count": 66,
   "metadata": {},
   "outputs": [
    {
     "data": {
      "text/html": [
       "<div>\n",
       "<style scoped>\n",
       "    .dataframe tbody tr th:only-of-type {\n",
       "        vertical-align: middle;\n",
       "    }\n",
       "\n",
       "    .dataframe tbody tr th {\n",
       "        vertical-align: top;\n",
       "    }\n",
       "\n",
       "    .dataframe thead th {\n",
       "        text-align: right;\n",
       "    }\n",
       "</style>\n",
       "<table border=\"1\" class=\"dataframe\">\n",
       "  <thead>\n",
       "    <tr style=\"text-align: right;\">\n",
       "      <th></th>\n",
       "      <th>Area</th>\n",
       "      <th>Perimeter</th>\n",
       "      <th>Asymmetry</th>\n",
       "    </tr>\n",
       "    <tr>\n",
       "      <th>Seed</th>\n",
       "      <th></th>\n",
       "      <th></th>\n",
       "      <th></th>\n",
       "    </tr>\n",
       "  </thead>\n",
       "  <tbody>\n",
       "    <tr>\n",
       "      <th>1</th>\n",
       "      <td>14.355</td>\n",
       "      <td>14.32</td>\n",
       "      <td>2.5455</td>\n",
       "    </tr>\n",
       "    <tr>\n",
       "      <th>2</th>\n",
       "      <td>18.720</td>\n",
       "      <td>16.21</td>\n",
       "      <td>3.6095</td>\n",
       "    </tr>\n",
       "    <tr>\n",
       "      <th>3</th>\n",
       "      <td>11.835</td>\n",
       "      <td>13.25</td>\n",
       "      <td>4.8390</td>\n",
       "    </tr>\n",
       "  </tbody>\n",
       "</table>\n",
       "</div>"
      ],
      "text/plain": [
       "        Area  Perimeter  Asymmetry\n",
       "Seed                              \n",
       "1     14.355      14.32     2.5455\n",
       "2     18.720      16.21     3.6095\n",
       "3     11.835      13.25     4.8390"
      ]
     },
     "execution_count": 66,
     "metadata": {},
     "output_type": "execute_result"
    }
   ],
   "source": [
    "gb.median()"
   ]
  },
  {
   "cell_type": "markdown",
   "metadata": {},
   "source": [
    "Vendo a mediana dos atributos acima, ainda mantemos a mesma conclusão da análise feita com a média. Mesmo assim, a mediana não elimina os **outliers** apenas minimiza sua presença."
   ]
  },
  {
   "cell_type": "code",
   "execution_count": 68,
   "metadata": {},
   "outputs": [
    {
     "data": {
      "text/html": [
       "<div>\n",
       "<style scoped>\n",
       "    .dataframe tbody tr th:only-of-type {\n",
       "        vertical-align: middle;\n",
       "    }\n",
       "\n",
       "    .dataframe tbody tr th {\n",
       "        vertical-align: top;\n",
       "    }\n",
       "\n",
       "    .dataframe thead th {\n",
       "        text-align: right;\n",
       "    }\n",
       "</style>\n",
       "<table border=\"1\" class=\"dataframe\">\n",
       "  <thead>\n",
       "    <tr style=\"text-align: right;\">\n",
       "      <th></th>\n",
       "      <th>Area</th>\n",
       "      <th>Perimeter</th>\n",
       "      <th>Asymmetry</th>\n",
       "    </tr>\n",
       "    <tr>\n",
       "      <th>Seed</th>\n",
       "      <th></th>\n",
       "      <th></th>\n",
       "      <th></th>\n",
       "    </tr>\n",
       "  </thead>\n",
       "  <tbody>\n",
       "    <tr>\n",
       "      <th>1</th>\n",
       "      <td>1.215704</td>\n",
       "      <td>0.576583</td>\n",
       "      <td>1.173901</td>\n",
       "    </tr>\n",
       "    <tr>\n",
       "      <th>2</th>\n",
       "      <td>1.439496</td>\n",
       "      <td>0.616995</td>\n",
       "      <td>1.181868</td>\n",
       "    </tr>\n",
       "    <tr>\n",
       "      <th>3</th>\n",
       "      <td>0.723004</td>\n",
       "      <td>0.340196</td>\n",
       "      <td>1.336465</td>\n",
       "    </tr>\n",
       "  </tbody>\n",
       "</table>\n",
       "</div>"
      ],
      "text/plain": [
       "          Area  Perimeter  Asymmetry\n",
       "Seed                                \n",
       "1     1.215704   0.576583   1.173901\n",
       "2     1.439496   0.616995   1.181868\n",
       "3     0.723004   0.340196   1.336465"
      ]
     },
     "execution_count": 68,
     "metadata": {},
     "output_type": "execute_result"
    }
   ],
   "source": [
    "gb.std()"
   ]
  },
  {
   "cell_type": "markdown",
   "metadata": {},
   "source": [
    "Os desvios padrões com valores acima de 1, indicam maior dispersão dos dados. Isso é visto com maior entoação no atributo Asymmetry em todos as sementes disponíveis no dataset. "
   ]
  },
  {
   "cell_type": "markdown",
   "metadata": {},
   "source": [
    "### 4. Visualização dos dados"
   ]
  },
  {
   "cell_type": "markdown",
   "metadata": {},
   "source": [
    "### 4.1.  Histogramas"
   ]
  },
  {
   "cell_type": "code",
   "execution_count": 46,
   "metadata": {},
   "outputs": [
    {
     "data": {
      "image/png": "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\n",
      "text/plain": [
       "<Figure size 1152x864 with 9 Axes>"
      ]
     },
     "metadata": {},
     "output_type": "display_data"
    }
   ],
   "source": [
    "fig,ax=plt.subplots(3,3,figsize=(16, 12))\n",
    "\n",
    "# Histograma do atributo Area\n",
    "kama.Area.plot(kind=\"hist\", ax=ax[0][0],label=\"kama\",color ='k',alpha=0.5,fontsize=10)\n",
    "rosa.Area.plot(kind=\"hist\", ax=ax[0][1],label=\"rosa\",color='k',alpha=0.5,fontsize=10)\n",
    "canadian.Area.plot( kind=\"hist\",ax=ax[0][2],label=\"canadian\",color='k',alpha=0.5,fontsize=10)\n",
    "\n",
    "kama.Perimeter.plot(kind=\"hist\", ax=ax[1][0],label=\"kama\",color ='k',alpha=0.5,fontsize=10)\n",
    "rosa.Perimeter.plot(kind=\"hist\", ax=ax[1][1],label=\"rosa\",color='k',alpha=0.5,fontsize=10)\n",
    "canadian.Perimeter.plot( kind=\"hist\",ax=ax[1][2],label=\"canadian\",color='k', alpha=0.5,fontsize=10)\n",
    "\n",
    "kama.Asymmetry.plot(kind=\"hist\", ax=ax[2][0],label=\"kama\",color ='k', alpha=0.5,fontsize=10)\n",
    "rosa.Asymmetry.plot(kind=\"hist\", ax=ax[2][1],label=\"rosa\",color='k',alpha=0.5,fontsize=10)\n",
    "canadian.Asymmetry.plot( kind=\"hist\",ax=ax[2][2],label=\"canadian\",color='k',alpha=0.5,fontsize=10)\n",
    "\n",
    "ax[0][0].set(title='Area')\n",
    "ax[0][1].set(title='Area')\n",
    "ax[0][2].set(title='Area')\n",
    "ax[1][0].set(title='Perimeter')\n",
    "ax[1][1].set(title='Perimeter')\n",
    "ax[1][2].set(title='Perimeter')\n",
    "ax[2][0].set(title='Asymmetry')\n",
    "ax[2][1].set(title='Asymmetry')\n",
    "ax[2][2].set(title='Asymmetry')\n",
    "\n",
    "ax[0][0].legend()\n",
    "ax[0][1].legend()\n",
    "ax[0][2].legend()\n",
    "ax[1][0].legend()\n",
    "ax[1][1].legend()\n",
    "ax[1][2].legend()\n",
    "ax[2][0].legend()\n",
    "ax[2][1].legend()\n",
    "ax[2][2].legend()\n",
    "\n",
    "plt.savefig('histograma.png')\n",
    "plt.show()"
   ]
  },
  {
   "cell_type": "markdown",
   "metadata": {},
   "source": [
    "A distribuição dos valores em um conjunto de dados está associada ao valor da obliquidade. \n",
    "\n",
    "Quando visualizamos o histograma do atributo \"Area\", as sementes do tipo \"Rosa\" e \"Canadian\" apresentam distribuições do tipo multimodal, onde há o aparecimento de vários picos. Existe uma quantidade maior de valores não arrendondados nesses cenários. Por outro lado, a \"Kama\" mostra um frequência assimétrica, diferente das demais.\n",
    "\n",
    "Em \"Perimeter\", as distribuições tendem a se centralizar, entretanto, ainda existe a presença de picos isolados.\n",
    "\n",
    "No atributo \"Asymmetry\", a semente do tipo \"Rosa\" apresenta um gráfico do tipo \"Platô\", ou seja, há diversas misturas de distribuições com médias diferentes. A \"Kama\" é assimétrico e distorcido à direita, indica a ocorrência de altos valores com baixa frequência. \"Canadian\" continua a apresentar um gráfico multimodal, com a presença de outliers. \n",
    "\n",
    "Calculando o valor da obliquidade para o atributo Area, Perimeter e Asymmetry, é possível visualizar como isto influencia nos dados. É possível visualizar no tópico seguinte."
   ]
  },
  {
   "cell_type": "markdown",
   "metadata": {},
   "source": [
    "### 4.2. BOXPLOT"
   ]
  },
  {
   "cell_type": "code",
   "execution_count": 39,
   "metadata": {},
   "outputs": [
    {
     "data": {
      "image/png": "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\n",
      "text/plain": [
       "<Figure size 1152x864 with 9 Axes>"
      ]
     },
     "metadata": {},
     "output_type": "display_data"
    }
   ],
   "source": [
    "fig,ax=plt.subplots(3,3,figsize=(16, 12))\n",
    "\n",
    "color = dict(boxes='DarkGreen', whiskers='DarkOrange',\n",
    "             medians='DarkBlue', caps='Gray')\n",
    "\n",
    "# boxplot do atributo Area\n",
    "kama.Area.plot(kind=\"box\", ax=ax[0][0],label=\"kama\",color =color,sym='r+', fontsize=10)\n",
    "rosa.Area.plot(kind=\"box\", ax=ax[0][1],label=\"rosa\",color=color,sym='r+', fontsize=10)\n",
    "canadian.Area.plot( kind=\"box\",ax=ax[0][2],label=\"canadian\",color=color,sym='r+', fontsize=10)\n",
    "\n",
    "# boxplot do atributo Perimeter\n",
    "kama.Perimeter.plot(kind=\"box\", ax=ax[1][0],label=\"kama\",color ='r',fontsize=10)\n",
    "rosa.Perimeter.plot(kind=\"box\", ax=ax[1][1],label=\"rosa\",color='b',fontsize=10)\n",
    "canadian.Perimeter.plot( kind=\"box\",ax=ax[1][2],label=\"canadian\",color='g',fontsize=10)\n",
    "\n",
    "# boxplot do atributo Asymmetry\n",
    "kama.Asymmetry.plot(kind=\"box\", ax=ax[2][0],label=\"kama\",color ='r',fontsize=10)\n",
    "rosa.Asymmetry.plot(kind=\"box\", ax=ax[2][1],label=\"rosa\",color='b',fontsize=10)\n",
    "canadian.Asymmetry.plot( kind=\"box\",ax=ax[2][2],label=\"canadian\",color='g',fontsize=10)\n",
    "\n",
    "ax[0][0].set(title='Area')\n",
    "ax[0][1].set(title='Area')\n",
    "ax[0][2].set(title='Area')\n",
    "ax[1][0].set(title='Perimeter')\n",
    "ax[1][1].set(title='Perimeter')\n",
    "ax[1][2].set(title='Perimeter')\n",
    "ax[2][0].set(title='Asymmetry')\n",
    "ax[2][1].set(title='Asymmetry')\n",
    "ax[2][2].set(title='Asymmetry')\n",
    "\n",
    "plt.savefig('boxplot.png')\n",
    "plt.show()"
   ]
  },
  {
   "cell_type": "markdown",
   "metadata": {},
   "source": [
    "### 4.3. SCATTER PLOT"
   ]
  },
  {
   "cell_type": "code",
   "execution_count": 90,
   "metadata": {
    "scrolled": true
   },
   "outputs": [
    {
     "data": {
      "image/png": "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\n",
      "text/plain": [
       "<Figure size 1512x432 with 3 Axes>"
      ]
     },
     "metadata": {},
     "output_type": "display_data"
    }
   ],
   "source": [
    "fig, ax = plt.subplots(1,3,figsize=(21, 6))\n",
    "\n",
    "kama.plot(x=\"Area\", y=\"Perimeter\", kind=\"scatter\",ax=ax[0],label='kama',color='r')\n",
    "rosa.plot(x=\"Area\",y=\"Perimeter\",kind=\"scatter\",ax=ax[0],label='rosa',color='b')\n",
    "canadian.plot(x=\"Area\", y=\"Perimeter\", kind=\"scatter\", ax=ax[0], label='canadian', color='g')\n",
    "\n",
    "kama.plot(x=\"Area\", y=\"Asymmetry\", kind=\"scatter\",ax=ax[1],label='kama',color='r')\n",
    "rosa.plot(x=\"Area\",y=\"Asymmetry\",kind=\"scatter\",ax=ax[1],label='rosa',color='b')\n",
    "canadian.plot(x=\"Area\", y=\"Asymmetry\", kind=\"scatter\", ax=ax[1], label='canadian', color='g')\n",
    "\n",
    "kama.plot(x=\"Perimeter\", y=\"Asymmetry\", kind=\"scatter\",ax=ax[2],label='kama',color='r')\n",
    "rosa.plot(x=\"Perimeter\",y=\"Asymmetry\",kind=\"scatter\",ax=ax[2],label='rosa',color='b')\n",
    "canadian.plot(x=\"Perimeter\", y=\"Asymmetry\", kind=\"scatter\", ax=ax[2], label='canadian', color='g')\n",
    "\n",
    "ax[0].set(title='Area x Perimeter comparasion ', ylabel='Perimeter')\n",
    "ax[1].set(title='Area x Asymmetry Comparasion',  ylabel='Asymetry')\n",
    "ax[2].set(title='Perimeter x Asymmetry Comparasion',  ylabel='Asymetry')\n",
    "ax[0].legend()\n",
    "ax[1].legend()\n",
    "ax[2].legend()\n",
    "plt.show()"
   ]
  },
  {
   "cell_type": "markdown",
   "metadata": {},
   "source": [
    "Os gráficos de dispersão referem-se como os dados estão dispostos. É também possível visualizar a correlação \n",
    "entre os atributos analisados.\n",
    "\n",
    "O gráfico Area x Perimeter ilustra uma correlação positiva forte, visto que o valor de X aumenta juntamente com o de Y. Nesse caso, é possível concluir que as sementes do tipo Canadian apresentam \"Area\" e \"Perimeter\" menores em relação os demais. \n",
    "\n",
    "Outro ponto de destaque é que através dos gráficos Area x Asymmetry e Perimeter x Asymmetry é possível identificar que não há correlação entre os atributos. Tendo em vista que esses apresentam maior discrepância entre si. "
   ]
  },
  {
   "cell_type": "code",
   "execution_count": 92,
   "metadata": {},
   "outputs": [
    {
     "data": {
      "image/png": "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\n",
      "text/plain": [
       "<Figure size 1512x432 with 2 Axes>"
      ]
     },
     "metadata": {},
     "output_type": "display_data"
    }
   ],
   "source": [
    "fig, ax = plt.subplots(1,2,figsize=(21, 6))\n",
    "\n",
    "kama.plot(x=\"Area\", y=\"Groove\", kind=\"scatter\",ax=ax[0],label='kama',color='r')\n",
    "rosa.plot(x=\"Area\",y=\"Groove\",kind=\"scatter\",ax=ax[0],label='rosa',color='b')\n",
    "canadian.plot(x=\"Area\", y=\"Groove\", kind=\"scatter\", ax=ax[0], label='canadian', color='g')\n",
    "\n",
    "\n",
    "kama.plot(x=\"Perimeter\", y=\"Groove\", kind=\"scatter\",ax=ax[1],label='kama',color='r')\n",
    "rosa.plot(x=\"Perimeter\",y=\"Groove\",kind=\"scatter\",ax=ax[1],label='rosa',color='b')\n",
    "canadian.plot(x=\"Perimeter\", y=\"Groove\", kind=\"scatter\", ax=ax[1], label='canadian', color='g')\n",
    "\n",
    "ax[0].set(title='Area x Groove ', ylabel='Perimeter')\n",
    "ax[1].set(title='Perimeter x Groove',  ylabel='Groove')\n",
    "ax[0].legend()\n",
    "ax[1].legend()\n",
    "plt.show()"
   ]
  },
  {
   "cell_type": "markdown",
   "metadata": {},
   "source": [
    "Diferente dos gráficos apresentados anteriormente, nesses é possível visualizar uma correlação positiva média. Ou seja, os valores de X crescem juntamente com os valores de Y, entretanto, os dados ainda apresentam dispersão. O \"groove\", ainda que pouco, influencia no valor de \"Area\" e \"Perimeter\".   "
   ]
  },
  {
   "cell_type": "markdown",
   "metadata": {},
   "source": [
    "### 5. Correlação entre os atributos"
   ]
  },
  {
   "cell_type": "code",
   "execution_count": 41,
   "metadata": {},
   "outputs": [
    {
     "data": {
      "image/png": "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\n",
      "text/plain": [
       "<Figure size 720x576 with 2 Axes>"
      ]
     },
     "metadata": {},
     "output_type": "display_data"
    }
   ],
   "source": [
    "f,ax = plt.subplots(figsize=(10, 8))\n",
    "sns.heatmap(df.iloc[:,0:8].corr(), annot=True, linewidths=.5, fmt= '.2f',ax=ax ,cmap=\"Blues\")\n",
    "plt.savefig('correlation.png')\n",
    "plt.show()"
   ]
  },
  {
   "cell_type": "markdown",
   "metadata": {},
   "source": [
    "Uma coraviância positiva alta significa que o valor de x tende a ser alto quando y é alto e pequeno quando y é pequeno. Uma covariância negativa alta significa o oposto - x tende a ser pequeno quando y é alto e vice-versa. Uma coraviância perto de zero quer dizer que  tal relação não existe. \n",
    "\n",
    "No dataset analisado, pode-se concluir que a relação entre os atributos \"area\", \"width\", \"length\", \"perimeter\" e \"groove\" é alto, visto que seus valores são maiores ou iguais a 0.86, as variáveis influenciam umas as outras. "
   ]
  },
  {
   "cell_type": "code",
   "execution_count": null,
   "metadata": {},
   "outputs": [],
   "source": []
  }
 ],
 "metadata": {
  "kernelspec": {
   "display_name": "Python 3",
   "language": "python",
   "name": "python3"
  },
  "language_info": {
   "codemirror_mode": {
    "name": "ipython",
    "version": 3
   },
   "file_extension": ".py",
   "mimetype": "text/x-python",
   "name": "python",
   "nbconvert_exporter": "python",
   "pygments_lexer": "ipython3",
   "version": "3.6.5"
  }
 },
 "nbformat": 4,
 "nbformat_minor": 2
}
