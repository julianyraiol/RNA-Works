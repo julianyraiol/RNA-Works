{
 "cells": [
  {
   "cell_type": "markdown",
   "metadata": {},
   "source": [
    "## Projeto 4\n",
    "## Aprendizado de Máquina com tarefa de classificação aplicado no dataset  de variedades de trigo\n",
    "\n",
    "Alunos: Juliany, Raí, Richardson\n",
    "\n",
    "### Introdução\n",
    "\n",
    "Três variedades de trigo (Kama, Rosa e Canadian) possuem sementes muito parecidas,\n",
    "entretanto diferentes. Um grupo de pesquisadores poloneses coletou 70 amostras de cada\n",
    "tipo e, usando uma técnica particular de raio-X, coletou medidas geométricas destas\n",
    "sementes, a citar: área, perímetro, compactude, comprimento, largura, coeficiente de\n",
    "assimetria e comprimento do sulco da semente.\n",
    "\n",
    "### Características dos atributos"
   ]
  },
  {
   "cell_type": "code",
   "execution_count": 104,
   "metadata": {},
   "outputs": [],
   "source": [
    "# Módulos utilizados no projeto\n",
    "\n",
    "import pandas as pd\n",
    "import numpy as np\n",
    "import random\n",
    "from sklearn.metrics import f1_score\n",
    "from sklearn.metrics import confusion_matrix\n",
    "from sklearn.neural_network import MLPClassifier\n",
    "from sklearn.model_selection import GridSearchCV\n",
    "from sklearn.model_selection import train_test_split\n",
    "import seaborn as sns\n",
    "import matplotlib.pyplot as plt\n",
    "% matplotlib inline\n",
    "sns.set()"
   ]
  },
  {
   "cell_type": "code",
   "execution_count": 70,
   "metadata": {},
   "outputs": [
    {
     "data": {
      "text/html": [
       "<div>\n",
       "<style scoped>\n",
       "    .dataframe tbody tr th:only-of-type {\n",
       "        vertical-align: middle;\n",
       "    }\n",
       "\n",
       "    .dataframe tbody tr th {\n",
       "        vertical-align: top;\n",
       "    }\n",
       "\n",
       "    .dataframe thead th {\n",
       "        text-align: right;\n",
       "    }\n",
       "</style>\n",
       "<table border=\"1\" class=\"dataframe\">\n",
       "  <thead>\n",
       "    <tr style=\"text-align: right;\">\n",
       "      <th></th>\n",
       "      <th>area</th>\n",
       "      <th>perimeter</th>\n",
       "      <th>compactness</th>\n",
       "      <th>length_of_kernel</th>\n",
       "      <th>width_of_kernel</th>\n",
       "      <th>asymmetry_coefficient</th>\n",
       "      <th>length_of_kernel_groove</th>\n",
       "      <th>target</th>\n",
       "    </tr>\n",
       "  </thead>\n",
       "  <tbody>\n",
       "    <tr>\n",
       "      <th>0</th>\n",
       "      <td>15.26</td>\n",
       "      <td>14.84</td>\n",
       "      <td>0.8710</td>\n",
       "      <td>5.763</td>\n",
       "      <td>3.312</td>\n",
       "      <td>2.221</td>\n",
       "      <td>5.220</td>\n",
       "      <td>1</td>\n",
       "    </tr>\n",
       "    <tr>\n",
       "      <th>1</th>\n",
       "      <td>14.88</td>\n",
       "      <td>14.57</td>\n",
       "      <td>0.8811</td>\n",
       "      <td>5.554</td>\n",
       "      <td>3.333</td>\n",
       "      <td>1.018</td>\n",
       "      <td>4.956</td>\n",
       "      <td>1</td>\n",
       "    </tr>\n",
       "    <tr>\n",
       "      <th>2</th>\n",
       "      <td>14.29</td>\n",
       "      <td>14.09</td>\n",
       "      <td>0.9050</td>\n",
       "      <td>5.291</td>\n",
       "      <td>3.337</td>\n",
       "      <td>2.699</td>\n",
       "      <td>4.825</td>\n",
       "      <td>1</td>\n",
       "    </tr>\n",
       "    <tr>\n",
       "      <th>3</th>\n",
       "      <td>13.84</td>\n",
       "      <td>13.94</td>\n",
       "      <td>0.8955</td>\n",
       "      <td>5.324</td>\n",
       "      <td>3.379</td>\n",
       "      <td>2.259</td>\n",
       "      <td>4.805</td>\n",
       "      <td>1</td>\n",
       "    </tr>\n",
       "    <tr>\n",
       "      <th>4</th>\n",
       "      <td>16.14</td>\n",
       "      <td>14.99</td>\n",
       "      <td>0.9034</td>\n",
       "      <td>5.658</td>\n",
       "      <td>3.562</td>\n",
       "      <td>1.355</td>\n",
       "      <td>5.175</td>\n",
       "      <td>1</td>\n",
       "    </tr>\n",
       "  </tbody>\n",
       "</table>\n",
       "</div>"
      ],
      "text/plain": [
       "    area  perimeter  compactness  length_of_kernel  width_of_kernel  \\\n",
       "0  15.26      14.84       0.8710             5.763            3.312   \n",
       "1  14.88      14.57       0.8811             5.554            3.333   \n",
       "2  14.29      14.09       0.9050             5.291            3.337   \n",
       "3  13.84      13.94       0.8955             5.324            3.379   \n",
       "4  16.14      14.99       0.9034             5.658            3.562   \n",
       "\n",
       "   asymmetry_coefficient  length_of_kernel_groove  target  \n",
       "0                  2.221                    5.220       1  \n",
       "1                  1.018                    4.956       1  \n",
       "2                  2.699                    4.825       1  \n",
       "3                  2.259                    4.805       1  \n",
       "4                  1.355                    5.175       1  "
      ]
     },
     "execution_count": 70,
     "metadata": {},
     "output_type": "execute_result"
    }
   ],
   "source": [
    "dataframe = pd.read_csv(\"../data/seeds_dataset.txt\", delim_whitespace = True)\n",
    "dataframe.head()"
   ]
  },
  {
   "cell_type": "markdown",
   "metadata": {},
   "source": [
    "### Treinamento"
   ]
  },
  {
   "cell_type": "code",
   "execution_count": 75,
   "metadata": {},
   "outputs": [],
   "source": [
    "X = dataframe.drop('target', axis=1)\n",
    "y = dataframe['target']"
   ]
  },
  {
   "cell_type": "code",
   "execution_count": 76,
   "metadata": {},
   "outputs": [],
   "source": [
    "X_train, X_test, y_train, y_test = train_test_split(X, y, test_size=0.3)"
   ]
  },
  {
   "cell_type": "code",
   "execution_count": 133,
   "metadata": {},
   "outputs": [],
   "source": [
    "rate  = [0.01, 0.05]\n",
    "epoch = 50\n",
    "a     = [0.5, 2, 3]\n",
    "\n",
    "max_iter   = [1000, 2000,  2500]\n",
    "neuron_out = np.arange(1, 15)\n",
    "neuron_ini = np.arange(1, 15)\n",
    "activation_functions = ['relu', 'logistic', 'identity']"
   ]
  },
  {
   "cell_type": "code",
   "execution_count": 161,
   "metadata": {},
   "outputs": [],
   "source": [
    "list_prediction = []"
   ]
  },
  {
   "cell_type": "code",
   "execution_count": 164,
   "metadata": {
    "scrolled": false
   },
   "outputs": [
    {
     "name": "stderr",
     "output_type": "stream",
     "text": [
      "/home/julianyraiol/anaconda3/lib/python3.6/site-packages/sklearn/metrics/classification.py:1135: UndefinedMetricWarning: F-score is ill-defined and being set to 0.0 in labels with no predicted samples.\n",
      "  'precision', 'predicted', average, warn_for)\n",
      "/home/julianyraiol/anaconda3/lib/python3.6/site-packages/sklearn/metrics/classification.py:1135: UndefinedMetricWarning: F-score is ill-defined and being set to 0.0 in labels with no predicted samples.\n",
      "  'precision', 'predicted', average, warn_for)\n",
      "/home/julianyraiol/anaconda3/lib/python3.6/site-packages/sklearn/metrics/classification.py:1135: UndefinedMetricWarning: F-score is ill-defined and being set to 0.0 in labels with no predicted samples.\n",
      "  'precision', 'predicted', average, warn_for)\n"
     ]
    }
   ],
   "source": [
    "for i in range(5):\n",
    "    ai  = random.choice(a)\n",
    "    ni  = random.choice(neuron_ini)\n",
    "    no  = random.choice(neuron_out)\n",
    "\n",
    "    nh  = ai*np.sqrt((ni*no))\n",
    "\n",
    "    activation_i = random.choice(activation)\n",
    "\n",
    "    parameters = dict([\n",
    "                    ('max_iter', max_iter),\n",
    "                    ('hidden_layer_sizes', (no,)),\n",
    "                    ('learning_rate_init', rate),\n",
    "                    ('activation', activation_functions)\n",
    "                ])\n",
    "\n",
    "    clf = GridSearchCV(MLPClassifier(), parameters, cv = 3)\n",
    "    clf.fit(X_train, y_train)\n",
    "    prediction = clf.predict(X_test)\n",
    "\n",
    "    f1score = f1_score(y_test, prediction, average = 'weighted')\n",
    "    list_prediction.append([f1score, prediction])"
   ]
  },
  {
   "cell_type": "code",
   "execution_count": 165,
   "metadata": {},
   "outputs": [
    {
     "data": {
      "text/plain": [
       "[[<function sklearn.metrics.classification.f1_score(y_true, y_pred, labels=None, pos_label=1, average='binary', sample_weight=None)>,\n",
       "  array([1, 2, 3, 2, 3, 2, 3, 3, 1, 3, 3, 1, 1, 2, 2, 3, 1, 1, 2, 1, 3, 1,\n",
       "         2, 3, 3, 2, 1, 3, 1, 2, 2, 2, 2, 2, 3, 2, 1, 2, 1, 1, 2, 3, 2, 2,\n",
       "         3, 3, 3, 2, 2, 2, 2, 1, 3, 1, 2, 2, 3, 2, 1, 1, 1, 3, 3])],\n",
       " [<function sklearn.metrics.classification.f1_score(y_true, y_pred, labels=None, pos_label=1, average='binary', sample_weight=None)>,\n",
       "  array([1, 2, 3, 2, 3, 2, 3, 3, 1, 3, 3, 1, 1, 2, 2, 3, 1, 1, 2, 1, 3, 1,\n",
       "         2, 3, 3, 2, 1, 3, 1, 2, 2, 2, 2, 2, 3, 2, 1, 2, 1, 1, 2, 3, 2, 2,\n",
       "         3, 3, 3, 2, 2, 2, 2, 1, 3, 1, 2, 2, 3, 2, 1, 1, 1, 3, 3])],\n",
       " [<function sklearn.metrics.classification.f1_score(y_true, y_pred, labels=None, pos_label=1, average='binary', sample_weight=None)>,\n",
       "  array([1, 2, 3, 2, 3, 2, 3, 3, 1, 3, 3, 1, 1, 2, 2, 3, 1, 1, 2, 1, 3, 1,\n",
       "         2, 3, 3, 2, 1, 3, 1, 2, 2, 2, 2, 2, 3, 2, 1, 2, 1, 1, 2, 3, 2, 2,\n",
       "         3, 3, 3, 2, 2, 2, 2, 1, 3, 1, 2, 2, 3, 2, 1, 1, 1, 3, 3])],\n",
       " [<function sklearn.metrics.classification.f1_score(y_true, y_pred, labels=None, pos_label=1, average='binary', sample_weight=None)>,\n",
       "  array([1, 2, 3, 2, 3, 2, 3, 3, 1, 3, 3, 1, 1, 2, 2, 3, 1, 1, 2, 1, 3, 1,\n",
       "         2, 3, 3, 2, 1, 3, 1, 2, 2, 2, 2, 2, 3, 2, 1, 2, 1, 1, 2, 3, 2, 2,\n",
       "         3, 3, 3, 2, 2, 2, 2, 1, 3, 1, 2, 2, 3, 2, 1, 1, 1, 3, 3])],\n",
       " [<function sklearn.metrics.classification.f1_score(y_true, y_pred, labels=None, pos_label=1, average='binary', sample_weight=None)>,\n",
       "  array([1, 1, 1, 1, 1, 1, 1, 1, 1, 1, 1, 1, 1, 1, 1, 1, 1, 1, 1, 1, 1, 1,\n",
       "         1, 1, 1, 1, 1, 1, 1, 1, 1, 1, 1, 1, 1, 1, 1, 1, 1, 1, 1, 1, 1, 1,\n",
       "         1, 1, 1, 1, 1, 1, 1, 1, 1, 1, 1, 1, 1, 1, 1, 1, 1, 1, 1])],\n",
       " [0.9688384839030463,\n",
       "  array([1, 2, 3, 2, 3, 2, 3, 3, 1, 3, 3, 1, 1, 2, 2, 3, 1, 1, 2, 1, 3, 1,\n",
       "         2, 3, 3, 2, 1, 3, 1, 2, 2, 2, 2, 2, 3, 2, 1, 2, 1, 1, 2, 3, 2, 2,\n",
       "         3, 3, 3, 2, 2, 2, 2, 1, 3, 1, 2, 2, 3, 2, 1, 1, 1, 3, 3])],\n",
       " [0.10287321679726742,\n",
       "  array([1, 1, 1, 1, 1, 1, 1, 1, 1, 1, 1, 1, 1, 1, 1, 1, 1, 1, 1, 1, 1, 1,\n",
       "         1, 1, 1, 1, 1, 1, 1, 1, 1, 1, 1, 1, 1, 1, 1, 1, 1, 1, 1, 1, 1, 1,\n",
       "         1, 1, 1, 1, 1, 1, 1, 1, 1, 1, 1, 1, 1, 1, 1, 1, 1, 1, 1])],\n",
       " [0.40679690679690683,\n",
       "  array([1, 3, 3, 1, 3, 1, 3, 3, 3, 3, 3, 3, 1, 1, 1, 3, 1, 1, 3, 1, 3, 1,\n",
       "         1, 3, 3, 1, 1, 3, 1, 1, 1, 1, 1, 1, 3, 1, 3, 3, 1, 3, 1, 3, 1, 3,\n",
       "         3, 3, 3, 3, 3, 1, 1, 1, 3, 1, 1, 1, 3, 3, 1, 1, 1, 3, 3])],\n",
       " [0.10287321679726742,\n",
       "  array([1, 1, 1, 1, 1, 1, 1, 1, 1, 1, 1, 1, 1, 1, 1, 1, 1, 1, 1, 1, 1, 1,\n",
       "         1, 1, 1, 1, 1, 1, 1, 1, 1, 1, 1, 1, 1, 1, 1, 1, 1, 1, 1, 1, 1, 1,\n",
       "         1, 1, 1, 1, 1, 1, 1, 1, 1, 1, 1, 1, 1, 1, 1, 1, 1, 1, 1])],\n",
       " [0.9688384839030463,\n",
       "  array([1, 2, 3, 2, 3, 2, 3, 3, 1, 3, 3, 1, 1, 2, 2, 3, 1, 1, 2, 1, 3, 1,\n",
       "         2, 3, 3, 2, 1, 3, 1, 2, 2, 2, 2, 2, 3, 2, 1, 2, 1, 1, 2, 3, 2, 2,\n",
       "         3, 3, 3, 2, 2, 2, 2, 1, 3, 1, 2, 2, 3, 2, 1, 1, 1, 3, 3])]]"
      ]
     },
     "execution_count": 165,
     "metadata": {},
     "output_type": "execute_result"
    }
   ],
   "source": [
    "list_prediction"
   ]
  },
  {
   "cell_type": "code",
   "execution_count": null,
   "metadata": {},
   "outputs": [],
   "source": []
  }
 ],
 "metadata": {
  "kernelspec": {
   "display_name": "Python 3",
   "language": "python",
   "name": "python3"
  },
  "language_info": {
   "codemirror_mode": {
    "name": "ipython",
    "version": 3
   },
   "file_extension": ".py",
   "mimetype": "text/x-python",
   "name": "python",
   "nbconvert_exporter": "python",
   "pygments_lexer": "ipython3",
   "version": "3.6.5"
  }
 },
 "nbformat": 4,
 "nbformat_minor": 2
}
