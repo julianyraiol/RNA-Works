{
 "cells": [
  {
   "cell_type": "markdown",
   "metadata": {},
   "source": [
    "## Projeto 4\n",
    "## Aprendizado de Máquina com tarefa de classificação aplicado no dataset  de variedades de trigo\n",
    "\n",
    "Alunos: Juliany, Raí, Richardson\n",
    "\n",
    "### Introdução\n",
    "\n",
    "Três variedades de trigo (Kama, Rosa e Canadian) possuem sementes muito parecidas,\n",
    "entretanto diferentes. Um grupo de pesquisadores poloneses coletou 70 amostras de cada\n",
    "tipo e, usando uma técnica particular de raio-X, coletou medidas geométricas destas\n",
    "sementes, a citar: área, perímetro, compactude, comprimento, largura, coeficiente de\n",
    "assimetria e comprimento do sulco da semente.\n",
    "\n",
    "### Características dos atributos"
   ]
  },
  {
   "cell_type": "code",
   "execution_count": 1,
   "metadata": {},
   "outputs": [],
   "source": [
    "# Módulos utilizados no projeto\n",
    "\n",
    "import pandas as pd\n",
    "import numpy as np\n",
    "import random\n",
    "from sklearn.metrics import f1_score\n",
    "from sklearn.metrics import confusion_matrix\n",
    "from sklearn.neural_network import MLPClassifier\n",
    "from sklearn.model_selection import GridSearchCV\n",
    "from sklearn.model_selection import train_test_split\n",
    "import seaborn as sns\n",
    "import matplotlib.pyplot as plt\n",
    "% matplotlib inline\n",
    "sns.set()"
   ]
  },
  {
   "cell_type": "code",
   "execution_count": 8,
   "metadata": {},
   "outputs": [],
   "source": [
    "names = [\"Area\", \"Perimeter\", \"Compactness\", \"Length\", \"Width\", \"Asymmetry\", \"Groove\", \"Seed\"]\n",
    "\n",
    "df = pd.read_csv('../../data/seeds_dataset.txt', delim_whitespace=True, names = names)"
   ]
  },
  {
   "cell_type": "markdown",
   "metadata": {},
   "source": [
    "### Treinamento"
   ]
  },
  {
   "cell_type": "code",
   "execution_count": 9,
   "metadata": {},
   "outputs": [],
   "source": [
    "X = df.drop('Seed', axis=1)\n",
    "y = df['Seed']"
   ]
  },
  {
   "cell_type": "code",
   "execution_count": 10,
   "metadata": {},
   "outputs": [],
   "source": [
    "X_train, X_test, y_train, y_test = train_test_split(X, y, test_size=0.3)"
   ]
  },
  {
   "cell_type": "code",
   "execution_count": 15,
   "metadata": {},
   "outputs": [],
   "source": [
    "rate  = [0.01, 0.05]\n",
    "epoch = 50\n",
    "a     = [0.5, 2, 3]\n",
    "\n",
    "max_iter   = [1000, 2000,  2500]\n",
    "neuron_out = np.arange(1, 15)\n",
    "neuron_ini = np.arange(1, 15)\n",
    "activation_functions = ['relu', 'logistic', 'identity']"
   ]
  },
  {
   "cell_type": "code",
   "execution_count": 16,
   "metadata": {},
   "outputs": [],
   "source": [
    "list_prediction = []"
   ]
  },
  {
   "cell_type": "code",
   "execution_count": 18,
   "metadata": {
    "scrolled": false
   },
   "outputs": [
    {
     "name": "stderr",
     "output_type": "stream",
     "text": [
      "/home/julianyraiol/anaconda3/lib/python3.6/site-packages/sklearn/metrics/classification.py:1135: UndefinedMetricWarning: F-score is ill-defined and being set to 0.0 in labels with no predicted samples.\n",
      "  'precision', 'predicted', average, warn_for)\n"
     ]
    }
   ],
   "source": [
    "for i in range(5):\n",
    "    ai  = random.choice(a)\n",
    "    ni  = random.choice(neuron_ini)\n",
    "    no  = random.choice(neuron_out)\n",
    "\n",
    "    nh  = ai*np.sqrt((ni*no))\n",
    "\n",
    "    parameters = dict([\n",
    "                    ('max_iter', max_iter),\n",
    "                    ('hidden_layer_sizes', (no,)),\n",
    "                    ('learning_rate_init', rate),\n",
    "                    ('activation', activation_functions)\n",
    "                ])\n",
    "\n",
    "    clf = GridSearchCV(MLPClassifier(), parameters, cv = 3)\n",
    "    clf.fit(X_train, y_train)\n",
    "    prediction = clf.predict(X_test)\n",
    "\n",
    "    f1score = f1_score(y_test, prediction, average = 'weighted')\n",
    "    list_prediction.append([f1score, prediction])"
   ]
  },
  {
   "cell_type": "code",
   "execution_count": 38,
   "metadata": {},
   "outputs": [
    {
     "name": "stdout",
     "output_type": "stream",
     "text": [
      "\n",
      "-------------------------------------\n",
      "\n",
      "\n",
      "Rede: 0 \n",
      "\n",
      "F1_SCORE:  0.9065003779289493\n",
      "\n",
      "Matriz de Confusão\n",
      "\n",
      "[[17  1  4]\n",
      " [ 1 21  0]\n",
      " [ 0  0 19]]\n",
      "\n",
      "-------------------------------------\n",
      "\n",
      "\n",
      "Rede: 1 \n",
      "\n",
      "F1_SCORE:  0.12698412698412698\n",
      "\n",
      "Matriz de Confusão\n",
      "\n",
      "[[17  1  4]\n",
      " [ 1 21  0]\n",
      " [ 0  0 19]]\n",
      "\n",
      "-------------------------------------\n",
      "\n",
      "\n",
      "Rede: 2 \n",
      "\n",
      "F1_SCORE:  0.9065003779289493\n",
      "\n",
      "Matriz de Confusão\n",
      "\n",
      "[[17  1  4]\n",
      " [ 1 21  0]\n",
      " [ 0  0 19]]\n",
      "\n",
      "-------------------------------------\n",
      "\n",
      "\n",
      "Rede: 3 \n",
      "\n",
      "F1_SCORE:  0.9065003779289493\n",
      "\n",
      "Matriz de Confusão\n",
      "\n",
      "[[17  1  4]\n",
      " [ 1 21  0]\n",
      " [ 0  0 19]]\n",
      "\n",
      "-------------------------------------\n",
      "\n",
      "\n",
      "Rede: 4 \n",
      "\n",
      "F1_SCORE:  0.9065003779289493\n",
      "\n",
      "Matriz de Confusão\n",
      "\n",
      "[[17  1  4]\n",
      " [ 1 21  0]\n",
      " [ 0  0 19]]\n"
     ]
    }
   ],
   "source": [
    "for i in range(len(list_prediction)):\n",
    "    f1score = list_prediction[i][0]\n",
    "    print(\"\\n-------------------------------------\\n\\n\")\n",
    "    print(\"Rede:\", i, \"\\n\")\n",
    "    print(\"F1_SCORE: \", f1score)\n",
    "    print(\"\\nMatriz de Confusão\\n\")\n",
    "    print(confusion_matrix(prediction, y_test))"
   ]
  },
  {
   "cell_type": "code",
   "execution_count": null,
   "metadata": {},
   "outputs": [],
   "source": []
  }
 ],
 "metadata": {
  "kernelspec": {
   "display_name": "Python 3",
   "language": "python",
   "name": "python3"
  },
  "language_info": {
   "codemirror_mode": {
    "name": "ipython",
    "version": 3
   },
   "file_extension": ".py",
   "mimetype": "text/x-python",
   "name": "python",
   "nbconvert_exporter": "python",
   "pygments_lexer": "ipython3",
   "version": "3.6.5"
  }
 },
 "nbformat": 4,
 "nbformat_minor": 2
}
